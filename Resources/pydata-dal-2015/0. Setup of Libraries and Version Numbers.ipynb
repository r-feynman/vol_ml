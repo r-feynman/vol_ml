{
 "metadata": {
  "name": "",
  "signature": "sha256:34e51094fda559562e441fae4188701d71180285dc79fc640da668ecb101d492"
 },
 "nbformat": 3,
 "nbformat_minor": 0,
 "worksheets": [
  {
   "cells": [
    {
     "cell_type": "markdown",
     "metadata": {},
     "source": [
      "In order to have the plots inside of the notebook:"
     ]
    },
    {
     "cell_type": "code",
     "collapsed": false,
     "input": [
      "%matplotlib inline "
     ],
     "language": "python",
     "metadata": {},
     "outputs": [],
     "prompt_number": 1
    },
    {
     "cell_type": "markdown",
     "metadata": {},
     "source": [
      "#### Libraries that we will use in other notebooks"
     ]
    },
    {
     "cell_type": "code",
     "collapsed": false,
     "input": [
      "import sys\n",
      "import matplotlib as mlp\n",
      "import matplotlib.pyplot as plt\n",
      "import numpy as np\n",
      "import pandas as pd\n",
      "import sklearn\n",
      "import scipy\n",
      "import IPython\n",
      "import seaborn as sns\n",
      "\n",
      "print('Python version: {}\\n'.format(sys.version))\n",
      "print(np.__version__)\n",
      "print(mlp.__version__)\n",
      "print(pd.__version__)\n",
      "print(sklearn.__version__)\n",
      "print(scipy.__version__)\n",
      "print(IPython.__version__)\n",
      "print(sns.__version__)"
     ],
     "language": "python",
     "metadata": {},
     "outputs": [
      {
       "output_type": "stream",
       "stream": "stdout",
       "text": [
        "Python version: 2.7.9 |Anaconda 2.1.0 (x86_64)| (default, Dec 15 2014, 10:37:34) \n",
        "[GCC 4.2.1 (Apple Inc. build 5577)]\n",
        "\n",
        "1.9.2\n",
        "1.4.0\n",
        "0.14.1\n",
        "0.16.0\n",
        "0.15.1\n",
        "2.2.0\n",
        "0.5.0\n"
       ]
      }
     ],
     "prompt_number": 2
    },
    {
     "cell_type": "markdown",
     "metadata": {},
     "source": [
      "Make sure that Seaborn has the `0.5.0` version as it does not have `heatmap` function that I will use to visualize the confusion matrix"
     ]
    },
    {
     "cell_type": "code",
     "collapsed": false,
     "input": [
      "assert np.__version__ == '1.9.2'\n",
      "assert mlp.__version__ == '1.4.0'\n",
      "assert pd.__version__ == '0.14.1'\n",
      "assert sklearn.__version__ == '0.16.0'\n",
      "assert scipy.__version__ == '0.15.1'\n",
      "assert IPython.__version__ == '2.2.0'\n",
      "assert sns.__version__ == '0.5.0'"
     ],
     "language": "python",
     "metadata": {},
     "outputs": [],
     "prompt_number": 6
    },
    {
     "cell_type": "markdown",
     "metadata": {},
     "source": [
      "This is the exact environment of my setup, if you have updated versions of the libraries and/or anaconda, it should be fine. "
     ]
    }
   ],
   "metadata": {}
  }
 ]
}