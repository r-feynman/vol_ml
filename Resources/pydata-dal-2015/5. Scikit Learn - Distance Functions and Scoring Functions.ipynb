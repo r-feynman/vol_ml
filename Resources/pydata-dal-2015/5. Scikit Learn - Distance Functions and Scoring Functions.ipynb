{
 "cells": [
  {
   "cell_type": "markdown",
   "metadata": {},
   "source": [
    "## Distance and Scoring Functions\n",
    "If people asked me to name one thing that has been constantly ignored or not given importance in machine learning, first thing\n",
    "from top of my head would be evaluation. That is partially because some contexts(search, recommender systems) it is somehow difficult to build an evaluation function that first perfectly aligns with the business logic. Partially, people end up measuring and optimizing towards wrong thing or not the _best_ thing for the business problem. \n",
    "\n",
    "Consider the following scenario; you are predicting the number of items sold for a variety of items in a distribution problem. Assume that most of the businesses that require these items are small businesses, so they require small number of items. Large business require large number of items but comparing to small businesses their number is much less. Further, assume that errors in the number of items sold in the prediction would result in a big problem for small businesses as they struggle to sell. However, large number of items in error for large businesses may not cause a big problem for them as they could sell somehow items easier than small businesses.\n",
    "\n",
    "For this application $l_2$(RMSE) may not make sense, because you will have errors in small quantitites and even if you are optimizing total error to be smallest, you are not optimizing for the business logic. $l_2$ results in small errors in large number of observations(small errors for both large businesses and small businesses).\n",
    "\n",
    "$l_1$ could be better evaluation distance function when you compute the error, even if its value may exceed $l_2$. $l_1$ produces rather sparse error distribution and if you penalize the number of items to error, it will shrink the error to large number of businesses which is an optimal state for the business logic. \n",
    "\n",
    "At this point, one needs to also think, maybe the evaluation function should not be the number of items to be sold, but rather $\\sum p(items * \\text{probability of an item is sold } |\\text{ business}_i)$. \n",
    "\n",
    "Of course, evaluation does not really mean anything without a proper evaluation function. If you are predicting $\\hat{y}$ and want to measure cost function from $y$, distance function that you will use is crucially important as it will determine the __model__. So, the distance function as well as what type of scoring function is using in the evaluation is quite important for how your model performs."
   ]
  },
  {
   "cell_type": "markdown",
   "metadata": {},
   "source": [
    "Luckily, Scikit-Learn comes with a lot of distance and scoring functions out of the box. If you want another distance and scoring function, separate from these, it is easy to build one based on your needs as well. This makes it very convenient to try different scoring methods when you do the model selection. "
   ]
  },
  {
   "cell_type": "markdown",
   "metadata": {},
   "source": [
    "### Evaluation Methods for Unsupervised Learning Algorithm\n",
    "It is relatively harder problem to evaluate a learning algorithm in an unsupervised setting as there is no ground truth labels for each class and model selection is not only concerned by the model itself but also the number of classes that the model is setting in the learning algorithm. \n",
    "\n",
    "As in the supervised learning algorithm case, Scikit-Learn provides a variety of scoring functions out of the box to compute various metrics for a given clustering algorithm or compare multiple ones based on a single metric and preferably same number of clusters. `homogeneity_score`, `completeness_score` and `v_measure_score`(harmonic mean of `homogeneity_score` and `completeness_score`) are examples of these scores."
   ]
  },
  {
   "cell_type": "code",
   "execution_count": 1,
   "metadata": {
    "collapsed": false
   },
   "outputs": [],
   "source": [
    "% matplotlib inline\n",
    "import itertools\n",
    "import matplotlib.pyplot as plt\n",
    "import os\n",
    "import pandas as pd\n",
    "import seaborn as sns\n",
    "from sklearn import cluster\n",
    "from sklearn import cross_validation\n",
    "from sklearn import datasets\n",
    "from sklearn import ensemble\n",
    "from sklearn import linear_model\n",
    "from sklearn import metrics\n",
    "from sklearn import naive_bayes\n",
    "from sklearn import preprocessing\n",
    "from sklearn import svm\n",
    "from sklearn import tree\n",
    "\n",
    "plt.style.use('fivethirtyeight')"
   ]
  },
  {
   "cell_type": "markdown",
   "metadata": {},
   "source": [
    "### Scoring Functions"
   ]
  },
  {
   "cell_type": "markdown",
   "metadata": {},
   "source": [
    "#### Custom Metric Functions"
   ]
  },
  {
   "cell_type": "code",
   "execution_count": 2,
   "metadata": {
    "collapsed": false
   },
   "outputs": [
    {
     "data": {
      "text/plain": [
       "{'accuracy': make_scorer(accuracy_score),\n",
       " 'adjusted_rand_score': make_scorer(adjusted_rand_score),\n",
       " 'average_precision': make_scorer(average_precision_score, needs_threshold=True),\n",
       " 'f1': make_scorer(f1_score),\n",
       " 'f1_macro': <repr(<sklearn.metrics.scorer._PredictScorer at 0x10970c110>) failed: AttributeError: 'functools.partial' object has no attribute '__name__'>,\n",
       " 'f1_micro': <repr(<sklearn.metrics.scorer._PredictScorer at 0x10970c150>) failed: AttributeError: 'functools.partial' object has no attribute '__name__'>,\n",
       " 'f1_samples': <repr(<sklearn.metrics.scorer._PredictScorer at 0x10970c190>) failed: AttributeError: 'functools.partial' object has no attribute '__name__'>,\n",
       " 'f1_weighted': <repr(<sklearn.metrics.scorer._PredictScorer at 0x10970c1d0>) failed: AttributeError: 'functools.partial' object has no attribute '__name__'>,\n",
       " 'log_loss': make_scorer(log_loss, greater_is_better=False, needs_proba=True),\n",
       " 'mean_absolute_error': make_scorer(mean_absolute_error, greater_is_better=False),\n",
       " 'mean_squared_error': make_scorer(mean_squared_error, greater_is_better=False),\n",
       " 'median_absolute_error': make_scorer(median_absolute_error, greater_is_better=False),\n",
       " 'precision': make_scorer(precision_score),\n",
       " 'precision_macro': <repr(<sklearn.metrics.scorer._PredictScorer at 0x109700e50>) failed: AttributeError: 'functools.partial' object has no attribute '__name__'>,\n",
       " 'precision_micro': <repr(<sklearn.metrics.scorer._PredictScorer at 0x109700e90>) failed: AttributeError: 'functools.partial' object has no attribute '__name__'>,\n",
       " 'precision_samples': <repr(<sklearn.metrics.scorer._PredictScorer at 0x109700ed0>) failed: AttributeError: 'functools.partial' object has no attribute '__name__'>,\n",
       " 'precision_weighted': <repr(<sklearn.metrics.scorer._PredictScorer at 0x109700f10>) failed: AttributeError: 'functools.partial' object has no attribute '__name__'>,\n",
       " 'r2': make_scorer(r2_score),\n",
       " 'recall': make_scorer(recall_score),\n",
       " 'recall_macro': <repr(<sklearn.metrics.scorer._PredictScorer at 0x109700f90>) failed: AttributeError: 'functools.partial' object has no attribute '__name__'>,\n",
       " 'recall_micro': <repr(<sklearn.metrics.scorer._PredictScorer at 0x109700fd0>) failed: AttributeError: 'functools.partial' object has no attribute '__name__'>,\n",
       " 'recall_samples': <repr(<sklearn.metrics.scorer._PredictScorer at 0x10970c050>) failed: AttributeError: 'functools.partial' object has no attribute '__name__'>,\n",
       " 'recall_weighted': <repr(<sklearn.metrics.scorer._PredictScorer at 0x10970c090>) failed: AttributeError: 'functools.partial' object has no attribute '__name__'>,\n",
       " 'roc_auc': make_scorer(roc_auc_score, needs_threshold=True)}"
      ]
     },
     "execution_count": 2,
     "metadata": {},
     "output_type": "execute_result"
    }
   ],
   "source": [
    "metrics.SCORERS"
   ]
  },
  {
   "cell_type": "code",
   "execution_count": 3,
   "metadata": {
    "collapsed": false
   },
   "outputs": [],
   "source": [
    "scoring_funcs = [ii for ii in dir(metrics) if 'score' in ii and not ii.startswith('_')]"
   ]
  },
  {
   "cell_type": "code",
   "execution_count": 4,
   "metadata": {
    "collapsed": false
   },
   "outputs": [
    {
     "data": {
      "text/plain": [
       "['accuracy_score',\n",
       " 'adjusted_mutual_info_score',\n",
       " 'adjusted_rand_score',\n",
       " 'average_precision_score',\n",
       " 'brier_score_loss',\n",
       " 'completeness_score',\n",
       " 'consensus_score',\n",
       " 'explained_variance_score',\n",
       " 'f1_score',\n",
       " 'fbeta_score',\n",
       " 'get_scorer',\n",
       " 'homogeneity_score',\n",
       " 'jaccard_similarity_score',\n",
       " 'label_ranking_average_precision_score',\n",
       " 'make_scorer',\n",
       " 'mutual_info_score',\n",
       " 'normalized_mutual_info_score',\n",
       " 'precision_recall_fscore_support',\n",
       " 'precision_score',\n",
       " 'r2_score',\n",
       " 'recall_score',\n",
       " 'roc_auc_score',\n",
       " 'scorer',\n",
       " 'silhouette_score',\n",
       " 'v_measure_score']"
      ]
     },
     "execution_count": 4,
     "metadata": {},
     "output_type": "execute_result"
    }
   ],
   "source": [
    "scoring_funcs"
   ]
  },
  {
   "cell_type": "code",
   "execution_count": 5,
   "metadata": {
    "collapsed": false
   },
   "outputs": [],
   "source": [
    "_DATA_DIR = 'data'\n",
    "_TRAINING_DATA_PATH = os.path.join(_DATA_DIR, 'userart-mat-training.csv')\n",
    "_TEST_DATA_PATH = os.path.join(_DATA_DIR, 'userart-mat-test.csv')\n",
    "_ARTIST_TAGS_PATH = os.path.join(_DATA_DIR, 'artists-tags.txt')"
   ]
  },
  {
   "cell_type": "code",
   "execution_count": 6,
   "metadata": {
    "collapsed": false
   },
   "outputs": [],
   "source": [
    "df = pd.read_csv(_TRAINING_DATA_PATH)"
   ]
  },
  {
   "cell_type": "code",
   "execution_count": 7,
   "metadata": {
    "collapsed": false
   },
   "outputs": [
    {
     "data": {
      "text/html": [
       "<div style=\"max-height:1000px;max-width:1500px;overflow:auto;\">\n",
       "<table border=\"1\" class=\"dataframe\">\n",
       "  <thead>\n",
       "    <tr style=\"text-align: right;\">\n",
       "      <th></th>\n",
       "      <th>ArtistID</th>\n",
       "      <th>user_000001</th>\n",
       "      <th>user_000002</th>\n",
       "      <th>user_000003</th>\n",
       "      <th>user_000004</th>\n",
       "      <th>user_000005</th>\n",
       "      <th>user_000006</th>\n",
       "      <th>user_000007</th>\n",
       "      <th>user_000008</th>\n",
       "      <th>user_000009</th>\n",
       "      <th>...</th>\n",
       "      <th>user_000890</th>\n",
       "      <th>user_000891</th>\n",
       "      <th>user_000892</th>\n",
       "      <th>user_000893</th>\n",
       "      <th>user_000894</th>\n",
       "      <th>user_000895</th>\n",
       "      <th>user_000896</th>\n",
       "      <th>user_000897</th>\n",
       "      <th>user_000898</th>\n",
       "      <th>user_000899</th>\n",
       "    </tr>\n",
       "  </thead>\n",
       "  <tbody>\n",
       "    <tr>\n",
       "      <th>0</th>\n",
       "      <td> c489cd1c-d8d3-4dcc-b7b9-dcf7cd95d2ed</td>\n",
       "      <td> 0</td>\n",
       "      <td> 0</td>\n",
       "      <td> 0</td>\n",
       "      <td> 0</td>\n",
       "      <td> 0</td>\n",
       "      <td> 0</td>\n",
       "      <td> 0</td>\n",
       "      <td> 0</td>\n",
       "      <td> 0</td>\n",
       "      <td>...</td>\n",
       "      <td> 0</td>\n",
       "      <td> 0</td>\n",
       "      <td> 0</td>\n",
       "      <td> 0</td>\n",
       "      <td> 0</td>\n",
       "      <td> 0</td>\n",
       "      <td> 0</td>\n",
       "      <td> 0</td>\n",
       "      <td> 0</td>\n",
       "      <td> 0</td>\n",
       "    </tr>\n",
       "    <tr>\n",
       "      <th>1</th>\n",
       "      <td> 9ccbb935-33fd-4df8-ae2d-779497c5630a</td>\n",
       "      <td> 0</td>\n",
       "      <td> 0</td>\n",
       "      <td> 0</td>\n",
       "      <td> 0</td>\n",
       "      <td> 0</td>\n",
       "      <td> 0</td>\n",
       "      <td> 0</td>\n",
       "      <td> 0</td>\n",
       "      <td> 0</td>\n",
       "      <td>...</td>\n",
       "      <td> 0</td>\n",
       "      <td> 0</td>\n",
       "      <td> 0</td>\n",
       "      <td> 0</td>\n",
       "      <td> 0</td>\n",
       "      <td> 0</td>\n",
       "      <td> 0</td>\n",
       "      <td> 0</td>\n",
       "      <td> 0</td>\n",
       "      <td> 0</td>\n",
       "    </tr>\n",
       "    <tr>\n",
       "      <th>2</th>\n",
       "      <td> c71b2cc1-2737-4f76-bbf2-9ee505b4d90d</td>\n",
       "      <td> 0</td>\n",
       "      <td> 0</td>\n",
       "      <td> 0</td>\n",
       "      <td> 0</td>\n",
       "      <td> 0</td>\n",
       "      <td> 0</td>\n",
       "      <td> 0</td>\n",
       "      <td> 0</td>\n",
       "      <td> 0</td>\n",
       "      <td>...</td>\n",
       "      <td> 0</td>\n",
       "      <td> 0</td>\n",
       "      <td> 0</td>\n",
       "      <td> 0</td>\n",
       "      <td> 0</td>\n",
       "      <td> 0</td>\n",
       "      <td> 0</td>\n",
       "      <td> 0</td>\n",
       "      <td> 1</td>\n",
       "      <td> 0</td>\n",
       "    </tr>\n",
       "    <tr>\n",
       "      <th>3</th>\n",
       "      <td> 0aa8294b-6332-4b65-b677-e3a1f8591d3b</td>\n",
       "      <td> 0</td>\n",
       "      <td> 0</td>\n",
       "      <td> 0</td>\n",
       "      <td> 0</td>\n",
       "      <td> 0</td>\n",
       "      <td> 0</td>\n",
       "      <td> 0</td>\n",
       "      <td> 0</td>\n",
       "      <td> 0</td>\n",
       "      <td>...</td>\n",
       "      <td> 0</td>\n",
       "      <td> 0</td>\n",
       "      <td> 0</td>\n",
       "      <td> 0</td>\n",
       "      <td> 0</td>\n",
       "      <td> 0</td>\n",
       "      <td> 0</td>\n",
       "      <td> 0</td>\n",
       "      <td> 0</td>\n",
       "      <td> 0</td>\n",
       "    </tr>\n",
       "    <tr>\n",
       "      <th>4</th>\n",
       "      <td> 67673557-2310-41d3-83b9-e6e0cb1d65d5</td>\n",
       "      <td> 0</td>\n",
       "      <td> 0</td>\n",
       "      <td> 0</td>\n",
       "      <td> 0</td>\n",
       "      <td> 0</td>\n",
       "      <td> 0</td>\n",
       "      <td> 0</td>\n",
       "      <td> 0</td>\n",
       "      <td> 0</td>\n",
       "      <td>...</td>\n",
       "      <td> 0</td>\n",
       "      <td> 0</td>\n",
       "      <td> 0</td>\n",
       "      <td> 0</td>\n",
       "      <td> 0</td>\n",
       "      <td> 0</td>\n",
       "      <td> 0</td>\n",
       "      <td> 0</td>\n",
       "      <td> 0</td>\n",
       "      <td> 0</td>\n",
       "    </tr>\n",
       "    <tr>\n",
       "      <th>5</th>\n",
       "      <td> 69ead53e-b2d4-45f4-b777-71363fdeff28</td>\n",
       "      <td> 0</td>\n",
       "      <td> 0</td>\n",
       "      <td> 0</td>\n",
       "      <td> 0</td>\n",
       "      <td> 0</td>\n",
       "      <td> 0</td>\n",
       "      <td> 0</td>\n",
       "      <td> 0</td>\n",
       "      <td> 0</td>\n",
       "      <td>...</td>\n",
       "      <td> 0</td>\n",
       "      <td> 0</td>\n",
       "      <td> 0</td>\n",
       "      <td> 0</td>\n",
       "      <td> 0</td>\n",
       "      <td> 0</td>\n",
       "      <td> 0</td>\n",
       "      <td> 1</td>\n",
       "      <td> 0</td>\n",
       "      <td> 0</td>\n",
       "    </tr>\n",
       "    <tr>\n",
       "      <th>6</th>\n",
       "      <td> 5a092e7c-faa9-45d0-88c6-052205804e6c</td>\n",
       "      <td> 0</td>\n",
       "      <td> 0</td>\n",
       "      <td> 0</td>\n",
       "      <td> 0</td>\n",
       "      <td> 0</td>\n",
       "      <td> 0</td>\n",
       "      <td> 0</td>\n",
       "      <td> 0</td>\n",
       "      <td> 0</td>\n",
       "      <td>...</td>\n",
       "      <td> 0</td>\n",
       "      <td> 0</td>\n",
       "      <td> 0</td>\n",
       "      <td> 0</td>\n",
       "      <td> 0</td>\n",
       "      <td> 0</td>\n",
       "      <td> 0</td>\n",
       "      <td> 0</td>\n",
       "      <td> 0</td>\n",
       "      <td> 0</td>\n",
       "    </tr>\n",
       "    <tr>\n",
       "      <th>7</th>\n",
       "      <td> 81fdb05d-3f73-4c38-bf69-d3c642a04439</td>\n",
       "      <td> 0</td>\n",
       "      <td> 0</td>\n",
       "      <td> 0</td>\n",
       "      <td> 0</td>\n",
       "      <td> 0</td>\n",
       "      <td> 0</td>\n",
       "      <td> 0</td>\n",
       "      <td> 0</td>\n",
       "      <td> 0</td>\n",
       "      <td>...</td>\n",
       "      <td> 0</td>\n",
       "      <td> 0</td>\n",
       "      <td> 0</td>\n",
       "      <td> 0</td>\n",
       "      <td> 0</td>\n",
       "      <td> 0</td>\n",
       "      <td> 0</td>\n",
       "      <td> 0</td>\n",
       "      <td> 0</td>\n",
       "      <td> 0</td>\n",
       "    </tr>\n",
       "    <tr>\n",
       "      <th>8</th>\n",
       "      <td> b0f475fe-ad28-4cf8-92f0-b5ca978004b1</td>\n",
       "      <td> 0</td>\n",
       "      <td> 0</td>\n",
       "      <td> 0</td>\n",
       "      <td> 0</td>\n",
       "      <td> 0</td>\n",
       "      <td> 0</td>\n",
       "      <td> 0</td>\n",
       "      <td> 0</td>\n",
       "      <td> 0</td>\n",
       "      <td>...</td>\n",
       "      <td> 0</td>\n",
       "      <td> 0</td>\n",
       "      <td> 1</td>\n",
       "      <td> 0</td>\n",
       "      <td> 0</td>\n",
       "      <td> 0</td>\n",
       "      <td> 0</td>\n",
       "      <td> 0</td>\n",
       "      <td> 0</td>\n",
       "      <td> 0</td>\n",
       "    </tr>\n",
       "    <tr>\n",
       "      <th>9</th>\n",
       "      <td> 6994f98a-a41e-4d74-af5b-9e3fab3c19b4</td>\n",
       "      <td> 0</td>\n",
       "      <td> 0</td>\n",
       "      <td> 0</td>\n",
       "      <td> 0</td>\n",
       "      <td> 0</td>\n",
       "      <td> 0</td>\n",
       "      <td> 0</td>\n",
       "      <td> 0</td>\n",
       "      <td> 0</td>\n",
       "      <td>...</td>\n",
       "      <td> 0</td>\n",
       "      <td> 0</td>\n",
       "      <td> 0</td>\n",
       "      <td> 0</td>\n",
       "      <td> 0</td>\n",
       "      <td> 0</td>\n",
       "      <td> 0</td>\n",
       "      <td> 0</td>\n",
       "      <td> 0</td>\n",
       "      <td> 0</td>\n",
       "    </tr>\n",
       "  </tbody>\n",
       "</table>\n",
       "<p>10 rows × 847 columns</p>\n",
       "</div>"
      ],
      "text/plain": [
       "                               ArtistID  user_000001  user_000002  \\\n",
       "0  c489cd1c-d8d3-4dcc-b7b9-dcf7cd95d2ed            0            0   \n",
       "1  9ccbb935-33fd-4df8-ae2d-779497c5630a            0            0   \n",
       "2  c71b2cc1-2737-4f76-bbf2-9ee505b4d90d            0            0   \n",
       "3  0aa8294b-6332-4b65-b677-e3a1f8591d3b            0            0   \n",
       "4  67673557-2310-41d3-83b9-e6e0cb1d65d5            0            0   \n",
       "5  69ead53e-b2d4-45f4-b777-71363fdeff28            0            0   \n",
       "6  5a092e7c-faa9-45d0-88c6-052205804e6c            0            0   \n",
       "7  81fdb05d-3f73-4c38-bf69-d3c642a04439            0            0   \n",
       "8  b0f475fe-ad28-4cf8-92f0-b5ca978004b1            0            0   \n",
       "9  6994f98a-a41e-4d74-af5b-9e3fab3c19b4            0            0   \n",
       "\n",
       "   user_000003  user_000004  user_000005  user_000006  user_000007  \\\n",
       "0            0            0            0            0            0   \n",
       "1            0            0            0            0            0   \n",
       "2            0            0            0            0            0   \n",
       "3            0            0            0            0            0   \n",
       "4            0            0            0            0            0   \n",
       "5            0            0            0            0            0   \n",
       "6            0            0            0            0            0   \n",
       "7            0            0            0            0            0   \n",
       "8            0            0            0            0            0   \n",
       "9            0            0            0            0            0   \n",
       "\n",
       "   user_000008  user_000009     ...       user_000890  user_000891  \\\n",
       "0            0            0     ...                 0            0   \n",
       "1            0            0     ...                 0            0   \n",
       "2            0            0     ...                 0            0   \n",
       "3            0            0     ...                 0            0   \n",
       "4            0            0     ...                 0            0   \n",
       "5            0            0     ...                 0            0   \n",
       "6            0            0     ...                 0            0   \n",
       "7            0            0     ...                 0            0   \n",
       "8            0            0     ...                 0            0   \n",
       "9            0            0     ...                 0            0   \n",
       "\n",
       "   user_000892  user_000893  user_000894  user_000895  user_000896  \\\n",
       "0            0            0            0            0            0   \n",
       "1            0            0            0            0            0   \n",
       "2            0            0            0            0            0   \n",
       "3            0            0            0            0            0   \n",
       "4            0            0            0            0            0   \n",
       "5            0            0            0            0            0   \n",
       "6            0            0            0            0            0   \n",
       "7            0            0            0            0            0   \n",
       "8            1            0            0            0            0   \n",
       "9            0            0            0            0            0   \n",
       "\n",
       "   user_000897  user_000898  user_000899  \n",
       "0            0            0            0  \n",
       "1            0            0            0  \n",
       "2            0            1            0  \n",
       "3            0            0            0  \n",
       "4            0            0            0  \n",
       "5            1            0            0  \n",
       "6            0            0            0  \n",
       "7            0            0            0  \n",
       "8            0            0            0  \n",
       "9            0            0            0  \n",
       "\n",
       "[10 rows x 847 columns]"
      ]
     },
     "execution_count": 7,
     "metadata": {},
     "output_type": "execute_result"
    }
   ],
   "source": [
    "df.head(10)"
   ]
  },
  {
   "cell_type": "code",
   "execution_count": 8,
   "metadata": {
    "collapsed": false
   },
   "outputs": [],
   "source": [
    "del df['ArtistID']"
   ]
  },
  {
   "cell_type": "code",
   "execution_count": 9,
   "metadata": {
    "collapsed": false
   },
   "outputs": [
    {
     "data": {
      "text/plain": [
       "(17119, 846)"
      ]
     },
     "execution_count": 9,
     "metadata": {},
     "output_type": "execute_result"
    }
   ],
   "source": [
    "X = df.as_matrix().astype(float)\n",
    "X.shape"
   ]
  },
  {
   "cell_type": "code",
   "execution_count": 10,
   "metadata": {
    "collapsed": false
   },
   "outputs": [],
   "source": [
    "n_artists, n_users = X.shape\n",
    "frame_number = n_artists // n_users + 1"
   ]
  },
  {
   "cell_type": "code",
   "execution_count": 11,
   "metadata": {
    "collapsed": false
   },
   "outputs": [
    {
     "data": {
      "text/plain": [
       "21"
      ]
     },
     "execution_count": 11,
     "metadata": {},
     "output_type": "execute_result"
    }
   ],
   "source": [
    "frame_number"
   ]
  },
  {
   "cell_type": "code",
   "execution_count": null,
   "metadata": {
    "collapsed": false
   },
   "outputs": [
    {
     "data": {
      "image/png": "[encoded data removed]",
      "text/plain": [
       "<matplotlib.figure.Figure at 0x104aaf650>"
      ]
     },
     "metadata": {},
     "output_type": "display_data"
    }
   ],
   "source": [
    "col_number = row_number = 5\n",
    "fig, ax = plt.subplots(row_number, col_number, figsize=(16, 12))\n",
    "for ii in range(25):\n",
    "    row, col = ii // row_number, ii % row_number\n",
    "    indices = range((row-1)*n_users, row * n_users)\n",
    "    ax[row, col].imshow(X[indices], cmap='bone')\n",
    "    ax[row, col].set_xticks([])\n",
    "    ax[row, col].set_yticks([])"
   ]
  },
  {
   "cell_type": "markdown",
   "metadata": {},
   "source": [
    "### Internal Evaluation"
   ]
  },
  {
   "cell_type": "code",
   "execution_count": null,
   "metadata": {
    "collapsed": false
   },
   "outputs": [
    {
     "name": "stdout",
     "output_type": "stream",
     "text": [
      "K-Means run for number of clusters: 2 is started\n",
      "K-Means run for number of clusters: 3 is started\n",
      "K-Means run for number of clusters: 4 is started\n",
      "K-Means run for number of clusters: 5 is started"
     ]
    }
   ],
   "source": [
    "silhouette_scores = []\n",
    "n_clusters = range(2, 15)\n",
    "\n",
    "for n_cluster in n_clusters:\n",
    "    print('K-Means run for number of clusters: {} is started'.format(n_cluster))\n",
    "    kmeans = cluster.KMeans(n_clusters=n_cluster, init=\"k-means++\").fit(X)\n",
    "    labels = kmeans.labels_\n",
    "    silhouette_scores.append(metrics.silhouette_score(X, labels, metric='euclidean'))\n"
   ]
  },
  {
   "cell_type": "code",
   "execution_count": null,
   "metadata": {
    "collapsed": false
   },
   "outputs": [],
   "source": [
    "plt.figure(figsize=(16, 12))\n",
    "plt.plot(n_clusters, silhouette_scores)\n",
    "plt.ylabel(\"Silhouette Score\");\n",
    "plt.xlabel(\"Cluster\");\n",
    "plt.title(\"Silhouette vs Cluster Size\");"
   ]
  },
  {
   "cell_type": "markdown",
   "metadata": {},
   "source": [
    "### External Evaluation"
   ]
  },
  {
   "cell_type": "code",
   "execution_count": null,
   "metadata": {
    "collapsed": false
   },
   "outputs": [],
   "source": [
    "iris = datasets.load_iris()\n",
    "X = iris.data\n",
    "y = iris.target"
   ]
  },
  {
   "cell_type": "code",
   "execution_count": null,
   "metadata": {
    "collapsed": false
   },
   "outputs": [],
   "source": [
    "plt.figure(figsize=(16, 12))\n",
    "plt.imshow(X.reshape((30, 20)), cmap='bone')\n",
    "plt.xticks([]);\n",
    "plt.yticks([]);"
   ]
  },
  {
   "cell_type": "code",
   "execution_count": null,
   "metadata": {
    "collapsed": false
   },
   "outputs": [],
   "source": [
    "n_clusters = range(2, 15)\n",
    "adjusted_random_scores = []\n",
    "v_measure_scores = []\n",
    "\n",
    "for n_cluster in n_clusters:\n",
    "    print('K-Means run for number of clusters: {} is started'.format(n_cluster))\n",
    "    kmeans = cluster.KMeans(n_clusters=n_cluster, init=\"k-means++\").fit(X)\n",
    "    labels = kmeans.labels_\n",
    "    adjusted_random_scores.append(metrics.adjusted_rand_score(y, labels) )\n",
    "    v_measure_scores.append(metrics.v_measure_score(y, labels))"
   ]
  },
  {
   "cell_type": "code",
   "execution_count": null,
   "metadata": {
    "collapsed": false
   },
   "outputs": [],
   "source": [
    "plt.figure(figsize=(16, 12))\n",
    "plt.plot(n_clusters, adjusted_random_scores)\n",
    "plt.ylabel(\"Adjusted Random Score\");\n",
    "plt.xlabel(\"Cluster\");\n",
    "plt.title(\"Adjusted Random Score vs Cluster Size\");"
   ]
  },
  {
   "cell_type": "code",
   "execution_count": null,
   "metadata": {
    "collapsed": false
   },
   "outputs": [],
   "source": [
    "plt.figure(figsize=(16, 12))\n",
    "plt.plot(n_clusters, v_measure_scores)\n",
    "plt.ylabel(\"V Measure Score\");\n",
    "plt.xlabel(\"Cluster\");\n",
    "plt.title(\"V Measure Score vs Cluster Size\");"
   ]
  },
  {
   "cell_type": "markdown",
   "metadata": {},
   "source": [
    "### Supervised Setting"
   ]
  },
  {
   "cell_type": "code",
   "execution_count": null,
   "metadata": {
    "collapsed": false
   },
   "outputs": [],
   "source": [
    "df = sns.load_dataset(\"titanic\")\n",
    "df.head(10)"
   ]
  },
  {
   "cell_type": "code",
   "execution_count": null,
   "metadata": {
    "collapsed": false
   },
   "outputs": [],
   "source": [
    "df.dropna(inplace=True)"
   ]
  },
  {
   "cell_type": "markdown",
   "metadata": {},
   "source": [
    "Turn all the columns to categorical variables!"
   ]
  },
  {
   "cell_type": "code",
   "execution_count": null,
   "metadata": {
    "collapsed": false
   },
   "outputs": [],
   "source": [
    "label_encoder = preprocessing.LabelEncoder()\n",
    "df['embarked'] = label_encoder.fit_transform(df.embarked)\n",
    "df['embark_town'] = label_encoder.fit_transform(df.embark_town)\n",
    "df['alive'] = label_encoder.fit_transform(df.alive)\n",
    "df['alone'] = label_encoder.fit_transform(df.alone)\n",
    "df['deck'] = label_encoder.fit_transform(df.deck)\n",
    "df['adult_male'] = label_encoder.fit_transform(df.adult_male)\n",
    "df['who'] = label_encoder.fit_transform(df.who)\n",
    "df['class'] = label_encoder.fit_transform(df['class'])\n",
    "df['parch'] = label_encoder.fit_transform(df['parch'])\n",
    "df['sex'] = label_encoder.fit_transform(df.sex)"
   ]
  },
  {
   "cell_type": "code",
   "execution_count": null,
   "metadata": {
    "collapsed": false
   },
   "outputs": [],
   "source": [
    "y = df.survived.as_matrix()\n",
    "del df['survived']"
   ]
  },
  {
   "cell_type": "code",
   "execution_count": null,
   "metadata": {
    "collapsed": false
   },
   "outputs": [],
   "source": [
    "X = df.as_matrix().astype(float)"
   ]
  },
  {
   "cell_type": "code",
   "execution_count": null,
   "metadata": {
    "collapsed": false
   },
   "outputs": [],
   "source": [
    "X_train, X_test, y_train, y_test = cross_validation.train_test_split(X, y, test_size=.5,\n",
    "                                                    random_state=2)\n",
    "\n",
    "classifier_name_tuples = [('Sigmoid Kernel Support Vector Classifier', svm.SVC(kernel='sigmoid', probability=True, shrinking=True, gamma=.1)),\n",
    "                          ('Bernoulli Naive Bayes Classifier', naive_bayes.BernoulliNB()),\n",
    "                          ('RBF Kernel Support Vector Classifier', svm.SVC(kernel='rbf', probability=True)),\n",
    "                          ('Extra Trees Classifier', ensemble.ExtraTreesClassifier()),\n",
    "                          ('Logistic Regression', linear_model.LogisticRegression(penalty='l1', C=.1)),\n",
    "                          ('Random Forest Classifier', ensemble.RandomForestClassifier()),\n",
    "                          ('Multinomial Naive Bayes Classifier', naive_bayes.MultinomialNB())\n",
    "                          ]\n",
    "\n",
    "    \n",
    "colors = itertools.cycle([\"#30a2da\",\n",
    "    \"#fc4f30\",\n",
    "    \"#e5ae38\",\n",
    "    \"#6d904f\",\n",
    "    \"#8b8b8b\",\n",
    "    \"dodgerblue\",\n",
    "    \"mediumpurple\",\n",
    "])\n",
    "\n",
    "fig, ax = plt.subplots(figsize=(16,12))\n",
    "for clf_name, clf in classifier_name_tuples:\n",
    "    clf.fit(X_train, y_train)\n",
    "    probas_ = clf.predict_proba(X_test)\n",
    "    fpr, tpr, thresholds = metrics.roc_curve(y_test, probas_[:, 1], )\n",
    "    roc_auc = metrics.auc(fpr, tpr)\n",
    "    plt.plot(fpr, tpr, color=colors.next(), lw=2, label='ROC curve for {}'.format(clf_name))\n",
    "    print('Region under curve for {0} is : {1:.2f}'.format(clf_name, roc_auc))\n",
    "#    ax.annotate('AUC for {0} = {1:.2f}'.format(clf_name, roc_auc), xy=(0.35, 0.6));\n",
    "\n",
    "plt.plot([0, 1], [0, 1], color='black', lw=2, linestyle='dotted', label='random guess')\n",
    "plt.xlim([0.0, 1.0])\n",
    "plt.ylim([0.0, 1.0])\n",
    "plt.xlabel('False Positive Rate');\n",
    "plt.ylabel('True Positive Rate');\n",
    "plt.title('ROC curves for different classifiers');\n",
    "plt.legend(loc=\"lower right\");"
   ]
  }
 ],
 "metadata": {
  "anaconda-cloud": {},
  "kernelspec": {
   "display_name": "Python [default]",
   "language": "python",
   "name": "python3"
  },
  "language_info": {
   "codemirror_mode": {
    "name": "ipython",
    "version": 3
   },
   "file_extension": ".py",
   "mimetype": "text/x-python",
   "name": "python",
   "nbconvert_exporter": "python",
   "pygments_lexer": "ipython3",
   "version": "3.5.2"
  }
 },
 "nbformat": 4,
 "nbformat_minor": 0
}
