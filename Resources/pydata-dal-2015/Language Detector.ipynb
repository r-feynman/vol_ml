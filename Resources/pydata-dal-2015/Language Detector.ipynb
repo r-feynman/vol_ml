{
 "cells": [
  {
   "cell_type": "code",
   "execution_count": 1,
   "metadata": {
    "collapsed": false
   },
   "outputs": [],
   "source": [
    "#!/usr/bin/env python\n",
    "# -*- coding: latin-1 -*-\n",
    "%matplotlib inline\n",
    "\n",
    "import matplotlib.pyplot as plt\n",
    "import numpy as np\n",
    "import scipy\n",
    "import seaborn as sns\n",
    "\n",
    "from sklearn import ensemble\n",
    "from sklearn import feature_extraction\n",
    "from sklearn import linear_model\n",
    "from sklearn import pipeline\n",
    "from sklearn import cross_validation\n",
    "from sklearn import metrics\n",
    "\n",
    "# Load module that will load the instances\n",
    "import load"
   ]
  },
  {
   "cell_type": "code",
   "execution_count": 2,
   "metadata": {
    "collapsed": false
   },
   "outputs": [],
   "source": [
    "X, y, label_names = load.get_instances_from_directory('data/text')\n",
    "\n",
    "X_train, X_test, y_train, y_test = cross_validation.train_test_split(X,\n",
    "                                                                     y,\n",
    "                                                                     test_size=0.2,\n",
    "                                                                     random_state=0)\n"
   ]
  },
  {
   "cell_type": "code",
   "execution_count": 3,
   "metadata": {
    "collapsed": false
   },
   "outputs": [
    {
     "name": "stdout",
     "output_type": "stream",
     "text": [
      "ويكيبيديا (تلفظ [wiːkiːbiːdijaː] وتلحن [wikipiːdia] ؛ تلفظ بالإنجليزية /ˌwɪkiˈpiːdi.ə/ ) هي مشروع موسوعة متعددة اللغات، مبنية على الويب ، ذات محتوى حر، تشغلها مؤسسة ويكيميديا ، التي هي منظمة غير ربحية . ويكيبيديا هي موسوعة يمكن لأي مستخدم تعديل وتحرير وإنشاء مقالات جديدة فيها.\n",
      "\n"
     ]
    }
   ],
   "source": [
    "print(X[0])"
   ]
  },
  {
   "cell_type": "code",
   "execution_count": 4,
   "metadata": {
    "collapsed": false
   },
   "outputs": [
    {
     "name": "stdout",
     "output_type": "stream",
     "text": [
      "Am 28. Jänner 1756 – einen Tag nach seiner Geburt – wurde Mozart auf die Namen Joannes Chrysostomus Wolfgangus Theophilus getauft. Der erste und letzte der genannten Vornamen verweisen auf den Taufpaten Joannes Theophilus Pergmayr, Senator et Mercator Civicus , der mittlere Vorname Wolfgang auf Mozarts Großvater Wolfgang Nicolaus Pertl. Das griechische Theophilus („ Gottlieb “) hat Mozart später in seine französische Entsprechung Amadé bzw. (selten) latinisierend Amadeus übersetzt.\n",
      "\n"
     ]
    }
   ],
   "source": [
    "print(X[2000])"
   ]
  },
  {
   "cell_type": "code",
   "execution_count": 5,
   "metadata": {
    "collapsed": false
   },
   "outputs": [
    {
     "name": "stdout",
     "output_type": "stream",
     "text": [
      "故宫\n",
      "\n"
     ]
    }
   ],
   "source": [
    "print(X[1000])"
   ]
  },
  {
   "cell_type": "code",
   "execution_count": 6,
   "metadata": {
    "collapsed": false
   },
   "outputs": [
    {
     "name": "stdout",
     "output_type": "stream",
     "text": [
      "195,046 foreign nationals became British citizens in 2010, [ 348 ] compared to 54,902 in 1999. [ 348 ] [ 349 ] A record 241,192 people were granted permanent settlement rights in 2010, of whom 51 per cent were from Asia and 27 per cent from Africa. [ 350 ] 25.5 per cent of babies born in England and Wales in 2011 were born to mothers born outside the UK, according to official statistics released in 2012. [ 351 ]\n",
      "\n"
     ]
    }
   ],
   "source": [
    "print(X[3000])"
   ]
  },
  {
   "cell_type": "code",
   "execution_count": 7,
   "metadata": {
    "collapsed": false
   },
   "outputs": [
    {
     "name": "stdout",
     "output_type": "stream",
     "text": [
      "La intervención romana se produjo en la Segunda Guerra Púnica (218 a. C.), que inició una paulatina conquista romana de Hispania , no completada hasta casi doscientos años más tarde. La derrota cartaginesa permitió una relativamente rápida incorporación de las zonas este y sur, que eran las más ricas y con un nivel de desarrollo económico, social y cultural más compatible con la propia civilización romana. Mucho más dificultoso se demostró el sometimiento de los pueblos de la Meseta, más pobres ( guerras lusitanas y guerras celtíberas ), que exigió enfrentarse a planteamientos bélicos totalmente diferentes a la guerra clásica (la guerrilla liderada por Viriato —asesinado el 139 a. C.—, resistencias extremas como la de Numancia —vencida el 133 a. C.—). En el siglo siguiente, las provincias romanas de Hispania , convertidas en fuente de enriquecimiento de funcionarios y comerciantes romanos y de materias primas y mercenarios, estuvieron entre los principales escenarios de las guerras civiles romanas , con la presencia de Sertorio , Pompeyo y Julio César . La pacificación ( pax romana ) fue el propósito declarado de Augusto , que pretendió dejarla definitivamente asentada con el sometimiento de cántabros y astures (29—19 a. C.), aunque no se produjo su efectiva romanización. En el resto del territorio, la romanización de Hispania fue tan profunda como para que algunas familias hispanorromanas alcanzaran la dignidad imperial ( Trajano , Adriano y Teodosio ) y hubiera hispanos entre los más importantes intelectuales romanos (el filósofo Lucio Anneo Séneca , los poetas Lucano , Quintiliano o Marcial , el geógrafo Pomponio Mela o el agrónomo Columela ), si bien, como escribió Tito Livio en tiempos de Augusto, \"aunque fue la primera provincia importante invadida por los romanos fue la última en ser dominada completamente y ha resistido hasta nuestra época\", atribuyéndolo a la naturaleza del territorio y al carácter recalcitrante de sus habitantes. La asimilación del modo de vida romano, larga y costosa, ofreció una gran diversidad desde los grados avanzados en la Bética a la incompleta y superficial romanización del norte peninsular.\n",
      "\n"
     ]
    }
   ],
   "source": [
    "print(X[4000])"
   ]
  },
  {
   "cell_type": "code",
   "execution_count": 8,
   "metadata": {
    "collapsed": false
   },
   "outputs": [
    {
     "name": "stdout",
     "output_type": "stream",
     "text": [
      "Il est, par la suite, déchu par le Sénat le 3 avril et exilé à l’ île d’Elbe , selon le traité de Fontainebleau signé le 11 avril, conservant le titre d’Empereur [ 45 ] mais ne régnant que sur cette petite île. Son convoi de Fontainebleau jusqu'à la Méditerranée avant son embarquement pour l'île d'Elbe passe par des villages provençaux royalistes qui le conspuent, il risque d'être lynché à Orgon , ce qui l'oblige à se déguiser [ 46 ] .\n",
      "\n"
     ]
    }
   ],
   "source": [
    "print(X[6000])"
   ]
  },
  {
   "cell_type": "code",
   "execution_count": 9,
   "metadata": {
    "collapsed": false
   },
   "outputs": [
    {
     "name": "stdout",
     "output_type": "stream",
     "text": [
      "Также насчитывается 7 изолированных и 9 неклассифицированных языков . К наиболее популярным исконно африканским языкам относятся языки банту ( суахили , конго ), фула .\n",
      "\n"
     ]
    }
   ],
   "source": [
    "print(X[8000])"
   ]
  },
  {
   "cell_type": "code",
   "execution_count": 10,
   "metadata": {
    "collapsed": false
   },
   "outputs": [
    {
     "name": "stdout",
     "output_type": "stream",
     "text": [
      "Yerel çeşitlere ve bunların arasında karşılıklı alışveriş ve zenginleştirmeye dayalı olması dünyanın herhangi bir büyük mutfağı için olağandır. Ama aynı zamanda büyükşehir geleneğinin zarif tadı ile homojenize ve uyumludur. [129]\n",
      "\n"
     ]
    }
   ],
   "source": [
    "print(X[-10])"
   ]
  },
  {
   "cell_type": "code",
   "execution_count": 11,
   "metadata": {
    "collapsed": false
   },
   "outputs": [
    {
     "name": "stdout",
     "output_type": "stream",
     "text": [
      "Je ne dis pas ce que je faisais ----> fr\n",
      "Ich habe nich erzahlt was ich gemacht habe ----> de\n",
      "Ne yaptığımı söylemedim ----> tr\n",
      "Yo no dije lo que hice ----> es\n"
     ]
    }
   ],
   "source": [
    "vectorizer = feature_extraction.text.TfidfVectorizer(ngram_range=(1, 6),\n",
    "                             analyzer='char',)\n",
    "#                             use_idf=False)\n",
    "\n",
    "pipe = pipeline.Pipeline([\n",
    "    ('vectorizer', vectorizer),\n",
    "    ('clf', linear_model.LogisticRegression())\n",
    "])\n",
    "\n",
    "pipe.fit(X_train, y_train)\n",
    "\n",
    "y_predicted = pipe.predict(X_test)\n",
    "\n",
    "cm = metrics.confusion_matrix(y_test, y_predicted)\n",
    "\n",
    "# Predict the result on some short new sentences:\n",
    "sentences = [\n",
    "    u'Je ne dis pas ce que je faisais',\n",
    "    u'Ich habe nich erzahlt was ich gemacht habe',\n",
    "    u'Ne yaptığımı söylemedim',\n",
    "    u'Yo no dije lo que hice'\n",
    "]\n",
    "# We could pass not \"feature\" but raw data, pretty neat!\n",
    "predicted_languages = pipe.predict(sentences)\n",
    "\n",
    "for sentence, lang in zip(sentences, predicted_languages):\n",
    "  print(u'{} ----> {}'.format(sentence, label_names[lang]))"
   ]
  },
  {
   "cell_type": "code",
   "execution_count": 12,
   "metadata": {
    "collapsed": false
   },
   "outputs": [
    {
     "data": {
      "image/png": "[encoded data removed]",
      "text/plain": [
       "<matplotlib.figure.Figure at 0x109e45390>"
      ]
     },
     "metadata": {},
     "output_type": "display_data"
    }
   ],
   "source": [
    "plt.figure(figsize=(16, 16))\n",
    "sns.heatmap(cm, annot=True,  fmt='', xticklabels=label_names, yticklabels=label_names);"
   ]
  },
  {
   "cell_type": "code",
   "execution_count": 13,
   "metadata": {
    "collapsed": false
   },
   "outputs": [
    {
     "name": "stdout",
     "output_type": "stream",
     "text": [
      "             precision    recall  f1-score   support\n",
      "\n",
      "         ar       1.00      0.99      0.99       152\n",
      "         cn       0.91      1.00      0.95       148\n",
      "         de       1.00      0.98      0.99       217\n",
      "         en       0.93      0.97      0.95       232\n",
      "         es       0.98      0.92      0.95       265\n",
      "         fr       0.99      1.00      0.99       291\n",
      "         ru       1.00      0.99      1.00       312\n",
      "         tr       1.00      1.00      1.00       117\n",
      "\n",
      "avg / total       0.98      0.98      0.98      1734\n",
      "\n"
     ]
    }
   ],
   "source": [
    "print(metrics.classification_report(y_test, y_predicted,\n",
    "                                    target_names=label_names))"
   ]
  },
  {
   "cell_type": "code",
   "execution_count": 13,
   "metadata": {
    "collapsed": false
   },
   "outputs": [],
   "source": []
  }
 ],
 "metadata": {
  "anaconda-cloud": {},
  "kernelspec": {
   "display_name": "Python [default]",
   "language": "python",
   "name": "python3"
  },
  "language_info": {
   "codemirror_mode": {
    "name": "ipython",
    "version": 3
   },
   "file_extension": ".py",
   "mimetype": "text/x-python",
   "name": "python",
   "nbconvert_exporter": "python",
   "pygments_lexer": "ipython3",
   "version": "3.5.2"
  }
 },
 "nbformat": 4,
 "nbformat_minor": 0
}
