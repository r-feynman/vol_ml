{
 "cells": [
  {
   "cell_type": "code",
   "execution_count": 1,
   "metadata": {},
   "outputs": [
    {
     "data": {
      "text/html": [
       "\n",
       "<style>\n",
       "    div#notebook-container    { width: 95%; }\n",
       "    div#menubar-container     { width: 95%; }    div#maintoolbar-container { width: 99%; }\n",
       "</style>\n"
      ],
      "text/plain": [
       "<IPython.core.display.HTML object>"
      ]
     },
     "metadata": {},
     "output_type": "display_data"
    }
   ],
   "source": [
    "from IPython.display import display, HTML, clear_output\n",
    "display(HTML(data=\"\"\"\n",
    "<style>\n",
    "    div#notebook-container    { width: 95%; }\n",
    "    div#menubar-container     { width: 95%; }    div#maintoolbar-container { width: 99%; }\n",
    "</style>\n",
    "\"\"\"))\n",
    "import sys\n",
    "if (__name__ == '__main__') and (sys.platform == 'darwin'):\n",
    "    import multiprocessing as mp; mp.set_start_method('forkserver') \n",
    "import pandas as pd\n",
    "import numpy as np\n",
    "import scipy, itertools, datetime, calendar, workdays, glob\n",
    "import matplotlib\n",
    "import matplotlib.pyplot as plt\n",
    "import seaborn as sns\n",
    "from sklearn import ensemble, neural_network, tree, linear_model, kernel_ridge, neighbors, svm, tree\n",
    "from sklearn import preprocessing, metrics, decomposition, preprocessing, model_selection, feature_selection\n",
    "from sklearn.externals import joblib\n",
    "from sklearn.pipeline import Pipeline, FeatureUnion\n",
    "from sklearn.base import TransformerMixin, BaseEstimator\n",
    "from dateutil.parser import parse\n",
    "from datetime import timedelta\n",
    "from collections import Counter\n",
    "from tqdm import tnrange, tqdm_notebook\n",
    "from clf_fitter import iter_fit, iter_test, iter_predict\n",
    "from MyClf import MyClf\n",
    "from helper_functions import *\n",
    "%matplotlib inline\n",
    "try:\n",
    "    import pdblp\n",
    "except:\n",
    "    pass"
   ]
  },
  {
   "cell_type": "markdown",
   "metadata": {},
   "source": [
    "## Feature Build"
   ]
  },
  {
   "cell_type": "code",
   "execution_count": 2,
   "metadata": {
    "collapsed": true
   },
   "outputs": [],
   "source": [
    "##########################################################################################################################################################\n",
    "## Transform and build the feature set from raw bloomberg data contained in pickle file 'historical_data1.pickle'\n",
    "##########################################################################################################################################################\n",
    "\n",
    "EQUITY_TICKERS   = ['spy', 'iwm', 'mdy', 'hyg'] #'xiv', 'vxx', 'tvix', \n",
    "INDUSTRY_TICKERS = ['xle', 'xlb', 'xlf', 'iyz', 'xlv', 'xlk', 'xlp', 'xlu', 'xly', 'xli'] #'xiv', 'vxx', 'tvix', \n",
    "INDEX_TICKERS    = ['spvixstr', 'sx5e', 'vix', 'pcrteqty', 'vvix', 'vxv', 'vxth', 'rxm', 'rvx', 'vxn',\n",
    "                    'tyvix', 'jpmvxyg7', 'jpmvxyem', 'tradhigh', 'tradlows', 'cvxftncn', 'vxxiv', 'cesiusd', 'cesig10']\n",
    "                    # 'vcac', 'v2x', 'vhsi', 'vaex', 'vimex', 'tradcads', 'vnky', 'vftse', 'vkospi'\n",
    "MACRO_TICKERS    = ['nfp tch', 'injcjc', 'usmmmnch', 'injcsp', 'ip chng', 'consexp', 'dgnoxtch', 'pitlchng', 'lei chng', 'napmpmi', 'napmnmi', 'conssent', 'concconf']\n",
    "VIX_FUTURES      = ['ux1', 'ux2', 'ux3', 'ux4', 'ux5', 'ux6', 'ux7']\n",
    "VOL_FIELDS       = ['30DAY_IMPVOL_97.5%MNY_DF', '30DAY_IMPVOL_102.5%MNY_DF', '30DAY_IMPVOL_95.0%MNY_DF', '30DAY_IMPVOL_105.0%MNY_DF','3MTH_IMPVOL_95.0%MNY_DF', '3MTH_IMPVOL_105.0%MNY_DF']\n",
    "OTHER            = ['weight', 'contract_days_length', 'contract_days_left']\n",
    "equity_tks       = [tk + ' equity' for tk in EQUITY_TICKERS]\n",
    "industry_tks     = [tk + ' equity' for tk in INDUSTRY_TICKERS]\n",
    "index_tks        = [tk + ' index' for tk in INDEX_TICKERS]\n",
    "macro_tks        = [tk + ' index' for tk in MACRO_TICKERS]\n",
    "spy_vol_tks      = ['SPY_' + tk for tk in VOL_FIELDS]\n",
    "ux_weighted_tks  = ['ux_weighted', 'ux_weighted_2', 'ux_weighted_3', 'ux_weighted_4', 'ux_weighted_5', 'ux_weighted_6']\n",
    "other_tks        = ['ctg_curvature', 'ux_weighted', 'ux_weighted_2', 'ux_weighted_3', 'ux_weighted_4', 'ux_weighted_5', 'ux_weighted_6', 'ctg_weighted', 'ctg_weighted_1v2', 'ctg_weighted_1d_lag', 'ux_weighted_1d_lag', 'vix_1d_lag', 'ux_wgt_prem', 'contract_days_times_premium', 'contract_days_remaining_ux2ux1_premium', 'contract_days_remaining_ux1vix_premium', 'spy_MACD', 'spy_5d_ema', 'spy_5d_rv', 'spy_10d_rv', 'spy_20d_rv', 'spy_30d_rv', 'spy_6m_rv', 'vix_spy_10rv_prem', 'vix_spy_20rv_prem', 'vix_spy_6mrv_prem', 'spy_rv_momentum', 'ctg_momentum', 'ctg_momentum_chg', 'spvixstr_1dl', 'spvixstr_2dl', 'spvixstr_3dl', 'spvixstr_4dl', 'spvixstr_5dl', 'spy_iwm_10d_corr', 'spy_mdy_10d_corr', 'spy_hyg_10d_corr', 'xle equity_pct_corr', 'xlb equity_pct_corr', 'xlf equity_pct_corr', 'iyz equity_pct_corr', 'xlv equity_pct_corr', 'xlk equity_pct_corr', 'xlp equity_pct_corr', 'xlu equity_pct_corr', 'xly equity_pct_corr', 'xli equity_pct_corr', 'spvixstr_2d_perf', 'spvixstr_3d_perf', 'spvixstr_5d_perf', 'spy_30d_skew_95_105', 'spy_30d_skew_97.5_102.5', 'spy_3m_skew_95_105']\n",
    "mytks = equity_tks.copy()\n",
    "mytks.extend(industry_tks)\n",
    "mytks.extend(index_tks)\n",
    "mytks.extend(macro_tks)\n",
    "mytks.extend(spy_vol_tks)\n",
    "mytks.extend(VIX_FUTURES)\n",
    "mytks.extend(OTHER)\n",
    "\n",
    "# select raw feature transformations (pct/net change, exponential moving average, etc.\n",
    "# based on on the excel mapping table feature_mapping.xlsx\n",
    "mapping_table = pd.read_excel('feature_mapping.xlsx', index_col=0)\n",
    "feature_list = list(mapping_table[mapping_table.price == 1].index)\n",
    "feature_list.extend([feature + '_chg' for feature in mapping_table[mapping_table.net_chg == 1].index])\n",
    "feature_list.extend([feature + '_pct' for feature in mapping_table[mapping_table.pct == 1].index])\n",
    "feature_list.extend([feature + '_ema3d' for feature in mapping_table[mapping_table.ema3d == 1].index])\n",
    "feature_list.extend([feature + '_macd' for feature in mapping_table[mapping_table.macd == 1].index])\n",
    "feature_list.extend([feature + '_pct_ema3d' for feature in mapping_table[mapping_table.pct_ema3d == 1].index])\n",
    "\n",
    "# adjust for indicators with a 1 day lag\n",
    "INDICATORS_WITH_LAG = ['tradhigh index', 'tradlows index'] + spy_vol_tks\n",
    "features_to_pct = equity_tks + industry_tks + index_tks + macro_tks + ux_weighted_tks\n",
    "features_to_chg = index_tks + macro_tks + ux_weighted_tks + spy_vol_tks + ux_weighted_tks\n",
    "features_to_macd = equity_tks + index_tks + ux_weighted_tks + macro_tks\n",
    "features_to_ema = equity_tks + index_tks + macro_tks + spy_vol_tks + ux_weighted_tks + other_tks + [tk + '_pct' for tk in equity_tks + industry_tks + index_tks + ux_weighted_tks]\n",
    "\n",
    "pipeline_feature_build = Pipeline([\n",
    "    ('shift_data', ShiftColumns(INDICATORS_WITH_LAG, 1)),\n",
    "    ('add_vix_features', AddVIXFeatures()),\n",
    "    ('add_percent_change', PercentageChange(features=features_to_pct)),\n",
    "    ('fill_na', FillNA(method='ffill')),\n",
    "    ('add_other_features', AddOtherFeatures()),\n",
    "    ('add_net_change', NetChange()),\n",
    "    ('fill_nas', FillNA(value=0)),\n",
    "    ('fill_inf', FillInf(value=0)),\n",
    "    ('add_macd', MACD(p1=10, p2=2, signal=2, features=features_to_macd)),\n",
    "    ('add_ema', EMA(ewm=3, features=features_to_ema)),\n",
    "    ('select_features', FeatureExtractor(features=feature_list)),\n",
    "])\n",
    "\n",
    "# load custom pipeline with pre-selected features for testing\n",
    "my_pipeline_fs3 = joblib.load('my_pipeline_fs3.pkl')\n",
    "# load a pickled grid search\n",
    "gscv3 = joblib.load('gscv3.pkl')\n",
    "\n",
    "def get_dataset(how='regression', from_date='2006-12-15', to_date=(datetime.datetime.today()-datetime.timedelta(1)).strftime('%Y%m%d'),\n",
    "                y_lag=-1, y_var='spvixstr index_pct', threshold=0.00, classification_categories=[-1,1], prediction_days=1, time_step_adjustment=False):\n",
    "    '''Helper function to transform the dataset for ML algo.\n",
    "    \n",
    "    Parameters\n",
    "    ----------\n",
    "    how : classification, regression, prediction\n",
    "         'classification': return X and y, and forward return, where y the binary classification based on specified thresholds \n",
    "         'regression'    : return X and y, where y is the return\n",
    "         'prediction'    : return dataset with only last row for prediction\n",
    "\n",
    "    y_lag: integer, --DEPRECATED\n",
    "\n",
    "    y_var: string, default: 'spvixstr index_pct'\n",
    "        select the dependent variable\n",
    "    \n",
    "    threshold: float, default: 0.00\n",
    "        threshold to use for classifier categorization\n",
    "    \n",
    "    classification_categories: list, default[-1,1]\n",
    "        2 elements for binary classification\n",
    "    \n",
    "    prediction_days: int, default: 1\n",
    "        cumulative return of y dependent variable over x number of days\n",
    "    \n",
    "    time_step_adjustment: bool: default: false\n",
    "        adjust the time step for X so as to avoid the look-ahead bias\n",
    "\n",
    "    Returns\n",
    "    ----------\n",
    "    Data frame for training/prediction.\n",
    "    '''\n",
    "\n",
    "    threshold = 0.00\n",
    "    data = pd.read_pickle('historical_data1.pickle')\n",
    "    data = data[mytks]\n",
    "    X = pipeline_feature_build.fit_transform(data)\n",
    "    y = X[y_var]\n",
    "    y = y.rolling(prediction_days).apply(lambda x: np.prod(np.nan_to_num(x)+1)-1).shift(-prediction_days)\n",
    "    date_mask = (data.index > from_date) & (data.index <= to_date)\n",
    "    X_mask, y_mask, dates_mask = X[date_mask], y[date_mask], X.index[date_mask]\n",
    "    if time_step_adjustment:\n",
    "        X_mask, y_mask, dates_mask = X_mask[::prediction_days], y_mask[::prediction_days], dates_mask[::prediction_days]\n",
    "    if how == 'regression':\n",
    "        return X_mask, y_mask\n",
    "    elif how == 'classification':\n",
    "        y_clf = np.array([classification_categories[0] if y_ <= threshold else classification_categories[1] for y_ in y_mask])\n",
    "        return X_mask, y_clf, y_mask\n",
    "    elif how == 'prediction':\n",
    "        return X.tail(1)\n",
    "    else:\n",
    "        raise ValueError('{} is not a valid option.'.format(how))\n",
    "\n",
    "rand_state = 1\n",
    "class_weights1 = {1: 1.05, -1: 1}\n",
    "class_weights2 = {1: 1.08, -1: 1}\n",
    "class_weights3 = {1: 1.15, -1: 1}"
   ]
  },
  {
   "cell_type": "code",
   "execution_count": 3,
   "metadata": {
    "collapsed": true
   },
   "outputs": [],
   "source": [
    "# Scikit-learn classifier dictionary\n",
    "sk_classifiers = {    \n",
    "    'Ridge1':      linear_model.RidgeClassifier(alpha=1.0, max_iter=100000, tol=1e-5, solver='lsqr', class_weight=None, fit_intercept=True, random_state=rand_state),\n",
    "    'RidgeGS1':    linear_model.RidgeClassifier(alpha=25.118864315095795, max_iter=None, solver='sparse_cg', class_weight=class_weights1, random_state=rand_state, tol=0.1),\n",
    "    'RidgeGS2':    linear_model.RidgeClassifier(alpha=1, max_iter=None, solver='sparse_cg', class_weight=class_weights1, random_state=rand_state, tol=0.05),\n",
    "    'Logistic1':   linear_model.LogisticRegression(C=1, penalty='l1', n_jobs=-1, max_iter=100000, solver='liblinear', random_state=rand_state),\n",
    "    'LogisticGS':  linear_model.LogisticRegression(C=1, penalty='l2', n_jobs=-1, class_weight=class_weights2, max_iter=100000, solver='liblinear', random_state=rand_state),\n",
    "    'SVC':         svm.SVC()\n",
    "#     'LinearSVC':   LogisticRegression(C=1, penalty='l1', n_jobs=-1, max_iter=100000, solver='liblinear', random_state=rand_state),\n",
    "#     'BayesianRidge': BayesianRidge(n_iter=1000, tol=0.0001, alpha_1=0.001, alpha_2=0.001, lambda_1=1e-06, lambda_2=1e-06, compute_score=False, fit_intercept=True, normalize=False, copy_X=True, verbose=False),\n",
    "#     'KernelRidge': KernelRidge(alpha=1, kernel='linear', gamma=None, degree=3, coef0=1, kernel_params=None),\n",
    "    \n",
    "#     'lol':         LogisticRegression(C=1.8991744770265189, class_weight={1: 1.15, -1: 1},\n",
    "#           dual=False, fit_intercept=True, intercept_scaling=1,\n",
    "#           max_iter=100000, multi_class='ovr', n_jobs=1, penalty='l1',\n",
    "#           random_state=1, solver='liblinear', tol=0.0001, verbose=0,\n",
    "#           warm_start=False)\n",
    "#     'MLP':         MLPClassifier(hidden_layer_sizes=(500,), learning_rate_init=0.00001)\n",
    "}"
   ]
  },
  {
   "cell_type": "code",
   "execution_count": 4,
   "metadata": {
    "collapsed": true
   },
   "outputs": [],
   "source": [
    "# Scikit-learn regressor dictionary\n",
    "sk_regressors = {\n",
    "    'ElasticNet': linear_model.ElasticNet(alpha=1e-05, copy_X=True, fit_intercept=True, l1_ratio=0.3, max_iter=100000, normalize=False, positive=False, precompute=False,\n",
    "                                          random_state=1, selection='cyclic', tol=1e-05, warm_start=False),\n",
    "#     'EN-R2':      linear_model.ElasticNet(alpha=0.00067584514383677496, copy_X=True, fit_intercept=True, l1_ratio=0.4774821546055622, max_iter=100000, normalize=False,\n",
    "#                                      positive=False, precompute=False, random_state=1, selection='cyclic', tol=1e-5, warm_start=False),\n",
    "#     'EN-Scorer':  linear_model.ElasticNet(alpha=0.00031645793551216445, copy_X=True, fit_intercept=True, l1_ratio=0.51712317704506616, max_iter=100000, normalize=False,\n",
    "#                                         positive=False, precompute=False, random_state=1, selection='cyclic', tol=1e-05, warm_start=False),\n",
    "    'BRidge':     linear_model.BayesianRidge(n_iter=100000, tol=1e-3, alpha_1=10**-6, alpha_2=10**-0.25, lambda_1=10**-6, lambda_2=10**-6),\n",
    "    'BRidgeCV':   linear_model.BayesianRidge(alpha_1=1e-10, alpha_2=0.01, compute_score=False, copy_X=True, fit_intercept=True, lambda_1=0.01, lambda_2=1e-10, n_iter=100000,\n",
    "                                          normalize=False, tol=1e-05, verbose=False),\n",
    "    'BRidge2':    linear_model.BayesianRidge(alpha_1=1e-10, alpha_2=1e-10, compute_score=False, copy_X=True, fit_intercept=True, lambda_1=1e-10, lambda_2=1e-06, n_iter=10000,\n",
    "                                          normalize=False, tol=1e-09, verbose=False),\n",
    "    'KRidge':     kernel_ridge.KernelRidge(alpha=10**1.5, kernel='polynomial', gamma=None, degree=1, coef0=1, kernel_params=None),\n",
    "#     'LinearSVC':  svm.LinearSVR(C=0.88638921443374985, dual=True, epsilon=0.0, fit_intercept=True,\n",
    "#                                 intercept_scaling=0.97793251864020836, loss='epsilon_insensitive',\n",
    "#                                 max_iter=10000, random_state=1, tol=1e-05, verbose=0),\n",
    "    'BridgeCV2': linear_model.BayesianRidge(n_iter=10000,**dict([((k.replace('estimator__',''), v)) for k, v in gscv3.best_params_.items()]))\n",
    "#     'RF':         ensemble.RandomForestRegressor(n_estimators=100),\n",
    "}"
   ]
  },
  {
   "cell_type": "code",
   "execution_count": 5,
   "metadata": {
    "collapsed": true
   },
   "outputs": [],
   "source": [
    "features = ['napmpmi index_macd', 'spvixstr_4dl',\n",
    "           'contract_days_remaining_ux1vix_premium', 'vix_spy_10rv_prem',\n",
    "           'tyvix index_macd', 'spy_hyg_10d_corr_ema3d', 'ux_weighted_6_macd',\n",
    "           'jpmvxyem index_pct_ema3d', 'xle equity_pct',\n",
    "           'xlu equity_pct_ema3d', 'rxm index_pct_ema3d',\n",
    "           'contract_days_times_premium', 'ctg_curvature_ema3d',\n",
    "           'ip chng index_ema3d', 'tyvix index_pct', 'tradhigh index_ema3d',\n",
    "           'contract_days_left', 'injcsp index_chg', 'ux_weighted_3_pct_ema3d',\n",
    "           'spy_20d_rv_chg', 'xly equity_pct_corr', 'spy_6m_rv_chg',\n",
    "           'ux_weighted_4_pct_ema3d', 'vxth index_pct', 'spy_30d_rv_chg',\n",
    "           'nfp tch index_macd', 'ux_weighted_2_macd', 'tyvix index_pct_ema3d',\n",
    "           'injcjc index_macd', 'vxxiv index_chg', 'tradhigh index_chg',\n",
    "           'spy_iwm_10d_corr', 'injcsp index_macd', 'xli equity_pct_ema3d',\n",
    "           'ux_weighted_6_pct_ema3d']\n",
    "\n",
    "pipeline_select_features = Pipeline([\n",
    "    ('select_features', FeatureExtractor(features=features)),\n",
    "    ('scale', preprocessing.StandardScaler()),\n",
    "])\n",
    "pipeline_select_features2 = Pipeline([\n",
    "    ('scale1', preprocessing.StandardScaler()),\n",
    "    ('select_features1', my_pipeline_fs3.named_steps['feature_selection1']),\n",
    "    ('polynomial', preprocessing.PolynomialFeatures(degree=2)),\n",
    "    ('select_features2', my_pipeline_fs3.named_steps['feature_selection2']),\n",
    "    ('scale2', preprocessing.StandardScaler()),\n",
    "])"
   ]
  },
  {
   "cell_type": "code",
   "execution_count": null,
   "metadata": {
    "collapsed": true
   },
   "outputs": [],
   "source": [
    "# Manual feature selection\n",
    "features = ['vix index', 'vvix index', 'vxv index', 'rvx index', 'vxn index', 'tyvix index', 'jpmvxyg7 index', 'jpmvxyem index', 'cesiusd index', 'cesig10 index', 'dgnoxtch index', 'conssent index', 'ctg_curvature', 'ux_weighted', 'ux_weighted_2', 'ctg_weighted', 'ctg_weighted_1v2', 'ux_wgt_prem', 'contract_days_times_premium', 'contract_days_remaining_ux2ux1_premium', 'contract_days_remaining_ux1vix_premium', 'spy_MACD', 'spy_5d_rv', 'spy_6m_rv', 'vix_spy_10rv_prem', 'vix_spy_6mrv_prem', 'spy_rv_momentum', 'ctg_momentum', 'ctg_momentum_chg', 'spvixstr_1dl', 'spvixstr_2dl', 'spy_iwm_10d_corr', 'spy_hyg_10d_corr', 'spvixstr_3d_perf', 'spy_30d_skew_95_105', 'vix index_chg', 'vvix index_chg', 'ctg_curvature_chg', 'ux_weighted_chg', 'ctg_weighted_chg', 'ux_wgt_prem_chg', 'vix_spy_10rv_prem_chg', 'spy_30d_skew_95_105_chg', 'spy equity_pct', 'vix index_pct', 'ux_weighted_pct', 'spy equity_pct_ema3d']\n",
    "pipeline_select_features = Pipeline([\n",
    "    ('select_features', FeatureExtractor(features=features)),\n",
    "    ('scale', preprocessing.StandardScaler()),\n",
    "])"
   ]
  },
  {
   "cell_type": "markdown",
   "metadata": {},
   "source": [
    "## Randomized Lasso Feature Sort"
   ]
  },
  {
   "cell_type": "code",
   "execution_count": 5,
   "metadata": {
    "collapsed": true
   },
   "outputs": [],
   "source": [
    "threshold = 0.00\n",
    "from_date = '2006-12-15'\n",
    "to_date = '2017-03-31'\n",
    "\n",
    "X, y = get_dataset(how='regression', from_date=from_date, to_date=to_date)\n",
    "clf1 = linear_model.RandomizedLasso(alpha=0.000015, random_state=rand_state)\n",
    "clf1.fit(preprocessing.StandardScaler().fit_transform(X), y)\n",
    "feature_set1 = pd.DataFrame(sorted(zip(clf1.get_support(), map(lambda x: round(x, 4), clf1.scores_), X.columns), reverse=True), columns=['Included','Score','Feature'])\n",
    "all_features = feature_set1.Feature.values"
   ]
  },
  {
   "cell_type": "code",
   "execution_count": 6,
   "metadata": {
    "scrolled": false
   },
   "outputs": [
    {
     "data": {
      "text/html": [
       "<div>\n",
       "<style>\n",
       "    .dataframe thead tr:only-child th {\n",
       "        text-align: right;\n",
       "    }\n",
       "\n",
       "    .dataframe thead th {\n",
       "        text-align: left;\n",
       "    }\n",
       "\n",
       "    .dataframe tbody tr th {\n",
       "        vertical-align: top;\n",
       "    }\n",
       "</style>\n",
       "<table border=\"1\" class=\"dataframe\">\n",
       "  <thead>\n",
       "    <tr style=\"text-align: right;\">\n",
       "      <th></th>\n",
       "      <th>Included</th>\n",
       "      <th>Score</th>\n",
       "      <th>Feature</th>\n",
       "    </tr>\n",
       "  </thead>\n",
       "  <tbody>\n",
       "    <tr>\n",
       "      <th>0</th>\n",
       "      <td>True</td>\n",
       "      <td>0.980</td>\n",
       "      <td>napmpmi index_macd</td>\n",
       "    </tr>\n",
       "    <tr>\n",
       "      <th>1</th>\n",
       "      <td>True</td>\n",
       "      <td>0.945</td>\n",
       "      <td>spvixstr_4dl</td>\n",
       "    </tr>\n",
       "    <tr>\n",
       "      <th>2</th>\n",
       "      <td>True</td>\n",
       "      <td>0.830</td>\n",
       "      <td>tyvix index_macd</td>\n",
       "    </tr>\n",
       "    <tr>\n",
       "      <th>3</th>\n",
       "      <td>True</td>\n",
       "      <td>0.805</td>\n",
       "      <td>contract_days_remaining_ux1vix_premium</td>\n",
       "    </tr>\n",
       "    <tr>\n",
       "      <th>4</th>\n",
       "      <td>True</td>\n",
       "      <td>0.675</td>\n",
       "      <td>pcrteqty index_macd</td>\n",
       "    </tr>\n",
       "  </tbody>\n",
       "</table>\n",
       "</div>"
      ],
      "text/plain": [
       "   Included  Score                                 Feature\n",
       "0      True  0.980                      napmpmi index_macd\n",
       "1      True  0.945                            spvixstr_4dl\n",
       "2      True  0.830                        tyvix index_macd\n",
       "3      True  0.805  contract_days_remaining_ux1vix_premium\n",
       "4      True  0.675                     pcrteqty index_macd"
      ]
     },
     "execution_count": 6,
     "metadata": {},
     "output_type": "execute_result"
    }
   ],
   "source": [
    "feature_set1.head(5)#[feature_set1.Included == True]"
   ]
  },
  {
   "cell_type": "code",
   "execution_count": 7,
   "metadata": {
    "collapsed": true
   },
   "outputs": [],
   "source": [
    "model_list = [(i, ModelTransformer(j)) for i, j in sk_regressors.items()]\n",
    "reg_models_feature_union = FeatureUnion(model_list)"
   ]
  },
  {
   "cell_type": "code",
   "execution_count": 8,
   "metadata": {
    "collapsed": true
   },
   "outputs": [],
   "source": [
    "X_features, y = get_dataset(how='regression', to_date='2014-12-31')"
   ]
  },
  {
   "cell_type": "code",
   "execution_count": null,
   "metadata": {
    "collapsed": true
   },
   "outputs": [],
   "source": [
    "feature_selection_list = [\n",
    "    linear_model.RandomizedLasso(alpha=0.000025, selection_threshold=0.25, random_state=1),\n",
    "    linear_model.RandomizedLasso(alpha=0.000025, selection_threshold=0.20, random_state=1),\n",
    "    linear_model.RandomizedLasso(alpha=0.000025, selection_threshold=0.15, random_state=1),\n",
    "    linear_model.RandomizedLasso(alpha=0.000025, selection_threshold=0.10, random_state=1),\n",
    "    linear_model.RandomizedLasso(alpha=0.000020, selection_threshold=0.25, random_state=1),\n",
    "    feature_selection.SelectKBest(k=45),\n",
    "    feature_selection.SelectKBest(k=50),\n",
    "    feature_selection.SelectKBest(k=55),\n",
    "    feature_selection.SelectFromModel(ensemble.ExtraTreesRegressor()),\n",
    "    feature_selection.SelectFromModel(ensemble.ExtraTreesRegressor(max_depth=2)),\n",
    "    feature_selection.SelectFromModel(ensemble.ExtraTreesRegressor(max_depth=3, n_estimators=50)),\n",
    "    feature_selection.SelectFromModel(ensemble.ExtraTreesRegressor(max_depth=4, n_estimators=100)),\n",
    "]"
   ]
  },
  {
   "cell_type": "code",
   "execution_count": null,
   "metadata": {
    "collapsed": true
   },
   "outputs": [],
   "source": [
    "import warnings\n",
    "from sklearn.exceptions import ConvergenceWarning\n",
    "if __name__ == '__main__':\n",
    "    with warnings.catch_warnings():\n",
    "        warnings.simplefilter('ignore', UserWarning)\n",
    "        warnings.simplefilter('ignore', ConvergenceWarning)\n",
    "        lars_cv = linear_model.LassoLarsCV(n_jobs=-1, cv=model_selection.TimeSeriesSplit(n_splits=30)).fit(preprocessing.StandardScaler().fit_transform(X_features), y)\n",
    "        alphas1 = np.linspace(lars_cv.alphas_[0]/5, .02 * lars_cv.alphas_[0], 20)\n",
    "        alphas2 = np.linspace(lars_cv.alphas_[0]/10, .01 * lars_cv.alphas_[0], 20)\n",
    "        alphas3 = np.linspace(lars_cv.alphas_[0]/10, .005 * lars_cv.alphas_[0], 20)"
   ]
  },
  {
   "cell_type": "code",
   "execution_count": null,
   "metadata": {
    "collapsed": true,
    "scrolled": true
   },
   "outputs": [],
   "source": [
    "if __name__ == '__main__':\n",
    "    my_pipeline_fs1 = Pipeline([\n",
    "        ('scaling', preprocessing.StandardScaler()),\n",
    "        ('feature_selection', linear_model.RandomizedLasso(random_state=1, alpha=alphas1)),\n",
    "    ])\n",
    "    my_pipeline_fs2 = Pipeline([\n",
    "        ('scaling', preprocessing.StandardScaler()),\n",
    "        ('feature_selection', linear_model.RandomizedLasso(random_state=1, alpha=alphas2)),\n",
    "    ])\n",
    "    my_pipeline_fs3 = Pipeline([\n",
    "        ('scaling', preprocessing.StandardScaler()),\n",
    "        ('feature_selection', linear_model.RandomizedLasso(random_state=1, alpha=alphas3)),\n",
    "    ])\n",
    "    my_pipeline_BayesianRidge = Pipeline([\n",
    "        ('estimator', linear_model.BayesianRidge())\n",
    "    ])\n",
    "    my_pipeline_ElasticNet = Pipeline([\n",
    "        ('estimator', linear_model.ElasticNet(random_state=1))\n",
    "    ])\n",
    "\n",
    "    fs1 = my_pipeline_fs1.fit_transform(X_features, y)\n",
    "    fs2 = my_pipeline_fs2.fit_transform(X_features, y)\n",
    "    fs3 = my_pipeline_fs3.fit_transform(X_features, y)\n",
    "    rand_lasso = my_pipeline_fs1.named_steps['feature_selection']"
   ]
  },
  {
   "cell_type": "code",
   "execution_count": null,
   "metadata": {
    "collapsed": true,
    "scrolled": true
   },
   "outputs": [],
   "source": [
    "# pd.DataFrame(my_pipeline_fs3.named_steps['feature_selection'].all_scores_, index=X_features.columns).sort_values(15, ascending=False)"
   ]
  },
  {
   "cell_type": "code",
   "execution_count": null,
   "metadata": {
    "collapsed": true
   },
   "outputs": [],
   "source": [
    "# Bayesian Ridge Regression Hyperparameters\n",
    "gs_est_params = dict(\n",
    "    estimator__alpha_1 = np.linspace(1e-15, 1e-06, 10),\n",
    "    estimator__alpha_2 = np.linspace(1e-06, 0.1, 10),\n",
    "    estimator__lambda_1 = np.linspace(1e-06, 0.1, 10),\n",
    "    estimator__lambda_2 = np.linspace(1e-15, 0.1, 10),\n",
    ")"
   ]
  },
  {
   "cell_type": "code",
   "execution_count": null,
   "metadata": {
    "collapsed": true
   },
   "outputs": [],
   "source": [
    "# ElasticNetRegression Hyperparameters\n",
    "gs_est_params = dict(\n",
    "    estimator__alpha = np.linspace(0.01, 5, 500),\n",
    "    estimator__l1_ratio = np.linspace(0.02, 0.98, 100),\n",
    ")\n",
    "my_scorer = metrics.make_scorer(return_scorer, greater_is_better = True)"
   ]
  },
  {
   "cell_type": "code",
   "execution_count": null,
   "metadata": {
    "collapsed": true,
    "scrolled": false
   },
   "outputs": [],
   "source": [
    "if __name__ == '__main__':\n",
    "    print('Working 1')\n",
    "    gscv1 = model_selection.GridSearchCV(my_pipeline_ElasticNet, param_grid=gs_est_params, scoring='r2', n_jobs=-1, cv=model_selection.TimeSeriesSplit(n_splits=10), verbose=1)\n",
    "    gscv1.fit(fs1, y)\n",
    "    print('Working 2')\n",
    "    gscv2 = model_selection.GridSearchCV(my_pipeline_ElasticNet, param_grid=gs_est_params, scoring='r2', n_jobs=-1, cv=model_selection.TimeSeriesSplit(n_splits=10), verbose=1)\n",
    "    gscv2.fit(fs2, y)\n",
    "    print('Working 3')\n",
    "    gscv3 = model_selection.GridSearchCV(my_pipeline_ElasticNet, param_grid=gs_est_params, scoring='r2', n_jobs=-1, cv=model_selection.TimeSeriesSplit(n_splits=10), verbose=1)\n",
    "    gscv3.fit(fs3, y)"
   ]
  },
  {
   "cell_type": "code",
   "execution_count": null,
   "metadata": {
    "collapsed": true
   },
   "outputs": [],
   "source": [
    "gscv1.best_score_"
   ]
  },
  {
   "cell_type": "code",
   "execution_count": null,
   "metadata": {
    "collapsed": true
   },
   "outputs": [],
   "source": [
    "gscv2.best_score_"
   ]
  },
  {
   "cell_type": "code",
   "execution_count": null,
   "metadata": {
    "collapsed": true
   },
   "outputs": [],
   "source": [
    "gscv3.best_score_"
   ]
  },
  {
   "cell_type": "code",
   "execution_count": null,
   "metadata": {
    "collapsed": true
   },
   "outputs": [],
   "source": [
    "# pd.DataFrame(data={'score': rand_lasso.scores_, 'included': rand_lasso.get_support()}, index=X_features.columns).sort_values('score', ascending=False)"
   ]
  },
  {
   "cell_type": "code",
   "execution_count": null,
   "metadata": {
    "collapsed": true,
    "scrolled": true
   },
   "outputs": [],
   "source": [
    "features1 = my_pipeline_fs1.fit_transform(X_features, y)\n",
    "features2 = my_pipeline_fs2.fit_transform(X_features, y)\n",
    "features3 = my_pipeline_fs3.fit_transform(X_features, y)\n",
    "features4 = my_pipeline_fs4.fit_transform(X_features, y)\n",
    "features5 = my_pipeline_fs5.fit_transform(X_features, y)"
   ]
  },
  {
   "cell_type": "code",
   "execution_count": null,
   "metadata": {
    "collapsed": true
   },
   "outputs": [],
   "source": [
    "# feature_selection_pipelines = dict(\n",
    "my_pipeline_fs1 = Pipeline([\n",
    "    ('scaling1', preprocessing.StandardScaler()),\n",
    "    ('feature_selection1', linear_model.RandomizedLasso(alpha=0.000015, random_state=1, verbose=1)),\n",
    "    ('polynomial', preprocessing.PolynomialFeatures(degree=2)),\n",
    "    ('feature_selection2', linear_model.RandomizedLasso(alpha=0.000015, random_state=1, verbose=1)),\n",
    "    ('scaling2', preprocessing.StandardScaler()),\n",
    "])\n",
    "my_pipeline_fs2 = Pipeline([\n",
    "    ('scaling1', preprocessing.StandardScaler()),\n",
    "    ('feature_selection1', linear_model.RandomizedLasso(alpha=0.000014, random_state=1, verbose=1)),\n",
    "    ('polynomial', preprocessing.PolynomialFeatures(degree=2)),\n",
    "    ('feature_selection2', linear_model.RandomizedLasso(alpha=0.000015, random_state=1, verbose=1)),\n",
    "    ('scaling2', preprocessing.StandardScaler()),\n",
    "])\n",
    "my_pipeline_fs3 = Pipeline([\n",
    "    ('scaling1', preprocessing.StandardScaler()),\n",
    "    ('feature_selection1', linear_model.RandomizedLasso(alpha=0.000013, random_state=1, verbose=1)),\n",
    "    ('polynomial', preprocessing.PolynomialFeatures(degree=2)),\n",
    "    ('feature_selection2', linear_model.RandomizedLasso(alpha=0.000015, random_state=1, verbose=1)),\n",
    "    ('scaling2', preprocessing.StandardScaler()),\n",
    "])\n",
    "my_pipeline_fs4 = Pipeline([\n",
    "    ('scaling1', preprocessing.StandardScaler()),\n",
    "    ('feature_selection1', linear_model.RandomizedLasso(alpha=0.000015, random_state=1, verbose=1)),\n",
    "    ('polynomial', preprocessing.PolynomialFeatures(degree=2)),\n",
    "    ('feature_selection2', linear_model.RandomizedLasso(alpha=0.000010, random_state=1, verbose=1)),\n",
    "    ('scaling2', preprocessing.StandardScaler()),\n",
    "])\n",
    "my_pipeline_fs5 = Pipeline([\n",
    "    ('scaling1', preprocessing.StandardScaler()),\n",
    "    ('feature_selection1', linear_model.RandomizedLasso(alpha=0.000015, random_state=1, verbose=1)),\n",
    "    ('polynomial', preprocessing.PolynomialFeatures(degree=2)),\n",
    "    ('feature_selection2', linear_model.RandomizedLasso(alpha=0.000005, random_state=1, verbose=1)),\n",
    "    ('scaling2', preprocessing.StandardScaler()),\n",
    "])\n",
    "my_pip = Pipeline([\n",
    "    ('estimator', linear_model.BayesianRidge())\n",
    "])"
   ]
  },
  {
   "cell_type": "code",
   "execution_count": null,
   "metadata": {
    "collapsed": true
   },
   "outputs": [],
   "source": [
    "if __name__ == '__main__':\n",
    "    print('Working 1')\n",
    "    gscv1 = model_selection.GridSearchCV(my_pip, param_grid=gs_est_params, scoring='r2', n_jobs=-1, cv=model_selection.TimeSeriesSplit(n_splits=10), verbose=1)\n",
    "    gscv1.fit(features1, y)\n",
    "    print('Working 2')\n",
    "    gscv2 = model_selection.GridSearchCV(my_pip, param_grid=gs_est_params, scoring='r2', n_jobs=-1, cv=model_selection.TimeSeriesSplit(n_splits=10), verbose=1)\n",
    "    gscv2.fit(features2, y)\n",
    "    print('Working 3')\n",
    "    gscv3 = model_selection.GridSearchCV(my_pip, param_grid=gs_est_params, scoring='r2', n_jobs=-1, cv=model_selection.TimeSeriesSplit(n_splits=10), verbose=1)\n",
    "    gscv3.fit(features3, y)\n",
    "    print('Working 4')\n",
    "    gscv4 = model_selection.GridSearchCV(my_pip, param_grid=gs_est_params, scoring='r2', n_jobs=-1, cv=model_selection.TimeSeriesSplit(n_splits=10), verbose=1)\n",
    "    gscv4.fit(features4, y)\n",
    "    print('Working 5')\n",
    "    gscv5 = model_selection.GridSearchCV(my_pip, param_grid=gs_est_params, scoring='r2', n_jobs=-1, cv=model_selection.TimeSeriesSplit(n_splits=10), verbose=1)\n",
    "    gscv5.fit(features5, y)"
   ]
  },
  {
   "cell_type": "code",
   "execution_count": null,
   "metadata": {
    "collapsed": true
   },
   "outputs": [],
   "source": [
    "linear_model.BayesianRidge(gscv1.best_params_)"
   ]
  },
  {
   "cell_type": "code",
   "execution_count": null,
   "metadata": {
    "collapsed": true
   },
   "outputs": [],
   "source": [
    "gscv_list = [gscv1,gscv2,gscv3,gscv4,gscv5]"
   ]
  },
  {
   "cell_type": "code",
   "execution_count": null,
   "metadata": {
    "collapsed": true
   },
   "outputs": [],
   "source": [
    "linear_model.BayesianRidge(n_iter=10000,**dict([((k.replace('estimator__',''), v)) for k, v in gscv3.best_params_.items()]))"
   ]
  },
  {
   "cell_type": "code",
   "execution_count": null,
   "metadata": {
    "collapsed": true
   },
   "outputs": [],
   "source": [
    "for gscv in gscv_list:\n",
    "    print(gscv.best_score_, gscv.best_params_)"
   ]
  },
  {
   "cell_type": "code",
   "execution_count": null,
   "metadata": {
    "collapsed": true
   },
   "outputs": [],
   "source": [
    "joblib.dump(my_pipeline_fs3, 'my_pipeline_fs3.pkl')\n",
    "joblib.dump(gscv3, 'gscv3.pkl')"
   ]
  },
  {
   "cell_type": "code",
   "execution_count": null,
   "metadata": {
    "collapsed": true
   },
   "outputs": [],
   "source": [
    "my_pipeline_fs3 = joblib.load('my_pipeline_fs3.pkl')\n",
    "gscv3 = joblib.load('gscv3.pkl')"
   ]
  },
  {
   "cell_type": "code",
   "execution_count": null,
   "metadata": {
    "collapsed": true
   },
   "outputs": [],
   "source": []
  },
  {
   "cell_type": "code",
   "execution_count": null,
   "metadata": {
    "collapsed": true
   },
   "outputs": [],
   "source": [
    "model_selection.GridSearchCV(pip4, param_grid=gs_est_params, scoring='r2', n_jobs=-1, cv=model_selection.TimeSeriesSplit(n_splits=10), verbose=10)"
   ]
  },
  {
   "cell_type": "code",
   "execution_count": null,
   "metadata": {
    "collapsed": true
   },
   "outputs": [],
   "source": [
    "# gs_params\n",
    "# clf_br = linear_model.BayesianRidge(n_iter=100000, tol=1e-5, alpha_1=10**-8, alpha_2=10**-0.25, lambda_1=10**-6, lambda_2=10**-6)"
   ]
  },
  {
   "cell_type": "code",
   "execution_count": null,
   "metadata": {
    "collapsed": true
   },
   "outputs": [],
   "source": [
    "pip_bre = dict((k, Pipeline(list(((k, v), ('estimator', linear_model.BayesianRidge()))))) for k, v in feature_selection_pipelines.items())"
   ]
  },
  {
   "cell_type": "code",
   "execution_count": null,
   "metadata": {
    "collapsed": true
   },
   "outputs": [],
   "source": [
    "# gscv_fs = model_selection.GridSearchCV(my_pipeline_br, param_grid=gs_fs_params, scoring='r2', n_jobs=-1, cv=model_selection.TimeSeriesSplit(n_splits=10), verbose=10)\n",
    "gscv = model_selection.GridSearchCV(pip_bre, param_grid=gs_est_params, scoring='r2', n_jobs=-1, cv=model_selection.TimeSeriesSplit(n_splits=10), verbose=10)"
   ]
  },
  {
   "cell_type": "code",
   "execution_count": null,
   "metadata": {
    "collapsed": true
   },
   "outputs": [],
   "source": [
    "gscv = model_selection.GridSearchCV(my_pipeline, param_grid=gs_params, scoring='r2', n_jobs=-1, cv=model_selection.TimeSeriesSplit(n_splits=10), verbose=True)\n",
    "# rscv = model_selection.RandomizedSearchCV(my_pipeline, n_iter=100, param_distributions=gs_params, scoring='r2', n_jobs=-1, cv=model_selection.TimeSeriesSplit(n_splits=10), verbose=True)"
   ]
  },
  {
   "cell_type": "code",
   "execution_count": null,
   "metadata": {
    "collapsed": true
   },
   "outputs": [],
   "source": [
    "score_dict = {}\n",
    "gscv_dicg = {}\n",
    "if __name__ == '__main__':\n",
    "    for pipeline in pip_bre:\n",
    "        gscv = model_selection.GridSearchCV(pip_bre[pipeline], param_grid=gs_est_params, scoring='r2', n_jobs=-1, cv=model_selection.TimeSeriesSplit(n_splits=10), verbose=True)\n",
    "        gscv.fit(X_features, y)\n",
    "        gscv_dict[pipeline] = gscv\n",
    "        score_dict[pipeline] = gscv.best_score_"
   ]
  },
  {
   "cell_type": "code",
   "execution_count": null,
   "metadata": {
    "collapsed": true
   },
   "outputs": [],
   "source": [
    "X_gdb = my_pipeline_br.fit_transform(X_features, y)"
   ]
  },
  {
   "cell_type": "code",
   "execution_count": null,
   "metadata": {
    "collapsed": true
   },
   "outputs": [],
   "source": [
    "clf_br = linear_model.BayesianRidge(n_iter=100000, tol=1e-5, alpha_1=10**-8, alpha_2=10**-0.25, lambda_1=10**-6, lambda_2=10**-6)"
   ]
  },
  {
   "cell_type": "code",
   "execution_count": null,
   "metadata": {
    "collapsed": true
   },
   "outputs": [],
   "source": [
    "X_gdb.shape"
   ]
  },
  {
   "cell_type": "code",
   "execution_count": null,
   "metadata": {
    "collapsed": true
   },
   "outputs": [],
   "source": [
    "if __name__ == '__main__':\n",
    "    score_br = model_selection.cross_val_score(clf_br, X_gdb, y, scoring='r2', cv=model_selection.TimeSeriesSplit(n_splits=10), n_jobs=-1, verbose=10)\n",
    "score_br"
   ]
  },
  {
   "cell_type": "code",
   "execution_count": null,
   "metadata": {
    "collapsed": true
   },
   "outputs": [],
   "source": [
    "score_br"
   ]
  },
  {
   "cell_type": "code",
   "execution_count": null,
   "metadata": {
    "collapsed": true
   },
   "outputs": [],
   "source": [
    "my_clf_xoo = dict(\n",
    "    gdb_clf = ensemble.GradientBoostingRegressor(n_estimators=500),\n",
    "    rf_clf = ensemble.RandomForestRegressor(n_estimators=500),\n",
    "    adaboost_clf = ensemble.AdaBoostRegressor(n_estimators=500),\n",
    "    etr_clf = ensemble.ExtraTreesRegressor(n_estimators=500),\n",
    "    br_clf = linear_model.BayesianRidge(n_iter=100000, tol=1e-3, alpha_1=10**-6, alpha_2=10**-0.25, lambda_1=10**-6, lambda_2=10**-6),\n",
    "    kr_clf = kernel_ridge.KernelRidge(alpha=10**1.5, kernel='polynomial', gamma=None, degree=1, coef0=1, kernel_params=None),\n",
    "    en_clf = linear_model.ElasticNet(alpha=1e-05, copy_X=True, fit_intercept=True, l1_ratio=0.3, max_iter=100000, normalize=False, positive=False, precompute=False,\n",
    "                                              random_state=1, selection='cyclic', tol=1e-05, warm_start=False),\n",
    ")"
   ]
  },
  {
   "cell_type": "code",
   "execution_count": null,
   "metadata": {
    "collapsed": true
   },
   "outputs": [],
   "source": [
    "score_dict = {}\n",
    "if __name__ == '__main__':\n",
    "    for clf in my_clf_xoo:\n",
    "        print('Working', clf)\n",
    "        score_dict[clf] = model_selection.cross_val_score(my_clf_xoo[clf], X_gdb, y, scoring='r2', cv=model_selection.TimeSeriesSplit(n_splits=10), n_jobs=-1, verbose=10)"
   ]
  },
  {
   "cell_type": "code",
   "execution_count": null,
   "metadata": {
    "collapsed": true
   },
   "outputs": [],
   "source": [
    "pd.DataFrame(score_dict)"
   ]
  },
  {
   "cell_type": "code",
   "execution_count": null,
   "metadata": {
    "collapsed": true,
    "scrolled": true
   },
   "outputs": [],
   "source": [
    "np.random.lognormal(np.log(0.001), np.log(4), 20),"
   ]
  },
  {
   "cell_type": "code",
   "execution_count": null,
   "metadata": {
    "collapsed": true
   },
   "outputs": [],
   "source": [
    "# ElasticNet\n",
    "search_params = {\n",
    "    'feature_selection__alpha': ['0.000015', '0.000020', '0.000030'],\n",
    "    'feature_selection__selection_threshold': [0.05, 0.10, 0.15, 0.20, 0.25, 0.30],\n",
    "    'estimator__alpha': np.random.lognormal(np.log(0.001), np.log(4), 1000),\n",
    "    'estimator__l1_ratio': np.random.uniform(0.1, 0.9, 30),\n",
    "}"
   ]
  },
  {
   "cell_type": "code",
   "execution_count": null,
   "metadata": {
    "collapsed": true
   },
   "outputs": [],
   "source": [
    "# ElasticNet\n",
    "search_params = {\n",
    "    'feature_selection__alpha': ['0.000015', '0.000020', '0.000030'],\n",
    "    'feature_selection__selection_threshold': [0.05, 0.10, 0.15, 0.20, 0.25, 0.30],\n",
    "    'estimator__alpha': np.random.lognormal(np.log(0.001), np.log(4), 1000),\n",
    "    'estimator__l1_ratio': np.random.uniform(0.1, 0.9, 30),\n",
    "}"
   ]
  },
  {
   "cell_type": "code",
   "execution_count": null,
   "metadata": {
    "collapsed": true
   },
   "outputs": [],
   "source": [
    "# GradientBoost\n",
    "search_params = {\n",
    "    'feature_selection__alpha': ['0.000015', '0.000020', '0.000030'],\n",
    "    'feature_selection__selection_threshold': [0.05, 0.10, 0.15, 0.20, 0.25, 0.30],\n",
    "    'estimator__learning_rate': [0.0001], #, 0.000001],\n",
    "    'estimator__min_samples_split': [3], # [2, 3, 4, 5, 6],\n",
    "    'estimator__min_samples_leaf': [1], #, 2, 3, 4, 5],\n",
    "    'estimator__n_estimators': [500], #, 2, 3, 4, 5],\n",
    "#     'estimator__max_depth ': [3, 4, 6, 8],\n",
    "}"
   ]
  },
  {
   "cell_type": "code",
   "execution_count": null,
   "metadata": {
    "collapsed": true,
    "scrolled": true
   },
   "outputs": [],
   "source": [
    "linear_model.BayesianRidge().get_params()"
   ]
  },
  {
   "cell_type": "code",
   "execution_count": null,
   "metadata": {
    "collapsed": true
   },
   "outputs": [],
   "source": [
    "X_features.columns[model_output_pipeline.named_steps['final_features'].named_steps['feature_selection'].get_support()]"
   ]
  },
  {
   "cell_type": "code",
   "execution_count": null,
   "metadata": {
    "collapsed": true
   },
   "outputs": [],
   "source": [
    "gscv = model_selection.GridSearchCV(my_pipeline_GradientBoost, param_grid=search_params, scoring='r2', n_jobs=-1, cv=model_selection.TimeSeriesSplit(n_splits=10), verbose=True)\n",
    "# rscv = model_selection.RandomizedSearchCV(my_pipeline, n_iter=100, param_distributions=gs_params, scoring='r2', n_jobs=-1, cv=model_selection.TimeSeriesSplit(n_splits=10), verbose=True)"
   ]
  },
  {
   "cell_type": "code",
   "execution_count": null,
   "metadata": {
    "collapsed": true
   },
   "outputs": [],
   "source": [
    "##########################################################################################################################################################\n",
    "##########################################################################################################################################################\n",
    "##########################################################################################################################################################\n",
    "##########################################################################################################################################################\n",
    "##########################################################################################################################################################\n",
    "##########################################################################################################################################################\n",
    "##########################################################################################################################################################\n",
    "##########################################################################################################################################################"
   ]
  },
  {
   "cell_type": "markdown",
   "metadata": {},
   "source": [
    "## Classifier Testing"
   ]
  },
  {
   "cell_type": "code",
   "execution_count": null,
   "metadata": {
    "collapsed": true
   },
   "outputs": [],
   "source": [
    "##########################################################################################################################################################\n",
    "# test the classifiers from the previously defined sk_classifiers dictionary using time-series split cross validation, specifiing the number of splits below\n",
    "# http://scikit-learn.org/stable/modules/generated/sklearn.model_selection.TimeSeriesSplit.html\n",
    "n_splits = 10\n",
    "##########################################################################################################################################################\n",
    "\n",
    "X, y , y_reg = get_dataset(how='classification', to_date=(datetime.datetime.today()-datetime.timedelta(180)).strftime('%Y%m%d'))\n",
    "my_pipeline = pipeline_select_features # my_pipeline_fs3# pipeline_select_features \n",
    "\n",
    "df_predictions_clf = pd.DataFrame(index=y_reg.index)\n",
    "clfs_with_prob = []\n",
    "# Create train and validation sets\n",
    "tscv = model_selection.TimeSeriesSplit(n_splits=n_splits)\n",
    "for train_index, test_index in tqdm_notebook(list(tscv.split(X))):\n",
    "    X_train, X_test, y_train, y_test, test_dates = X.iloc[train_index], X.iloc[test_index], y[train_index], y[test_index], X.index[test_index]\n",
    "#     X_train = pd.DataFrame(my_pipeline.transform(X_train), index=X_train.index) # use for polynomial feature set with imported pipeline that's already fitted\n",
    "    X_train = pd.DataFrame(my_pipeline.fit_transform(X_train, y), index=X_train.index) # use for given feature set passed in a list using pipeline_select_features\n",
    "    X_test  = pd.DataFrame(my_pipeline.transform(X_test), index=X_test.index)\n",
    "\n",
    "    for clf_name in sk_classifiers:\n",
    "        clf = sk_classifiers[clf_name]\n",
    "        clf.fit(X_train, y_train)\n",
    "        if hasattr(clf, 'predict_proba'):\n",
    "            predictions = clf.predict_proba(X_test)[:,0]\n",
    "        else:\n",
    "            predictions = clf.predict(X_test)\n",
    "        df_predictions_clf.loc[test_dates, clf_name] = predictions\n",
    "        \n",
    "# plt.hist(df_results_prob['LogisticGS3'], bins=50)"
   ]
  },
  {
   "cell_type": "code",
   "execution_count": null,
   "metadata": {
    "collapsed": true
   },
   "outputs": [],
   "source": [
    "## positioning dataframe creation based on specified thresholds for going long/short\n",
    "log_prob_long_threshold = 0.50\n",
    "log_prob_short_threshold = 0.55\n",
    "\n",
    "clfs_w_prob, clfs_wo_prob = [clf for clf in sk_classifiers if hasattr(sk_classifiers[clf], 'predict_proba')], [clf for clf in sk_classifiers if not hasattr(sk_classifiers[clf], 'predict_proba')]\n",
    "df_returns_clf     = pd.DataFrame(data={'Control': -y_reg})\n",
    "df_positioning_clf = pd.DataFrame(index=y_reg.index)\n",
    "df_positioning_clf[clfs_w_prob] = df_predictions_clf[clfs_w_prob].applymap(lambda x: -1 if x > log_prob_short_threshold else 1 if x < log_prob_long_threshold else 0)\n",
    "df_positioning_clf[clfs_wo_prob] = df_predictions_clf[clfs_wo_prob].applymap(lambda x: -1 if x < 0 else 1 if x > 0 else 0)\n",
    "df_select_predictions_clf = df_predictions_clf[clfs_w_prob]\n",
    "df_returns_clf = df_positioning_clf.multiply(-df_returns_clf['Control'], axis=0).join(df_returns_clf['Control'])\n",
    "df_returns_clf, df_select_predictions_clf, df_positioning_clf = df_returns_clf['2009':], df_select_predictions_clf['2009':], df_positioning_clf['2009':]\n",
    "clf_results_dict = {'returns':df_returns_clf, 'predictions':df_select_predictions_clf, 'positioning':df_positioning_clf}"
   ]
  },
  {
   "cell_type": "markdown",
   "metadata": {},
   "source": [
    "## Classifier Results"
   ]
  },
  {
   "cell_type": "code",
   "execution_count": null,
   "metadata": {
    "collapsed": true,
    "scrolled": false
   },
   "outputs": [],
   "source": [
    "## plot results using custom function defined in helper_functions.py\n",
    "plot_results(clf_results_dict, thresholds=(log_prob_short_threshold, log_prob_long_threshold), days_history=200, plot_regression='LSTM')"
   ]
  },
  {
   "cell_type": "code",
   "execution_count": null,
   "metadata": {
    "collapsed": true,
    "scrolled": false
   },
   "outputs": [],
   "source": [
    "## generate summary results using custom function defined in helper_functions.py\n",
    "summary_periods = [{'from':'2015', 'to':'2017'}, {'from':'2012', 'to':'2017'}, {'from':'2010', 'to':'2017'}]\n",
    "summary_clf = backtest_summary(df_returns_clf, sample_periods=summary_periods)\n",
    "try: summary_list_clf\n",
    "except: summary_list_clf = []\n",
    "summary_list_clf.append(summary_clf)\n",
    "summary_list_clf[-1]"
   ]
  },
  {
   "cell_type": "code",
   "execution_count": null,
   "metadata": {
    "collapsed": true,
    "scrolled": false
   },
   "outputs": [],
   "source": [
    "## view result differences vs prior tests\n",
    "try: summary_diff_clf = (summary_list_clf[-1].applymap(to_number) - summary_list_clf[-2].applymap(to_number)).applymap(to_percent).applymap(lambda x: '' if x=='0.0%' else x)\n",
    "except: summary_diff_clf = None\n",
    "# summary_diff_clf"
   ]
  },
  {
   "cell_type": "markdown",
   "metadata": {},
   "source": [
    "## Regressor Testing"
   ]
  },
  {
   "cell_type": "code",
   "execution_count": null,
   "metadata": {
    "collapsed": true
   },
   "outputs": [],
   "source": [
    "###########################################################################################################################################################\n",
    "# test the regressors from the previously defined sk_regressors dictionary using time-series split cross validation, specifiing the number of splits below\n",
    "# http://scikit-learn.org/stable/modules/generated/sklearn.model_selection.TimeSeriesSplit.html\n",
    "n_splits = 90\n",
    "###########################################################################################################################################################\n",
    "\n",
    "X, y = get_dataset(how='regression', to_date=(datetime.datetime.today()-datetime.timedelta(180)).strftime('%Y%m%d'), prediction_days=1, time_step_adjustment=False)\n",
    "my_pipeline = pipeline_select_features # my_pipeline_fs3 # pipeline_select_features \n",
    "\n",
    "df_predictions_reg = pd.DataFrame(index=y.index)\n",
    "\n",
    "cv = model_selection.TimeSeriesSplit(n_splits=n_splits)\n",
    "for train_index, test_index in tqdm_notebook(list(cv.split(X))):\n",
    "#     train_index = list(range(0, int(len(X)*0.85)))\n",
    "#     test_index = list(range(len(train_index), len(X)))\n",
    "    scaler = preprocessing.StandardScaler()\n",
    "    X_train, X_test, y_train, y_test, test_dates = X.iloc[train_index], X.iloc[test_index], y[train_index], y[test_index], X.index[test_index]\n",
    "    #     X_train = pd.DataFrame(my_pipeline.transform(X_train), index=X_train.index) # use for polynomial feature set with imported pipeline that's already fitted\n",
    "    X_train = pd.DataFrame(my_pipeline.fit_transform(X_train, y), index=X_train.index) # use for given feature set passed in a list using pipeline_select_features\n",
    "    X_test  = pd.DataFrame(my_pipeline.transform(X_test), index=X_test.index)\n",
    "\n",
    "    for clf_name in sk_regressors:\n",
    "        clf = sk_regressors[clf_name]\n",
    "        clf.fit(X_train, y_train)\n",
    "        regressions = clf.predict(X_test)\n",
    "        df_predictions_reg.loc[test_dates, clf_name] = regressions"
   ]
  },
  {
   "cell_type": "code",
   "execution_count": null,
   "metadata": {
    "collapsed": true
   },
   "outputs": [],
   "source": [
    "## positioning dataframe creation based on specified thresholds for going long/short\n",
    "prediction_long_threshold_reg  =  0.0020\n",
    "prediction_short_threshold_reg = -0.0020\n",
    "\n",
    "df_returns_reg     = pd.DataFrame(data={'Control': -y})\n",
    "df_positioning_reg = pd.DataFrame(index=y.index)\n",
    "df_positioning_reg = df_predictions_reg.applymap(lambda x: -1 if x < prediction_short_threshold_reg else 1 if x > prediction_long_threshold_reg else 0)\n",
    "df_returns_reg = df_positioning_reg.multiply(-df_returns_reg['Control'], axis=0).join(df_returns_reg['Control'])\n",
    "df_returns_reg, df_predictions_reg, df_positioning_reg = df_returns_reg['2009':], df_predictions_reg['2009':], df_positioning_reg['2009':]\n",
    "reg_results_dict = {'returns':df_returns_reg, 'predictions':df_predictions_reg, 'positioning':df_positioning_reg}"
   ]
  },
  {
   "cell_type": "markdown",
   "metadata": {},
   "source": [
    "## Regressor Results"
   ]
  },
  {
   "cell_type": "code",
   "execution_count": null,
   "metadata": {
    "collapsed": true,
    "scrolled": false
   },
   "outputs": [],
   "source": [
    "## plot results using custom function defined in helper_functions.py\n",
    "plot_results(reg_results_dict, thresholds=(prediction_short_threshold_reg, prediction_long_threshold_reg), days_history=200, plot_regression='ElasticNet')"
   ]
  },
  {
   "cell_type": "code",
   "execution_count": null,
   "metadata": {
    "collapsed": true,
    "scrolled": false
   },
   "outputs": [],
   "source": [
    "## generate summary results using custom function defined in helper_functions.py\n",
    "summary_reg = backtest_summary(df_returns_reg, sample_periods=[{'from':'2012', 'to':'2017'}, {'from':'2015', 'to':'2017'}])\n",
    "try: summary_list_reg\n",
    "except: summary_list_reg = []\n",
    "summary_list_reg.append(summary_reg)\n",
    "summary_list_reg[-1]"
   ]
  },
  {
   "cell_type": "code",
   "execution_count": null,
   "metadata": {
    "collapsed": true,
    "scrolled": false
   },
   "outputs": [],
   "source": [
    "## view result differences vs prior tests\n",
    "try: summary_diff_reg = (summary_list_reg[-1].applymap(to_number) - summary_list_reg[-2].applymap(to_number)).applymap(to_percent).applymap(lambda x: '' if x=='0.0%' else x)\n",
    "except: summary_diff_reg = None\n",
    "summary_diff_reg"
   ]
  },
  {
   "cell_type": "code",
   "execution_count": null,
   "metadata": {
    "collapsed": true
   },
   "outputs": [],
   "source": [
    "len(features)"
   ]
  },
  {
   "cell_type": "code",
   "execution_count": null,
   "metadata": {
    "collapsed": true
   },
   "outputs": [],
   "source": [
    "df_returns_reg['Control']['2016-06-23']"
   ]
  },
  {
   "cell_type": "code",
   "execution_count": null,
   "metadata": {
    "collapsed": true,
    "scrolled": false
   },
   "outputs": [],
   "source": [
    "reg_choose = 'EN-R2'\n",
    "plt.figure(figsize=(5,5))\n",
    "plt.scatter(-df_returns_reg['Control'], df_predictions_reg[reg_choose])\n",
    "plt.xlabel('Control')\n",
    "plt.ylabel(reg_choose)"
   ]
  },
  {
   "cell_type": "code",
   "execution_count": null,
   "metadata": {
    "collapsed": true,
    "scrolled": true
   },
   "outputs": [],
   "source": [
    "metrics.r2_score(-df_returns_reg['Control'].iloc[1000:-1], df_predictions_reg['EN-R2'].iloc[1000:-1])"
   ]
  },
  {
   "cell_type": "code",
   "execution_count": null,
   "metadata": {
    "collapsed": true,
    "scrolled": false
   },
   "outputs": [],
   "source": [
    "plot_returns(df_returns_reg, days_history=500, log_scale=True)"
   ]
  },
  {
   "cell_type": "markdown",
   "metadata": {},
   "source": [
    "## Iterative Feature Selection"
   ]
  },
  {
   "cell_type": "code",
   "execution_count": null,
   "metadata": {
    "collapsed": true,
    "scrolled": true
   },
   "outputs": [],
   "source": [
    "my_scorer = metrics.make_scorer(return_scorer, greater_is_better = True)\n",
    "if __name__ == '__main__':\n",
    "    days = 1\n",
    "    threshold = 0.00\n",
    "    from_date = '2006-12-15'\n",
    "    to_date = '2017-03-31'\n",
    "    rand_seed = 1\n",
    "    n_splits = 10\n",
    "    calc_scores_only_after = '2008-12-31'\n",
    "    scoring = 'neg_mean_squared_error' #my_scorer #'neg_mean_squared_error'\n",
    "    # clf scorers: accuracy, average_precision, f1, f1_macro, f1_weighted, f1_samples, neg_log_loss, precision_..., recall_..., roc_auc\n",
    "    # reg scorers: neg_mean_absolute_error, neg_mean_squared_error, neg_median_absolute_error, r2\n",
    "    #--------------MODEL-METRICS---------------------------------------------------------------------------------------------------------------------\n",
    "    \n",
    "    X, y = get_dataset(how='regression', from_date=from_date, to_date=to_date)\n",
    "    feature_set_selector = feature_set1.copy()\n",
    "    feature_selection_list = []\n",
    "    score_tracking = -5\n",
    "    \n",
    "    # Calc the point in the set from which scores should be calculated. Not calculating scores on the entire data set.\n",
    "    # Adjusted below calc from the formula from the definition of TimeSeriesSplit\n",
    "    score_tracking_pct = Counter(X.index > calc_scores_only_after)[False]/len(X)\n",
    "    test_index = int((score_tracking_pct * len(X) - len(X) % (n_splits) - 1) / (len(X) // (n_splits + 1)))\n",
    "    for i, feature in enumerate(tqdm_notebook(feature_set_selector.Feature, desc='Progress:')):\n",
    "        feature_selection_list.append(feature)\n",
    "        scaler = preprocessing.StandardScaler()\n",
    "        X_train = scaler.fit_transform(X[feature_selection_list])\n",
    "        clf = linear_model.Ridge(alpha=0.00001, max_iter=10000, tol=1e-4, solver='lsqr', fit_intercept=True, random_state=rand_state)\n",
    "#         clf = ElasticNet(alpha=0.01, l1_ratio=0.2, random_state=rand_state)\n",
    "#         clf = Lasso(alpha=0.0001)\n",
    "        score = model_selection.cross_val_score(clf, X_train, y, cv=model_selection.TimeSeriesSplit(n_splits=n_splits), scoring=scoring)\n",
    "#         score = score[test_index:]\n",
    "#         score = np.prod(score + 1) - 1\n",
    "        score = np.mean(score)\n",
    "        if score > score_tracking:\n",
    "            score_tracking = score\n",
    "            feature_set_selector.loc[i, 'Included?'] = 'True'\n",
    "        else:\n",
    "            feature_selection_list.pop()\n",
    "            feature_set_selector.loc[i, 'Included?'] = 'False'\n",
    "        feature_set_selector.loc[i, 'Model Score'] = score\n",
    "        clear_output(wait=True)\n",
    "        print(score, score > score_tracking, feature)\n",
    "#         plt.plot(feature_set_selector['Model Score'])\n",
    "#         plt.show()\n",
    "print('Final score:', score_tracking)\n"
   ]
  },
  {
   "cell_type": "code",
   "execution_count": null,
   "metadata": {
    "collapsed": true
   },
   "outputs": [],
   "source": [
    "# Making sure score maakes sense.......\n",
    "clf = linear_model.Ridge(alpha=0.00001, max_iter=100000, tol=1e-4, solver='lsqr', fit_intercept=True, random_state=rand_state)\n",
    "score = model_selection.cross_val_score(clf, decomposition.PCA().fit_transform(preprocessing.StandardScaler().fit_transform(X[feature_selection])), y,\n",
    "                                        cv=model_selection.TimeSeriesSplit(n_splits=n_splits), scoring='r2')\n",
    "score = score[test_index:]\n",
    "np.mean(score)\n",
    "# np.prod(score + 1) -1"
   ]
  },
  {
   "cell_type": "code",
   "execution_count": null,
   "metadata": {
    "collapsed": true
   },
   "outputs": [],
   "source": [
    "features = feature_set_selector[feature_set_selector['Included?'] == 'True'].Feature"
   ]
  },
  {
   "cell_type": "code",
   "execution_count": null,
   "metadata": {
    "collapsed": true
   },
   "outputs": [],
   "source": [
    "feature_set_selector.shape"
   ]
  },
  {
   "cell_type": "code",
   "execution_count": null,
   "metadata": {
    "collapsed": true,
    "scrolled": false
   },
   "outputs": [],
   "source": [
    "feature_set_selector[feature_set_selector['Included?'] == 'True']"
   ]
  },
  {
   "cell_type": "code",
   "execution_count": null,
   "metadata": {
    "collapsed": true
   },
   "outputs": [],
   "source": [
    "pd.DataFrame(data={'2015+' : '{:.2f}%'.format((np.prod(-df_results.loc[df_results.index > '2014-12-31','Control']+1)-1)*100),\n",
    "                   '2012+' : '{:.2f}%'.format((np.prod(-df_results.loc[df_results.index > '2011-12-31','Control']+1)-1)*100)},\n",
    "             index=['Total Return']).T"
   ]
  },
  {
   "cell_type": "markdown",
   "metadata": {},
   "source": [
    "## Hyperparameter Tuning"
   ]
  },
  {
   "cell_type": "code",
   "execution_count": null,
   "metadata": {
    "collapsed": true
   },
   "outputs": [],
   "source": [
    "####################################################################################################################################################\n",
    "## USE CUSTOM CLASS 'BayesianSearchCV' defined in 'helper_functions.py' -- more efficient than GridSearchCV or RandomizedSearchCV\n",
    "## Cross validated hyperparemeter search class, similar to GridSearchCV, but utilizing Bayesian optimization via a gaussian process.\n",
    "####################################################################################################################################################\n",
    "\n",
    "clf_tune = svm.SVC()\n",
    "clf_tune.get_params()"
   ]
  },
  {
   "cell_type": "code",
   "execution_count": null,
   "metadata": {
    "collapsed": true
   },
   "outputs": [],
   "source": [
    "# Logistic Regression Hyperparameters\n",
    "gs_params = dict(\n",
    "    C = [10**i/100000 for i in range(1,8)] + [2],\n",
    "    class_weight = [{-1:1, 1:1.05}, {-1:1, 1:1.10}, {-1:1, 1:1.15}, {-1:1, 1:1.20}, {-1:1, 1:1.25}, {-1:1, 1:1.25}],\n",
    "    fit_intercept = [True, False], \n",
    "    penalty = ['l1', 'l2'],\n",
    "    tol = [10**i/100000000000 for i in range(1,10,2)],\n",
    "    random_state=[1],\n",
    ")"
   ]
  },
  {
   "cell_type": "code",
   "execution_count": null,
   "metadata": {
    "collapsed": true
   },
   "outputs": [],
   "source": [
    "# ElasticNet Hyperparameters - Grid Search\n",
    "gs_params = dict(\n",
    "    alpha = [10**i/1000000000 for i in range(1,9)],\n",
    "    l1_ratio = [i/10 for i in range(1,10)],\n",
    "    max_iter = [10**i for i in range(4,8)], \n",
    "    tol = [10**i/100000000000000 for i in range(1,10,2)],\n",
    "    random_state=[1],\n",
    ")"
   ]
  },
  {
   "cell_type": "code",
   "execution_count": null,
   "metadata": {
    "collapsed": true
   },
   "outputs": [],
   "source": [
    "# LinearSVR Hyperparameters - Grid Search\n",
    "gs_params = dict(\n",
    "    C = np.random.normal(1,0.1,1000),\n",
    "    intercept_scaling = np.random.normal(0.97545119074045372,0.001,50),\n",
    "    max_iter = [100000], \n",
    "    tol = [1e-06],\n",
    "    random_state=[1],\n",
    ")"
   ]
  },
  {
   "cell_type": "code",
   "execution_count": null,
   "metadata": {
    "collapsed": true
   },
   "outputs": [],
   "source": [
    "# LinearSVR Hyperparameters - Bayesian Search\n",
    "bs_params = dict(\n",
    "    C = (1e-15, 5),\n",
    "#     intercept_scaling = (1e-2, 100),\n",
    ")"
   ]
  },
  {
   "cell_type": "code",
   "execution_count": null,
   "metadata": {
    "collapsed": true
   },
   "outputs": [],
   "source": [
    "# ElasticNet Hyperparameters - Randomized Search\n",
    "rs_params = dict(\n",
    "    alpha = np.random.lognormal(np.log(0.0019417637799745572), np.log(2.5), 5000),\n",
    "    l1_ratio = np.random.normal(0.6098225186128009,0.10,5000),\n",
    "    max_iter = [10**i for i in range(4,6)], \n",
    "    tol = [10**i/1000000000 for i in range(2,5,1)],\n",
    "    random_state=[1],\n",
    ")"
   ]
  },
  {
   "cell_type": "code",
   "execution_count": null,
   "metadata": {
    "collapsed": true
   },
   "outputs": [],
   "source": [
    "# ElasticNet Hyperparameters - Bayesian Search\n",
    "bs_params = dict(\n",
    "    alpha = (1e-10, 0.01),\n",
    "    l1_ratio = (0.02, 0.98),\n",
    ")"
   ]
  },
  {
   "cell_type": "code",
   "execution_count": null,
   "metadata": {
    "collapsed": true
   },
   "outputs": [],
   "source": [
    "# Bayesian Ridge Regression Hyperparameters\n",
    "gs_params = dict(\n",
    "    alpha_1 = [10**i/100000000000 for i in range(1,11,2)],\n",
    "    alpha_2 = [10**i/100000000000 for i in range(1,11,2)],\n",
    "    lambda_1 = [10**i/100000000000 for i in range(1,11,2)],\n",
    "    lambda_2 = [10**i/100000000000 for i in range(1,11,2)],\n",
    "    n_iter = [10**i for i in range(4,6)], \n",
    "    tol = [10**i/10000000000 for i in range(1,10,2)],\n",
    ")"
   ]
  },
  {
   "cell_type": "code",
   "execution_count": null,
   "metadata": {
    "collapsed": true
   },
   "outputs": [],
   "source": [
    "# MLP Regression Hyperparameters\n",
    "gs_params = dict(\n",
    "    alpha = [10**i/100000000000 for i in range(1,11,2)],\n",
    "    activation = ['relu','tanh'],\n",
    "    hidden_layer_sizes = [(100,),(500,),(500,500)],\n",
    "    learning_rate_init = [10**i/100000000000 for i in range(1,11,2)],\n",
    "    solver = ['adam'], \n",
    "    tol = [10**i/10000000000 for i in range(1,10,2)],\n",
    ")"
   ]
  },
  {
   "cell_type": "code",
   "execution_count": null,
   "metadata": {
    "collapsed": true
   },
   "outputs": [],
   "source": [
    "# KernelRidge Hyperparameters - Randomized Search\n",
    "rs_params = dict(\n",
    "    alpha = np.random.lognormal(np.log(0.44606352613054734), np.log(1.5), 5000),\n",
    "    gamma = np.random.lognormal(np.log(0.00046144969385977607), np.log(1.5), 5000),\n",
    "    kernel = ['rbf'],\n",
    ")"
   ]
  },
  {
   "cell_type": "code",
   "execution_count": null,
   "metadata": {
    "collapsed": true
   },
   "outputs": [],
   "source": [
    "# KernelRidge Hyperparameters - Bayesian Search\n",
    "bs_params = dict(\n",
    "    alpha = (1e-10,5),\n",
    "    gamma = (1e-10,5)\n",
    ")"
   ]
  },
  {
   "cell_type": "code",
   "execution_count": null,
   "metadata": {
    "collapsed": true
   },
   "outputs": [],
   "source": [
    "# MLP Regression Hyperparameters\n",
    "bs_params = dict(\n",
    "    alpha = (1e-04, 5),\n",
    "#     activation = ['relu','tanh'],\n",
    "    hidden_layers = (1,2),\n",
    "    hidden_layer_sizes = (10,1000),\n",
    "    learning_rate_init = (1e-05, 0.1),\n",
    "    tol = (1e-05, 0.1),\n",
    ")"
   ]
  },
  {
   "cell_type": "code",
   "execution_count": null,
   "metadata": {
    "collapsed": true
   },
   "outputs": [],
   "source": [
    "X.to_excel('data.xlsx')"
   ]
  },
  {
   "cell_type": "code",
   "execution_count": null,
   "metadata": {
    "collapsed": true,
    "scrolled": false
   },
   "outputs": [],
   "source": [
    "plt.scatter(np.random.uniform(size=1000), np.random.normal(size=1000), marker='+')"
   ]
  },
  {
   "cell_type": "code",
   "execution_count": null,
   "metadata": {
    "collapsed": true
   },
   "outputs": [],
   "source": [
    "feature_dump = '''vix index\n",
    "vvix index\n",
    "vxv index\n",
    "rvx index\n",
    "vxn index\n",
    "tyvix index\n",
    "jpmvxyg7 index\n",
    "jpmvxyem index\n",
    "cesiusd index\n",
    "cesig10 index\n",
    "dgnoxtch index\n",
    "conssent index\n",
    "ctg_curvature\n",
    "ux_weighted\n",
    "ux_weighted_2\n",
    "ctg_weighted\n",
    "ctg_weighted_1v2\n",
    "ux_wgt_prem\n",
    "contract_days_times_premium\n",
    "contract_days_remaining_ux2ux1_premium\n",
    "contract_days_remaining_ux1vix_premium\n",
    "spy_MACD\n",
    "spy_5d_rv\n",
    "spy_6m_rv\n",
    "vix_spy_10rv_prem\n",
    "vix_spy_6mrv_prem\n",
    "spy_rv_momentum\n",
    "ctg_momentum\n",
    "ctg_momentum_chg\n",
    "spvixstr_1dl\n",
    "spvixstr_2dl\n",
    "spy_iwm_10d_corr\n",
    "spy_hyg_10d_corr\n",
    "spvixstr_3d_perf\n",
    "spy_30d_skew_95_105\n",
    "vix index_chg\n",
    "vvix index_chg\n",
    "ctg_curvature_chg\n",
    "ux_weighted_chg\n",
    "ctg_weighted_chg\n",
    "ux_wgt_prem_chg\n",
    "vix_spy_10rv_prem_chg\n",
    "spy_30d_skew_95_105_chg\n",
    "spy equity_pct\n",
    "vix index_pct\n",
    "ux_weighted_pct\n",
    "spy equity_pct_ema3d'''"
   ]
  },
  {
   "cell_type": "code",
   "execution_count": null,
   "metadata": {
    "collapsed": true
   },
   "outputs": [],
   "source": [
    "feature_dump = '''spy equity_pct\n",
    "iwm equity_pct\n",
    "ctg_weighted_1d_lag\n",
    "ux_weighted_1d_lag\n",
    "vix_1d_lag\n",
    "cesiusd index\n",
    "cesig10 index\n",
    "conssent index\n",
    "ctg_curvature\n",
    "spy_MACD\n",
    "spy_30d_rv\n",
    "vix_spy_6mrv_prem\n",
    "spy_iwm_10d_corr'''"
   ]
  },
  {
   "cell_type": "code",
   "execution_count": null,
   "metadata": {
    "collapsed": true
   },
   "outputs": [],
   "source": [
    "features =  feature_dump.split('\\n')\n",
    "pipeline_select_features = Pipeline([\n",
    "    ('select_features', FeatureExtractor(features=features)),\n",
    "    ('scale', preprocessing.StandardScaler()),\n",
    "])"
   ]
  },
  {
   "cell_type": "code",
   "execution_count": null,
   "metadata": {
    "collapsed": true
   },
   "outputs": [],
   "source": [
    "pipeline_scale = Pipeline([\n",
    "    ('scale', preprocessing.StandardScaler()),\n",
    "    ('pca', decomposition.PCA(n_components=80)),\n",
    "])\n",
    "# SVC Hyperparameters - Bayesian Search\n",
    "bs_params = dict(\n",
    "    C = (4,10),\n",
    "#     gamma = (1e-5,1e-1)\n",
    ")"
   ]
  },
  {
   "cell_type": "code",
   "execution_count": null,
   "metadata": {
    "collapsed": true
   },
   "outputs": [],
   "source": [
    "a = decomposition.PCA().fit(X_train, y_reg)"
   ]
  },
  {
   "cell_type": "code",
   "execution_count": null,
   "metadata": {
    "collapsed": true
   },
   "outputs": [],
   "source": [
    "plt.figure(figsize=(20,15))\n",
    "sns.barplot(x='name', y='variance', data=pd.DataFrame(data={'name':features, 'variance': a.explained_variance_ratio_}).sort_values('variance', ascending=False).iloc[0:10])"
   ]
  },
  {
   "cell_type": "code",
   "execution_count": null,
   "metadata": {
    "collapsed": true,
    "scrolled": false
   },
   "outputs": [],
   "source": [
    "my_scorer = metrics.make_scorer(return_scorer, greater_is_better = True)\n",
    "if __name__ == '__main__':\n",
    "    from_date = '2006-12-15'\n",
    "    to_date = '2017-03-31'\n",
    "    rand_seed = 1\n",
    "    n_splits = 10\n",
    "    n_iters = 5000\n",
    "    scoring = 'f1_weighted'# 'r2' #my_scorer#'neg_mean_squared_error'\n",
    "    # clf scorers: accuracy, average_precision, f1, f1_macro, f1_weighted, f1_samples, neg_log_loss, precision_..., recall_..., roc_auc\n",
    "    # reg scorers: neg_mean_absolute_error, neg_mean_squared_error, neg_median_absolute_error, r2\n",
    "    #--------------MODEL-METRICS---------------------------------------------------------------------------------------------------------------------\n",
    "    \n",
    "    X, y, y_reg = get_dataset(how='classification', from_date=from_date, to_date=to_date, y_lag=-1, threshold=0.05)\n",
    "#     data = pd.read_pickle('historical_data1.pickle')\n",
    "#     X_train = preprocessing.StandardScaler().fit_transform(X[features])\n",
    "    X_train = pipeline_select_features.fit_transform(X)\n",
    "    \n",
    "#     gscv = model_selection.GridSearchCV(clf_tune, param_grid=gs_params, scoring=scoring, cv=model_selection.TimeSeriesSplit(n_splits=n_splits), n_jobs=-1, verbose=True)\n",
    "#     gscv.fit(X_train, y)\n",
    "#     rscv = model_selection.RandomizedSearchCV(clf_tune, param_distributions=rs_params, n_iter=n_iters, scoring=scoring, cv=model_selection.TimeSeriesSplit(n_splits=n_splits), n_jobs=-1, verbose=True)\n",
    "#     rscv.fit(X_train, y)\n",
    "#     bscv = BayesianSearchCV(linear_model.ElasticNet(max_iter=10000), bs_params, scoring=scoring, cv=model_selection.TimeSeriesSplit(n_splits=10), cv_exclude_first=0.3, verbose=1)\n",
    "#     bscv.fit(X_train, y, init_points=4, n_iter=20, acq='ucb', kappa=4, gp_params={'alpha':1e-10})\n",
    "    bscv = BayesianSearchCV(svm.SVC(), bs_params, scoring=scoring, cv=model_selection.TimeSeriesSplit(n_splits=10), cv_exclude_first=0.3, verbose=1)\n",
    "    bscv.fit(X_train, y, init_points=4, n_iter=30, acq='ucb', kappa=4, gp_params={'alpha':1e-10})"
   ]
  },
  {
   "cell_type": "code",
   "execution_count": null,
   "metadata": {
    "collapsed": true
   },
   "outputs": [],
   "source": [
    "bscv.best_params_"
   ]
  },
  {
   "cell_type": "code",
   "execution_count": null,
   "metadata": {
    "collapsed": true
   },
   "outputs": [],
   "source": [
    "est = linear_model.ElasticNet(max_iter=10000, **bscv.best_params_)"
   ]
  },
  {
   "cell_type": "code",
   "execution_count": null,
   "metadata": {
    "collapsed": true
   },
   "outputs": [],
   "source": [
    "est.fit(X_train, y)"
   ]
  },
  {
   "cell_type": "code",
   "execution_count": null,
   "metadata": {
    "collapsed": true
   },
   "outputs": [],
   "source": [
    "est.intercept_"
   ]
  },
  {
   "cell_type": "code",
   "execution_count": null,
   "metadata": {
    "collapsed": true
   },
   "outputs": [],
   "source": [
    "x_ = np.linspace(bscv.bayesian_optimizer.bounds[0][0], bscv.bayesian_optimizer.bounds[0][1], num=len(bscv.bayesian_optimizer.X)).reshape(-1, 1)"
   ]
  },
  {
   "cell_type": "code",
   "execution_count": null,
   "metadata": {
    "collapsed": true,
    "scrolled": false
   },
   "outputs": [],
   "source": [
    "plot_gp(bscv.bayesian_optimizer, x_, y)"
   ]
  },
  {
   "cell_type": "code",
   "execution_count": null,
   "metadata": {
    "collapsed": true
   },
   "outputs": [],
   "source": [
    "ux_weighted = 12.3\n",
    "my_df = X.copy()\n",
    "my_df['ux_pct_nd'] = my_df['spvixstr index_pct'].shift(-1)\n",
    "my_data = my_df[my_df.ux_weighted < ux_weighted]['spvixstr index_pct']\n",
    "fig, ax = plt.subplots(1, figsize=(16,8))\n",
    "ax.hist(my_data, bins=100)\n",
    "desc = my_data.describe(include='all')\n",
    "desc[[row for row in desc.index if row != 'count']] = desc[[row for row in desc.index if row != 'count']].apply(to_percent)\n",
    "desc['skew'] = my_data.skew()\n",
    "desc['kurt'] = my_data.kurt()\n",
    "props = dict(boxstyle='round', facecolor='wheat', alpha=0.5)\n",
    "ax.text(0.98, 0.95, desc.to_string(), fontsize=16, transform=ax.transAxes, verticalalignment='top', horizontalalignment='right', bbox=props)\n",
    "ax.text(0.02, 0.95, 'Distribution of next day returns for ux_weighted < {}'.format(ux_weighted), fontsize=18, transform=ax.transAxes, verticalalignment='top', horizontalalignment='left', bbox=props)\n",
    "plt.show()"
   ]
  },
  {
   "cell_type": "code",
   "execution_count": null,
   "metadata": {
    "collapsed": true
   },
   "outputs": [],
   "source": [
    "desc = my_data.describe(include='all')\n",
    "desc['skew'] = my_data.skew()\n",
    "desc['kurt'] = my_data.kurt()"
   ]
  },
  {
   "cell_type": "code",
   "execution_count": null,
   "metadata": {
    "collapsed": true
   },
   "outputs": [],
   "source": [
    "desc[[row for row in desc.index if row != 'count']]"
   ]
  },
  {
   "cell_type": "code",
   "execution_count": null,
   "metadata": {
    "collapsed": true
   },
   "outputs": [],
   "source": [
    "scipy.stats.bayes_mvs(X[['ux_weighted_2_pct']].values, alpha=.99)"
   ]
  },
  {
   "cell_type": "code",
   "execution_count": null,
   "metadata": {
    "collapsed": true
   },
   "outputs": [],
   "source": [
    "from matplotlib import gridspec\n",
    "def posterior(bo, x):\n",
    "    xmin, xmax = bo.bounds[0][0], bo.bounds[0][1]\n",
    "    bo.gp.fit(bo.X, bo.Y)\n",
    "    mu, sigma = bo.gp.predict(x, return_std=True)\n",
    "    return mu, sigma\n",
    "\n",
    "def plot_gp(bo, x, y):\n",
    "    \n",
    "    fig = plt.figure(figsize=(16, 10))\n",
    "    fig.suptitle('Gaussian Process and Utility Function After {} Steps'.format(len(bo.X)), fontdict={'size':30})\n",
    "    \n",
    "    gs = gridspec.GridSpec(2, 1, height_ratios=[3, 1]) \n",
    "    axis = plt.subplot(gs[0])\n",
    "    acq = plt.subplot(gs[1])\n",
    "    \n",
    "    mu, sigma = posterior(bo, x)\n",
    "#     axis.plot(x, y, linewidth=3, label='Target')\n",
    "    axis.plot(bo.X.flatten(), bo.Y, 'D', markersize=8, label=u'Observations', color='r')\n",
    "    axis.plot(x, mu, '--', color='k', label='Prediction')\n",
    "\n",
    "    axis.fill(np.concatenate([x, x[::-1]]), \n",
    "              np.concatenate([mu - 1.9600 * sigma, (mu + 1.9600 * sigma)[::-1]]),\n",
    "        alpha=.6, fc='c', ec='None', label='95% confidence interval')\n",
    "    \n",
    "    axis.set_xlim((bo.bounds[0][0], bo.bounds[0][1]))\n",
    "    axis.set_ylim((None, None))\n",
    "    axis.set_ylabel('f(x)', fontdict={'size':20})\n",
    "    axis.set_xlabel('x', fontdict={'size':20})\n",
    "    \n",
    "    utility = bo.util.utility(x, bo.gp, 0)\n",
    "    acq.plot(x, utility, label='Utility Function', color='purple')\n",
    "    acq.plot(x[np.argmax(utility)], np.max(utility), '*', markersize=15, \n",
    "             label=u'Next Best Guess', markerfacecolor='gold', markeredgecolor='k', markeredgewidth=1)\n",
    "    acq.set_xlim((bo.bounds[0][0], bo.bounds[0][1]))\n",
    "    acq.set_ylim((0, np.max(utility) + 0.5))\n",
    "    acq.set_ylabel('Utility', fontdict={'size':20})\n",
    "    acq.set_xlabel('x', fontdict={'size':20})\n",
    "    \n",
    "    axis.legend(loc=2, bbox_to_anchor=(1.01, 1), borderaxespad=0.)\n",
    "    acq.legend(loc=2, bbox_to_anchor=(1.01, 1), borderaxespad=0.)"
   ]
  },
  {
   "cell_type": "code",
   "execution_count": null,
   "metadata": {
    "collapsed": true,
    "scrolled": true
   },
   "outputs": [],
   "source": [
    "bscv.best_score_"
   ]
  },
  {
   "cell_type": "code",
   "execution_count": null,
   "metadata": {
    "collapsed": true
   },
   "outputs": [],
   "source": [
    "print('Best params: {}\\nBest score: {}\\nBest estimator: {}'.format(gscv.best_params_, gscv.best_score_, gscv.best_estimator_))"
   ]
  },
  {
   "cell_type": "code",
   "execution_count": null,
   "metadata": {
    "collapsed": true,
    "scrolled": true
   },
   "outputs": [],
   "source": [
    "print('Best params: {}\\nBest score: {}\\nBest estimator: {}'.format(rscv.best_params_, rscv.best_score_, rscv.best_estimator_))"
   ]
  },
  {
   "cell_type": "code",
   "execution_count": null,
   "metadata": {
    "collapsed": true,
    "scrolled": true
   },
   "outputs": [],
   "source": [
    "print('Best params: {}\\nBest score: {}\\nBest estimator: {}'.format(rscv.best_params_, rscv.best_score_, rscv.best_estimator_))"
   ]
  },
  {
   "cell_type": "code",
   "execution_count": null,
   "metadata": {
    "collapsed": true
   },
   "outputs": [],
   "source": [
    "target_feature_names = ['x'.join(['{}^{}'.format(pair[0],pair[1]) for pair in tuple if pair[1]!=0]) for tuple in [zip(input_df.columns,p) for p in poly.powers_]]\n",
    "output_df = pd.DataFrame(output_nparray, columns = target_feature_names)"
   ]
  },
  {
   "cell_type": "code",
   "execution_count": null,
   "metadata": {
    "collapsed": true
   },
   "outputs": [],
   "source": []
  },
  {
   "cell_type": "code",
   "execution_count": null,
   "metadata": {
    "collapsed": true
   },
   "outputs": [],
   "source": [
    "#----------------------------------------------------------------------------------------------------------------------------------------------------------------------------------------\n",
    "#----------------------------------------------------------------------------------------------------------------------------------------------------------------------------------------\n",
    "#----------------------------------------------------------------------------------------------------------------------------------------------------------------------------------------\n",
    "#----------------------------------------------------------------------------------------------------------------------------------------------------------------------------------------\n",
    "#----------------------------------------------------------------------------------------------------------------------------------------------------------------------------------------\n",
    "#----------------------------------------------------------------------------------------------------------------------------------------------------------------------------------------\n",
    "#----------------------------------------------------------------------------------------------------------------------------------------------------------------------------------------\n",
    "#----------------------------------------------------------------------------------------------------------------------------------------------------------------------------------------\n",
    "#----------------------------------------------------------------------------------------------------------------------------------------------------------------------------------------\n",
    "#----------------------------------------------------------------------------------------------------------------------------------------------------------------------------------------\n",
    "#----------------------------------------------------------------------------------------------------------------------------------------------------------------------------------------\n",
    "#----------------------------------------------------------------------------------------------------------------------------------------------------------------------------------------\n",
    "#----------------------------------------------------------------------------------------------------------------------------------------------------------------------------------------\n",
    "#----------------------------------------------------------------------------------------------------------------------------------------------------------------------------------------\n",
    "#----------------------------------------------------------------------------------------------------------------------------------------------------------------------------------------\n",
    "#----------------------------------------------------------------------------------------------------------------------------------------------------------------------------------------"
   ]
  },
  {
   "cell_type": "code",
   "execution_count": null,
   "metadata": {
    "collapsed": true
   },
   "outputs": [],
   "source": [
    "# add_features\n",
    "# mytks = [col for col in new_data_series.columns if col not in [tk.split(' ')[0] for tk in tickers]]\n",
    "\n",
    "# new_tks = ['SPY US 1M 105 VOL Equity', 'SPY US 1M 95 VOL Equity', 'SPY US 2M 105 VOL Equity', 'SPY US 2M 95 VOL Equity',]\n",
    "# fields = ['30DAY_IMPVOL_97.5%MNY_DF', '30DAY_IMPVOL_102.5%MNY_DF', '30DAY_IMPVOL_95.0%MNY_DF', '30DAY_IMPVOL_105.0%MNY_DF','3MTH_IMPVOL_95.0%MNY_DF', '3MTH_IMPVOL_105.0%MNY_DF']\n",
    "\n",
    "con = pdblp.BCon(debug=False)\n",
    "con.start()\n",
    "new_data = con.bdh(new_tks, 'ACTUAL_RELEASE', start_date='20040101', end_date=datetime.datetime.today().strftime('%Y%m%d'), ovrds=[('RELEASE_DATE_OVERRIDE','1')])\n",
    "# new_data = con.bdh('spy equity', fields, start_date='20040101', end_date=datetime.datetime.today().strftime('%Y%m%d'))\n",
    "# new_data = new_data.xs('spy equity', axis=1, level=0)\n",
    "# new_data.columns = ['SPY_' + col for col in new_data.columns]# new_data = con.bdh(new_tks, 'PX_LAST', start_date='20040101', end_date=datetime.datetime.today().strftime('%Y%m%d'))\n",
    "# con.stop()\n",
    "\n",
    "# con = pdblp.BCon(debug=False)\n",
    "# con.start()\n",
    "# aaa = con.ref(mytks, ['name', 'DELAYED_TICK_STREAM_INDICATOR', 'NON_EQY_INDX_STATUS'])\n",
    "# con.stop()\n",
    "# data = pd.read_pickle('historical_data1.pickle')\n",
    "# new_data = new_data.xs('ACTUAL_RELEASE', axis=1, level=1)\n",
    "# new_data = new_data.xs('PX_LAST', axis=1, level=1)\n",
    "# data = data.join(new_data)\n",
    "# data.to_pickle('historical_data1.pickle')"
   ]
  },
  {
   "cell_type": "code",
   "execution_count": null,
   "metadata": {
    "collapsed": true
   },
   "outputs": [],
   "source": []
  },
  {
   "cell_type": "markdown",
   "metadata": {},
   "source": [
    "## LSTM Testing"
   ]
  },
  {
   "cell_type": "code",
   "execution_count": 4,
   "metadata": {},
   "outputs": [
    {
     "name": "stderr",
     "output_type": "stream",
     "text": [
      "Using Theano backend.\n"
     ]
    }
   ],
   "source": [
    "from __future__ import print_function\n",
    "from keras.models import Sequential\n",
    "from keras.layers import Dense, Activation, Input\n",
    "from keras.layers import LSTM, Embedding, Dropout\n",
    "from keras.utils.np_utils import to_categorical\n",
    "from keras.optimizers import RMSprop\n",
    "from keras.utils.data_utils import get_file\n",
    "from sklearn.preprocessing import LabelEncoder\n",
    "from sklearn.preprocessing import MinMaxScaler\n",
    "from IPython.display import clear_output\n",
    "import matplotlib.pyplot as plt\n",
    "from sklearn import metrics\n",
    "import numpy as np\n",
    "from numpy import newaxis\n",
    "import random\n",
    "import sys\n",
    "import time\n",
    "\n",
    "class MyLSTM():\n",
    "    # LSTM wrapper to mirror scikit-learn classifier interface\n",
    "    \n",
    "    def __init__(self, lstm_layers, activation='linear', loss='mse', metrics=None,\n",
    "                 optimizer='adam', prediction='classification', epochs=10, batch_size=128,\n",
    "                 step=1, lookback=1, verbose=0, y_to_categorical=True, y_sub={}, **kwargs):\n",
    "    \n",
    "        self.lstm_layers = lstm_layers\n",
    "        self.activation = activation\n",
    "        self.loss = loss\n",
    "        self.metrics = metrics\n",
    "        self.optimizer = optimizer\n",
    "        self.prediction = prediction\n",
    "        self.epochs = epochs\n",
    "        self.batch_size = batch_size\n",
    "        self.step = step\n",
    "        self.lookback = lookback\n",
    "        self.verbose = verbose\n",
    "        self.kwargs = kwargs\n",
    "        self.y_to_categorical = y_to_categorical\n",
    "        self.fitted = False\n",
    "        self.y_sub = y_sub\n",
    "        self.y_sub_rev = {v:k for k, v in self.y_sub.items()}\n",
    "\n",
    "    def fit(self, X, y, validation_split=0.0, verbose=None, callbacks=None, shuffle=True):\n",
    "        \n",
    "        self.X_orig = X\n",
    "        self.y_orig = y\n",
    "        if verbose is not None:\n",
    "            self.verbose = verbose\n",
    "        X_, y_ = self._vectorize(X, y)\n",
    "        self.X_train, self.y_train = X_, y_\n",
    "\n",
    "        if not self.fitted:        \n",
    "\n",
    "            # build the model: a single LSTM\n",
    "#             self.model = self.build_model(X_, y_)\n",
    "            self.model = build_model(X_, y_)\n",
    "            self.model.fit(X_, y_, batch_size=self.batch_size, epochs=self.epochs, validation_split=validation_split,\n",
    "                           verbose=self.verbose, callbacks=callbacks, shuffle=shuffle)\n",
    "            self.fitted=True\n",
    "        else:\n",
    "            self.model.fit(X_, y_, batch_size=self.batch_size, epochs=self.epochs, validation_split=validation_split,\n",
    "                           verbose=self.verbose, callbacks=callbacks, shuffle=shuffle)\n",
    "\n",
    "    def predict(self, X):\n",
    "        X = self._vectorize(X)\n",
    "        \n",
    "        if self.prediction == 'classification':\n",
    "            y_pred = self.model.predict_classes(X, batch_size=self.batch_size, verbose=self.verbose)\n",
    "            if self.y_sub:\n",
    "                y_pred = np.array([self.y_sub_rev[val] if val in self.y_sub_rev.keys() else val for val in y_pred])\n",
    "        elif self.prediction == 'regression':\n",
    "            y_pred = self.model.predict(X, batch_size=self.batch_size, verbose=self.verbose)\n",
    "        return y_pred\n",
    "\n",
    "    def predict_proba(self, X):\n",
    "        X = self._vectorize(X)\n",
    "        return self.model.predict_proba(X, batch_size=self.batch_size, verbose=self.verbose)\n",
    "\n",
    "    def evaluate(self, X, y):\n",
    "        X, y = self._vectorize(X, y)\n",
    "        return self.model.evaluate(X, y, batch_size=self.batch_size, verbose=self.verbose)\n",
    "    \n",
    "    def _vectorize(self, X, y=None):\n",
    "        \n",
    "        # Vectorization\n",
    "        dataX, dataY = [], []\n",
    "        for i in range(len(X)-self.lookback+1):\n",
    "            a = X[i:(i+self.lookback), :]\n",
    "            dataX.append(a)\n",
    "            if y is not None:\n",
    "                dataY.append(y[i + self.lookback-1])\n",
    "        dataX = np.array(dataX)\n",
    "        dataY = np.array(dataY)\n",
    "        if y is not None:\n",
    "            if self.y_sub:\n",
    "                dataY = np.array([self.y_sub[val] if val in self.y_sub.keys() else val for val in dataY])\n",
    "            dataY = dataY.reshape(-1,1)\n",
    "            if self.y_to_categorical:\n",
    "                dataY = to_categorical(dataY)\n",
    "            self.X_train, self.y_train = dataX, dataY\n",
    "            return dataX, dataY\n",
    "        else:\n",
    "            return dataX\n",
    "\n",
    "    def build_model(self, X_, y_):\n",
    "        \n",
    "        model = Sequential()\n",
    "\n",
    "        model.add(LSTM(\n",
    "            self.lstm_layers[0],\n",
    "            input_shape=(X_.shape[1], X_.shape[2]),\n",
    "            return_sequences=True,\n",
    "            stateful=False))\n",
    "        model.add(Dropout(0.2))\n",
    "\n",
    "        model.add(LSTM(\n",
    "            self.lstm_layers[1],\n",
    "            return_sequences=False,\n",
    "            stateful=False))\n",
    "        model.add(Dropout(0.2))\n",
    "        \n",
    "        model.add(Dense(units=y_.shape[1]))\n",
    "\n",
    "        if self.prediction == 'classification':    \n",
    "            model.add(Activation(self.activation))\n",
    "\n",
    "        start = time.time()\n",
    "        model.compile(loss=self.loss, optimizer=self.optimizer)\n",
    "        print(\"> Compilation Time : \", time.time() - start)\n",
    "        return model"
   ]
  },
  {
   "cell_type": "code",
   "execution_count": 5,
   "metadata": {
    "collapsed": true,
    "scrolled": false
   },
   "outputs": [],
   "source": [
    "X_train_df, y_train, y_train_reg = get_dataset(how='classification', from_date='2007-01-01', to_date='2016-12-31')\n",
    "X_test_df, y_test, y_test_reg = get_dataset(how='classification', from_date='2016-07-01', to_date=(datetime.datetime.today()-datetime.timedelta(2)).strftime('%Y%m%d'))"
   ]
  },
  {
   "cell_type": "code",
   "execution_count": 6,
   "metadata": {
    "collapsed": true
   },
   "outputs": [],
   "source": [
    "sk_zoo_list = {    \n",
    "#     'RidgeGS2':    linear_model.RidgeClassifier(alpha=1, max_iter=None, solver='sparse_cg', class_weight=class_weights1, random_state=rand_state, tol=0.05),\n",
    "    'LogisticGS':  linear_model.LogisticRegression(C=1, penalty='l2', n_jobs=-1, class_weight=class_weights2, max_iter=100000, solver='liblinear', random_state=rand_state),\n",
    "    'LSTM':        MyLSTM([32, 32], activation='softmax', loss='categorical_crossentropy', optimizer='adam', epochs=20,\n",
    "                          batch_size=32, step=1, lookback=10, y_to_categorical=True, y_sub={-1:0}, verbose=0),\n",
    "}"
   ]
  },
  {
   "cell_type": "code",
   "execution_count": null,
   "metadata": {
    "collapsed": true
   },
   "outputs": [],
   "source": [
    "lookback = 10\n",
    "epochs = 10\n",
    "a = MyLSTM([128, 128], activation='sigmoid', loss='categorical_crossentropy', optimizer='adam', epochs=1,\n",
    "                          batch_size=256, step=1, lookback=lookback, y_to_categorical=True, y_sub={-1:0}, verbose=0)\n",
    "pipeline_scale = Pipeline([\n",
    "    ('scale', preprocessing.StandardScaler()),\n",
    "])\n",
    "my_pipeline = pipeline_scale\n",
    "df_predictions_clf = pd.DataFrame(index=y_test_reg.index)\n",
    "clfs_with_prob = []\n",
    "\n",
    "test_dates = X_test_df.index\n",
    "X_train = np.array(my_pipeline.fit_transform(X_train_df)) # use for given feature set passed in a list using pipeline_select_features\n",
    "X_test  = np.array(my_pipeline.transform(X_test_df))"
   ]
  },
  {
   "cell_type": "code",
   "execution_count": null,
   "metadata": {
    "collapsed": true,
    "scrolled": false
   },
   "outputs": [],
   "source": [
    "from sklearn.metrics import confusion_matrix\n",
    "# Compute confusion matrix\n",
    "\n",
    "for i in range(1, epochs+1):\n",
    "    print('Epoch: {}/{}'.format(i, epochs))\n",
    "    a.fit(X_train, y_train, validation_split=0.10, verbose=0)\n",
    "    y_pred_train = a.predict(X_train)\n",
    "    y_pred_test = a.predict(X_test)\n",
    "    cnf_matrix1 = confusion_matrix(y_train[lookback-1:], y_pred_train)\n",
    "    cnf_matrix2 = confusion_matrix(y_test[lookback-1:], y_pred_test)\n",
    "    clear_output(wait=True)\n",
    "\n",
    "    # Plot non-normalized confusion matrix\n",
    "    plot_confusion_matrix([cnf_matrix1, cnf_matrix2], classes=['Up','Down'], normalize=True,\n",
    "                          title=['Confusion matrix train', 'Confusion matrix test'])\n",
    "    plt.show()"
   ]
  },
  {
   "cell_type": "code",
   "execution_count": 7,
   "metadata": {
    "collapsed": true
   },
   "outputs": [],
   "source": [
    "def build_model(X_, y_):\n",
    "\n",
    "    model = Sequential()\n",
    "    model.add(LSTM(\n",
    "        a.lstm_layers[0],\n",
    "        input_shape=(X_.shape[1], X_.shape[2]),\n",
    "        return_sequences=True,\n",
    "        stateful=False), )\n",
    "    model.add(LSTM(\n",
    "        a.lstm_layers[1],\n",
    "        return_sequences=False,\n",
    "        stateful=False))\n",
    "    model.add(Dropout(0.2))\n",
    "    model.add(Dense(a.lstm_layers[1]))\n",
    "    model.add(Dropout(0.2))\n",
    "    model.add(Dense(units=y_.shape[1]))\n",
    "    if a.prediction == 'classification':    \n",
    "        model.add(Activation(a.activation))\n",
    "    start = time.time()\n",
    "    model.compile(loss=a.loss, optimizer=a.optimizer)\n",
    "    print(\"> Compilation Time : \", time.time() - start)\n",
    "    return model"
   ]
  },
  {
   "cell_type": "code",
   "execution_count": 8,
   "metadata": {
    "collapsed": true
   },
   "outputs": [],
   "source": [
    "lookback = 10\n",
    "epochs = 10\n",
    "a = MyLSTM([64, 64], loss='mse', optimizer='adam', epochs=1, prediction='regression',\n",
    "                          batch_size=256, step=1, lookback=lookback, y_to_categorical=False, verbose=0)\n",
    "pipeline_scale = Pipeline([\n",
    "    ('scale', preprocessing.StandardScaler()),\n",
    "])\n",
    "my_pipeline = pipeline_scale\n",
    "df_predictions_clf = pd.DataFrame(index=y_test_reg.index)\n",
    "clfs_with_prob = []\n",
    "\n",
    "test_dates = X_test_df.index\n",
    "X_train = np.array(my_pipeline.fit_transform(X_train_df)) # use for given feature set passed in a list using pipeline_select_features\n",
    "X_test  = np.array(my_pipeline.transform(X_test_df))\n",
    "loss_history = {'train_mse':[], 'train_r2':[], 'test_mse':[], 'test_r2':[]}"
   ]
  },
  {
   "cell_type": "code",
   "execution_count": 9,
   "metadata": {
    "collapsed": true
   },
   "outputs": [],
   "source": [
    "epochs = 20"
   ]
  },
  {
   "cell_type": "code",
   "execution_count": 12,
   "metadata": {
    "scrolled": false
   },
   "outputs": [
    {
     "data": {
      "image/png": "[encoded data removed]",
      "text/plain": [
       "<matplotlib.figure.Figure at 0x45a24668>"
      ]
     },
     "metadata": {},
     "output_type": "display_data"
    },
    {
     "name": "stdout",
     "output_type": "stream",
     "text": [
      "Epoch 20\n",
      "train loss: 0.0008\n",
      "train r^2: 0.5333\n",
      "test loss: 0.0020\n",
      "test r^2: -0.9391\n"
     ]
    }
   ],
   "source": [
    "from sklearn.metrics import confusion_matrix\n",
    "import matplotlib\n",
    "sns.set_style('dark')\n",
    "\n",
    "for i in range(1, epochs+1):\n",
    "    print('Epoch: {}/{}'.format(i, epochs))\n",
    "    a.fit(X_train, y_train_reg, validation_split=0.00, verbose=0)\n",
    "    y_pred_train = a.predict(X_train)\n",
    "    y_pred_test = a.predict(X_test)\n",
    "    clear_output(wait=True)\n",
    "    fig, (ax1, ax2) = plt.subplots(nrows=1, ncols=2, figsize=(18,8))\n",
    "    ax = sns.regplot(x=y_train_reg[lookback-1:], y=y_pred_train.ravel(), color='b', ax=ax1)\n",
    "    ax.set(xlabel='True', ylabel='Predicted')\n",
    "    ax.set_yticklabels(['{:.0f}%'.format(val*100) for val in ax.get_yticks()])\n",
    "    ax.set_xticklabels(['{:.0f}%'.format(val*100) for val in ax.get_xticks()])\n",
    "    ax = sns.regplot(x=y_test_reg[lookback-1:], y=y_pred_test.ravel(), color='g', ax=ax2)\n",
    "    ax.set(xlabel='True', ylabel='Predicted')\n",
    "    ax.set_yticklabels(['{:.0f}%'.format(val*100) for val in ax.get_yticks()])\n",
    "    ax.set_xticklabels(['{:.0f}%'.format(val*100) for val in ax.get_xticks()])\n",
    "    plt.show()\n",
    "    \n",
    "    train_mse, train_r2, test_mse, test_r2 = metrics.mean_squared_error(y_train_reg[lookback-1:], y_pred_train), \\\n",
    "                                             metrics.r2_score(y_train_reg[lookback-1:], y_pred_train), \\\n",
    "                                             metrics.mean_squared_error(y_test_reg[lookback-1:], y_pred_test), \\\n",
    "                                             metrics.r2_score(y_test_reg[lookback-1:], y_pred_test)\n",
    "    loss_history['train_mse'].append(train_mse)\n",
    "    loss_history['train_r2'].append(train_r2)\n",
    "    loss_history['test_mse'].append(test_mse)\n",
    "    loss_history['test_r2'].append(test_r2)\n",
    "    print('Epoch {}\\ntrain loss: {:.4f}\\ntrain r^2: {:.4f}\\ntest loss: {:.4f}\\ntest r^2: {:.4f}'.format(i,train_mse, train_r2, test_mse, test_r2))"
   ]
  },
  {
   "cell_type": "code",
   "execution_count": 22,
   "metadata": {},
   "outputs": [
    {
     "data": {
      "text/html": [
       "<div>\n",
       "<style>\n",
       "    .dataframe thead tr:only-child th {\n",
       "        text-align: right;\n",
       "    }\n",
       "\n",
       "    .dataframe thead th {\n",
       "        text-align: left;\n",
       "    }\n",
       "\n",
       "    .dataframe tbody tr th {\n",
       "        vertical-align: top;\n",
       "    }\n",
       "</style>\n",
       "<table border=\"1\" class=\"dataframe\">\n",
       "  <thead>\n",
       "    <tr style=\"text-align: right;\">\n",
       "      <th></th>\n",
       "      <th>0</th>\n",
       "      <th>1</th>\n",
       "    </tr>\n",
       "  </thead>\n",
       "  <tbody>\n",
       "    <tr>\n",
       "      <th>0</th>\n",
       "      <td>X_test_df</td>\n",
       "      <td>336888</td>\n",
       "    </tr>\n",
       "    <tr>\n",
       "      <th>1</th>\n",
       "      <td>X_test</td>\n",
       "      <td>335040</td>\n",
       "    </tr>\n",
       "    <tr>\n",
       "      <th>2</th>\n",
       "      <td>y_train_reg</td>\n",
       "      <td>122232</td>\n",
       "    </tr>\n",
       "    <tr>\n",
       "      <th>3</th>\n",
       "      <td>mapping_table</td>\n",
       "      <td>23573</td>\n",
       "    </tr>\n",
       "    <tr>\n",
       "      <th>4</th>\n",
       "      <td>y_train</td>\n",
       "      <td>10168</td>\n",
       "    </tr>\n",
       "    <tr>\n",
       "      <th>5</th>\n",
       "      <td>y_pred_train</td>\n",
       "      <td>10148</td>\n",
       "    </tr>\n",
       "    <tr>\n",
       "      <th>6</th>\n",
       "      <td>LSTM</td>\n",
       "      <td>3992</td>\n",
       "    </tr>\n",
       "    <tr>\n",
       "      <th>7</th>\n",
       "      <td>y_test_reg</td>\n",
       "      <td>3896</td>\n",
       "    </tr>\n",
       "    <tr>\n",
       "      <th>8</th>\n",
       "      <td>Dense</td>\n",
       "      <td>2456</td>\n",
       "    </tr>\n",
       "    <tr>\n",
       "      <th>9</th>\n",
       "      <td>Sequential</td>\n",
       "      <td>2456</td>\n",
       "    </tr>\n",
       "    <tr>\n",
       "      <th>10</th>\n",
       "      <td>df_predictions_clf</td>\n",
       "      <td>1960</td>\n",
       "    </tr>\n",
       "    <tr>\n",
       "      <th>11</th>\n",
       "      <td>test_dates</td>\n",
       "      <td>1960</td>\n",
       "    </tr>\n",
       "    <tr>\n",
       "      <th>12</th>\n",
       "      <td>Dropout</td>\n",
       "      <td>1688</td>\n",
       "    </tr>\n",
       "    <tr>\n",
       "      <th>13</th>\n",
       "      <td>MyLSTM</td>\n",
       "      <td>1688</td>\n",
       "    </tr>\n",
       "    <tr>\n",
       "      <th>14</th>\n",
       "      <td>feature_list</td>\n",
       "      <td>1664</td>\n",
       "    </tr>\n",
       "    <tr>\n",
       "      <th>15</th>\n",
       "      <td>Holiday</td>\n",
       "      <td>1304</td>\n",
       "    </tr>\n",
       "    <tr>\n",
       "      <th>16</th>\n",
       "      <td>MACD</td>\n",
       "      <td>1304</td>\n",
       "    </tr>\n",
       "    <tr>\n",
       "      <th>17</th>\n",
       "      <td>features_to_ema</td>\n",
       "      <td>1184</td>\n",
       "    </tr>\n",
       "    <tr>\n",
       "      <th>18</th>\n",
       "      <td>y_test</td>\n",
       "      <td>1064</td>\n",
       "    </tr>\n",
       "    <tr>\n",
       "      <th>19</th>\n",
       "      <td>y_pred_test</td>\n",
       "      <td>1044</td>\n",
       "    </tr>\n",
       "    <tr>\n",
       "      <th>20</th>\n",
       "      <td>AbstractHolidayCalendar</td>\n",
       "      <td>1016</td>\n",
       "    </tr>\n",
       "    <tr>\n",
       "      <th>21</th>\n",
       "      <td>Activation</td>\n",
       "      <td>1016</td>\n",
       "    </tr>\n",
       "    <tr>\n",
       "      <th>22</th>\n",
       "      <td>AddOtherFeatures</td>\n",
       "      <td>1016</td>\n",
       "    </tr>\n",
       "    <tr>\n",
       "      <th>23</th>\n",
       "      <td>AddVIXFeatures</td>\n",
       "      <td>1016</td>\n",
       "    </tr>\n",
       "    <tr>\n",
       "      <th>24</th>\n",
       "      <td>BaseEstimator</td>\n",
       "      <td>1016</td>\n",
       "    </tr>\n",
       "    <tr>\n",
       "      <th>25</th>\n",
       "      <td>BayesianOptimization</td>\n",
       "      <td>1016</td>\n",
       "    </tr>\n",
       "    <tr>\n",
       "      <th>26</th>\n",
       "      <td>BayesianSearchCV</td>\n",
       "      <td>1016</td>\n",
       "    </tr>\n",
       "    <tr>\n",
       "      <th>27</th>\n",
       "      <td>Counter</td>\n",
       "      <td>1016</td>\n",
       "    </tr>\n",
       "    <tr>\n",
       "      <th>28</th>\n",
       "      <td>DateTransformer</td>\n",
       "      <td>1016</td>\n",
       "    </tr>\n",
       "    <tr>\n",
       "      <th>29</th>\n",
       "      <td>DayOfYearTransformer</td>\n",
       "      <td>1016</td>\n",
       "    </tr>\n",
       "    <tr>\n",
       "      <th>...</th>\n",
       "      <td>...</td>\n",
       "      <td>...</td>\n",
       "    </tr>\n",
       "    <tr>\n",
       "      <th>130</th>\n",
       "      <td>sns</td>\n",
       "      <td>80</td>\n",
       "    </tr>\n",
       "    <tr>\n",
       "      <th>131</th>\n",
       "      <td>svm</td>\n",
       "      <td>80</td>\n",
       "    </tr>\n",
       "    <tr>\n",
       "      <th>132</th>\n",
       "      <td>tree</td>\n",
       "      <td>80</td>\n",
       "    </tr>\n",
       "    <tr>\n",
       "      <th>133</th>\n",
       "      <td>clfs_with_prob</td>\n",
       "      <td>64</td>\n",
       "    </tr>\n",
       "    <tr>\n",
       "      <th>134</th>\n",
       "      <td>GoodFriday</td>\n",
       "      <td>56</td>\n",
       "    </tr>\n",
       "    <tr>\n",
       "      <th>135</th>\n",
       "      <td>USLaborDay</td>\n",
       "      <td>56</td>\n",
       "    </tr>\n",
       "    <tr>\n",
       "      <th>136</th>\n",
       "      <td>USMartinLutherKingJr</td>\n",
       "      <td>56</td>\n",
       "    </tr>\n",
       "    <tr>\n",
       "      <th>137</th>\n",
       "      <td>USMemorialDay</td>\n",
       "      <td>56</td>\n",
       "    </tr>\n",
       "    <tr>\n",
       "      <th>138</th>\n",
       "      <td>USPresidentsDay</td>\n",
       "      <td>56</td>\n",
       "    </tr>\n",
       "    <tr>\n",
       "      <th>139</th>\n",
       "      <td>USThanksgivingDay</td>\n",
       "      <td>56</td>\n",
       "    </tr>\n",
       "    <tr>\n",
       "      <th>140</th>\n",
       "      <td>a</td>\n",
       "      <td>56</td>\n",
       "    </tr>\n",
       "    <tr>\n",
       "      <th>141</th>\n",
       "      <td>ax1</td>\n",
       "      <td>56</td>\n",
       "    </tr>\n",
       "    <tr>\n",
       "      <th>142</th>\n",
       "      <td>ax2</td>\n",
       "      <td>56</td>\n",
       "    </tr>\n",
       "    <tr>\n",
       "      <th>143</th>\n",
       "      <td>fig</td>\n",
       "      <td>56</td>\n",
       "    </tr>\n",
       "    <tr>\n",
       "      <th>144</th>\n",
       "      <td>fix</td>\n",
       "      <td>56</td>\n",
       "    </tr>\n",
       "    <tr>\n",
       "      <th>145</th>\n",
       "      <td>gscv3</td>\n",
       "      <td>56</td>\n",
       "    </tr>\n",
       "    <tr>\n",
       "      <th>146</th>\n",
       "      <td>my_pipeline</td>\n",
       "      <td>56</td>\n",
       "    </tr>\n",
       "    <tr>\n",
       "      <th>147</th>\n",
       "      <td>my_pipeline_fs3</td>\n",
       "      <td>56</td>\n",
       "    </tr>\n",
       "    <tr>\n",
       "      <th>148</th>\n",
       "      <td>pipeline_feature_build</td>\n",
       "      <td>56</td>\n",
       "    </tr>\n",
       "    <tr>\n",
       "      <th>149</th>\n",
       "      <td>pipeline_scale</td>\n",
       "      <td>56</td>\n",
       "    </tr>\n",
       "    <tr>\n",
       "      <th>150</th>\n",
       "      <td>print_function</td>\n",
       "      <td>56</td>\n",
       "    </tr>\n",
       "    <tr>\n",
       "      <th>151</th>\n",
       "      <td>test_mse</td>\n",
       "      <td>32</td>\n",
       "    </tr>\n",
       "    <tr>\n",
       "      <th>152</th>\n",
       "      <td>test_r2</td>\n",
       "      <td>32</td>\n",
       "    </tr>\n",
       "    <tr>\n",
       "      <th>153</th>\n",
       "      <td>train_mse</td>\n",
       "      <td>32</td>\n",
       "    </tr>\n",
       "    <tr>\n",
       "      <th>154</th>\n",
       "      <td>train_r2</td>\n",
       "      <td>32</td>\n",
       "    </tr>\n",
       "    <tr>\n",
       "      <th>155</th>\n",
       "      <td>epochs</td>\n",
       "      <td>28</td>\n",
       "    </tr>\n",
       "    <tr>\n",
       "      <th>156</th>\n",
       "      <td>i</td>\n",
       "      <td>28</td>\n",
       "    </tr>\n",
       "    <tr>\n",
       "      <th>157</th>\n",
       "      <td>lookback</td>\n",
       "      <td>28</td>\n",
       "    </tr>\n",
       "    <tr>\n",
       "      <th>158</th>\n",
       "      <td>rand_state</td>\n",
       "      <td>28</td>\n",
       "    </tr>\n",
       "    <tr>\n",
       "      <th>159</th>\n",
       "      <td>newaxis</td>\n",
       "      <td>16</td>\n",
       "    </tr>\n",
       "  </tbody>\n",
       "</table>\n",
       "<p>160 rows × 2 columns</p>\n",
       "</div>"
      ],
      "text/plain": [
       "                           0       1\n",
       "0                  X_test_df  336888\n",
       "1                     X_test  335040\n",
       "2                y_train_reg  122232\n",
       "3              mapping_table   23573\n",
       "4                    y_train   10168\n",
       "5               y_pred_train   10148\n",
       "6                       LSTM    3992\n",
       "7                 y_test_reg    3896\n",
       "8                      Dense    2456\n",
       "9                 Sequential    2456\n",
       "10        df_predictions_clf    1960\n",
       "11                test_dates    1960\n",
       "12                   Dropout    1688\n",
       "13                    MyLSTM    1688\n",
       "14              feature_list    1664\n",
       "15                   Holiday    1304\n",
       "16                      MACD    1304\n",
       "17           features_to_ema    1184\n",
       "18                    y_test    1064\n",
       "19               y_pred_test    1044\n",
       "20   AbstractHolidayCalendar    1016\n",
       "21                Activation    1016\n",
       "22          AddOtherFeatures    1016\n",
       "23            AddVIXFeatures    1016\n",
       "24             BaseEstimator    1016\n",
       "25      BayesianOptimization    1016\n",
       "26          BayesianSearchCV    1016\n",
       "27                   Counter    1016\n",
       "28           DateTransformer    1016\n",
       "29      DayOfYearTransformer    1016\n",
       "..                       ...     ...\n",
       "130                      sns      80\n",
       "131                      svm      80\n",
       "132                     tree      80\n",
       "133           clfs_with_prob      64\n",
       "134               GoodFriday      56\n",
       "135               USLaborDay      56\n",
       "136     USMartinLutherKingJr      56\n",
       "137            USMemorialDay      56\n",
       "138          USPresidentsDay      56\n",
       "139        USThanksgivingDay      56\n",
       "140                        a      56\n",
       "141                      ax1      56\n",
       "142                      ax2      56\n",
       "143                      fig      56\n",
       "144                      fix      56\n",
       "145                    gscv3      56\n",
       "146              my_pipeline      56\n",
       "147          my_pipeline_fs3      56\n",
       "148   pipeline_feature_build      56\n",
       "149           pipeline_scale      56\n",
       "150           print_function      56\n",
       "151                 test_mse      32\n",
       "152                  test_r2      32\n",
       "153                train_mse      32\n",
       "154                 train_r2      32\n",
       "155                   epochs      28\n",
       "156                        i      28\n",
       "157                 lookback      28\n",
       "158               rand_state      28\n",
       "159                  newaxis      16\n",
       "\n",
       "[160 rows x 2 columns]"
      ]
     },
     "execution_count": 22,
     "metadata": {},
     "output_type": "execute_result"
    }
   ],
   "source": [
    "import sys\n",
    "\n",
    "# These are the usual ipython objects, including this one you are creating\n",
    "ipython_vars = ['In', 'Out', 'exit', 'quit', 'get_ipython', 'ipython_vars']\n",
    "\n",
    "# Get a sorted list of the objects and their sizes\n",
    "pd.DataFrame(sorted([(x, sys.getsizeof(globals().get(x))) for x in dir() if not x.startswith('_') and x not in sys.modules and x not in ipython_vars], key=lambda x: x[1], reverse=True))"
   ]
  },
  {
   "cell_type": "code",
   "execution_count": 17,
   "metadata": {
    "scrolled": false
   },
   "outputs": [
    {
     "data": {
      "image/png": "[encoded data removed]",
      "text/plain": [
       "<matplotlib.figure.Figure at 0x1685c470>"
      ]
     },
     "metadata": {},
     "output_type": "display_data"
    }
   ],
   "source": [
    "fix, ax = plt.subplots(1, 2, figsize=(25, 10))\n",
    "ax[0].plot(loss_history['train_mse'], label='Train')\n",
    "ax[0].plot(loss_history['test_mse'], label='Test')\n",
    "ax[1].plot(loss_history['train_r2'], label='Train')\n",
    "ax[1].plot(loss_history['test_r2'], label='Test')\n",
    "plt.ylim(ymin=-0.5)\n",
    "plt.tight_layout()\n",
    "plt.legend()\n",
    "plt.show()"
   ]
  },
  {
   "cell_type": "code",
   "execution_count": null,
   "metadata": {
    "collapsed": true,
    "scrolled": false
   },
   "outputs": [],
   "source": [
    "##########################################################################################################################################################\n",
    "n_splits = 20\n",
    "##########################################################################################################################################################\n",
    "\n",
    "pipeline_scale = Pipeline([\n",
    "#     ('features', FeatureExtractor())\n",
    "    ('scale', preprocessing.StandardScaler()),\n",
    "#     ('pca', decomposition.PCA(n_components=60)),\n",
    "])\n",
    "\n",
    "my_pipeline = pipeline_scale #pipeline_select_features# my_pipeline_fs3# pipeline_select_features \n",
    "# X_train = my_pipeline.fit_transform(X_train)\n",
    "# X_test = my_pipeline.fit_transform(X_test)\n",
    "# X, y , y_reg = get_dataset(how='classification', to_date='2017-06-07')\n",
    "df_predictions_clf = pd.DataFrame(index=y_test_reg.index)\n",
    "clfs_with_prob = []\n",
    "\n",
    "# X_train = pd.DataFrame(my_pipeline.fit_transform(X_train, y), index=X_train.index) # use for given feature set passed in a list using pipeline_select_features\n",
    "# X_test  = pd.DataFrame(my_pipeline.transform(X_test), index=X_test.index)\n",
    "test_dates = X_test_df.index\n",
    "X_train = np.array(my_pipeline.fit_transform(X_train_df)) # use for given feature set passed in a list using pipeline_select_features\n",
    "X_test  = np.array(my_pipeline.transform(X_test_df))\n",
    "\n",
    "for clf_name in tqdm_notebook(sk_zoo_list):\n",
    "    clf = sk_zoo_list[clf_name]\n",
    "    clf.fit(X_train, y_train)\n",
    "    if hasattr(clf, 'predict_proba'):\n",
    "        predictions = clf.predict_proba(X_test)[:,0]\n",
    "    else:\n",
    "        predictions = clf.predict(X_test)\n",
    "    df_predictions_clf.loc[test_dates[-len(predictions):], clf_name] = predictions\n",
    "\n",
    "# Create train and validation sets\n",
    "# tscv = model_selection.TimeSeriesSplit(n_splits=n_splits)\n",
    "# for train_index, test_index in tqdm_notebook(list(tscv.split(X))):\n",
    "#     X_train, X_test, y_train, y_test, test_dates = X.iloc[train_index], X.iloc[test_index], y[train_index], y[test_index], X.index[test_index]\n",
    "#     X_train = pd.DataFrame(my_pipeline.fit_transform(X_train, y), index=X_train.index) # use for given feature set passed in a list using pipeline_select_features\n",
    "#     X_test  = pd.DataFrame(my_pipeline.transform(X_test), index=X_test.index)\n",
    "\n",
    "#     for clf_name in sk_zoo_list:\n",
    "#         clf = sk_zoo_list[clf_name]\n",
    "#         clf.fit(X_train, y_train)\n",
    "#         if hasattr(clf, 'predict_proba'):\n",
    "#             predictions = clf.predict_proba(X_test)[:,0]\n",
    "#         else:\n",
    "#             predictions = clf.predict(X_test)\n",
    "#         df_predictions_clf.loc[test_dates, clf_name] = predictions\n",
    "        \n",
    "# plt.hist(df_results_prob['LogisticGS3'], bins=50)"
   ]
  },
  {
   "cell_type": "code",
   "execution_count": null,
   "metadata": {
    "collapsed": true
   },
   "outputs": [],
   "source": [
    "## POSITIONING DATAFRAME CREATION BASED ON SPECIFIED THRESHOLDS\n",
    "log_prob_long_threshold = 0.50\n",
    "log_prob_short_threshold = 0.50\n",
    "\n",
    "clfs_w_prob, clfs_wo_prob = [clf for clf in sk_zoo_list if hasattr(sk_zoo_list[clf], 'predict_proba')], [clf for clf in sk_zoo_list if not hasattr(sk_zoo_list[clf], 'predict_proba')]\n",
    "df_returns_clf     = pd.DataFrame(data={'Control': -y_test_reg})\n",
    "df_positioning_clf = pd.DataFrame(index=y_test_reg.index)\n",
    "df_positioning_clf[clfs_w_prob] = df_predictions_clf[clfs_w_prob].applymap(lambda x: -1 if x > log_prob_short_threshold else 1 if x < log_prob_long_threshold else 0)\n",
    "df_positioning_clf[clfs_wo_prob] = df_predictions_clf[clfs_wo_prob].applymap(lambda x: -1 if x < 0 else 1 if x > 0 else 0)\n",
    "df_predictions_clf = df_predictions_clf[clfs_w_prob]\n",
    "df_returns_clf = df_positioning_clf.multiply(-df_returns_clf['Control'], axis=0).join(df_returns_clf['Control'])\n",
    "df_returns_clf, df_predictions_clf, df_positioning_clf = df_returns_clf['2009':], df_predictions_clf['2009':], df_positioning_clf['2009':]\n",
    "clf_results_dict = {'returns':df_returns_clf, 'predictions':df_predictions_clf, 'positioning':df_positioning_clf}"
   ]
  },
  {
   "cell_type": "code",
   "execution_count": null,
   "metadata": {
    "collapsed": true,
    "scrolled": false
   },
   "outputs": [],
   "source": [
    "plot_results(clf_results_dict, thresholds=(log_prob_short_threshold, log_prob_long_threshold), days_history=252, plot_regression='LSTM')"
   ]
  },
  {
   "cell_type": "code",
   "execution_count": null,
   "metadata": {
    "collapsed": true,
    "scrolled": false
   },
   "outputs": [],
   "source": [
    "summary_periods = [{'from':'2015', 'to':'2017'}, {'from':'2012', 'to':'2017'}, {'from':'2010', 'to':'2017'}]\n",
    "summary_clf = backtest_summary(df_returns_clf, sample_periods=summary_periods)\n",
    "try: summary_list_clf\n",
    "except: summary_list_clf = []\n",
    "summary_list_clf.append(summary_clf)\n",
    "summary_list_clf[-1]"
   ]
  },
  {
   "cell_type": "code",
   "execution_count": null,
   "metadata": {
    "collapsed": true
   },
   "outputs": [],
   "source": [
    "def plot_confusion_matrix(cm, classes,\n",
    "                          normalize=False,\n",
    "                          title='Confusion matrix',\n",
    "                          cmap=plt.cm.Blues):\n",
    "    \n",
    "    import seaborn as sns; sns.set_style(\"white\")\n",
    "    \"\"\"\n",
    "    This function prints and plots the confusion matrix.\n",
    "    Normalization can be applied by setting `normalize=True`.\n",
    "    \"\"\"\n",
    "    cm_list = [cm] if not isinstance(cm, list) else cm\n",
    "    title = [title + ' 1', title + ' 2'] if not isinstance(title, list) else title\n",
    "    fig, ax = plt.subplots(nrows=1, ncols=len(cm_list), figsize=(7*len(cm_list), 5))\n",
    "    tick_marks = np.arange(len(classes))\n",
    "    plt.setp(ax, xticks=tick_marks, xticklabels=classes, xlabel='Predicted label',\n",
    "             yticks=tick_marks, yticklabels=classes, ylabel='True label')\n",
    "    for k, cm in enumerate(cm_list):\n",
    "        if normalize:\n",
    "            cm = cm.astype('float') / cm.sum(axis=1)[:, np.newaxis]\n",
    "        thresh = cm.mean()\n",
    "        \n",
    "        im = ax[k].imshow(cm, interpolation='nearest', cmap=cmap)\n",
    "        fig.colorbar(im, ax=ax[k])\n",
    "        ax[k].set_title(title[k]+'\\n')\n",
    "        \n",
    "        for i, j in itertools.product(range(cm.shape[0]), range(cm.shape[1])):\n",
    "            ax[k].text(j, i, '{:.0f}%'.format(cm[i, j]*100) if normalize else '{:.2f}'.format(cm[i, j]),\n",
    "                     horizontalalignment=\"center\", verticalalignment='center',\n",
    "                     color=\"white\" if cm[i, j] > thresh else \"black\", fontsize=18)\n",
    "    plt.show()"
   ]
  },
  {
   "cell_type": "code",
   "execution_count": null,
   "metadata": {
    "collapsed": true
   },
   "outputs": [],
   "source": []
  },
  {
   "cell_type": "code",
   "execution_count": null,
   "metadata": {
    "collapsed": true
   },
   "outputs": [],
   "source": []
  },
  {
   "cell_type": "code",
   "execution_count": null,
   "metadata": {
    "collapsed": true,
    "scrolled": false
   },
   "outputs": [],
   "source": [
    "cnf_matrix1 = confusion_matrix(y_train[lookback-1:], y_pred_train)\n",
    "cnf_matrix2 = confusion_matrix(y_test[lookback-1:], y_pred_test)\n",
    "plot_confusion_matrix([cnf_matrix1, cnf_matrix2], classes=['Up','Down'], normalize=True,\n",
    "                      title=['Confusion matrix train', 'Confusion matrix test'])"
   ]
  },
  {
   "cell_type": "code",
   "execution_count": null,
   "metadata": {
    "collapsed": true
   },
   "outputs": [],
   "source": [
    "from __future__ import print_function\n",
    "from keras.models import Sequential\n",
    "from keras.layers import Dense, Activation, Input\n",
    "from keras.layers import LSTM, Embedding, Dropout\n",
    "from keras.utils.np_utils import to_categorical\n",
    "from keras.optimizers import RMSprop\n",
    "from keras.utils.data_utils import get_file\n",
    "from sklearn.preprocessing import LabelEncoder\n",
    "from sklearn.preprocessing import MinMaxScaler\n",
    "from IPython.display import clear_output\n",
    "import matplotlib.pyplot as plt\n",
    "import numpy as np\n",
    "import random\n",
    "import sys\n",
    "import time\n",
    "\n",
    "class MyLSTMTest(LSTM):\n",
    "    \n",
    "    def __init__(self, lstm_layers, activation='linear', loss='mse', metrics=None, optimizer='adam', epochs=10, batch_size=128, step=1, lookback=1, y_to_categorical=True, y_sub={}, **kwargs):\n",
    "    \n",
    "        self.lstm_layers = lstm_layers\n",
    "        self.activation = activation\n",
    "        self.loss = loss\n",
    "        self.metrics = metrics\n",
    "        self.optimizer = optimizer\n",
    "        self.epochs = epochs\n",
    "        self.batch_size = batch_size\n",
    "        self.step = step\n",
    "        self.lookback = lookback\n",
    "        self.kwargs = kwargs\n",
    "        self.y_to_categorical = y_to_categorical\n",
    "        self.fitted = False\n",
    "        self.y_sub = y_sub\n",
    "        self.y_sub_rev = {v:k for k, v in self.y_sub.items()}\n",
    "    \n",
    "    def fit(self, X, y, validation_split=0.0, verbose=2):\n",
    "        \n",
    "        self.X_orig = X\n",
    "        self.y_orig = y\n",
    "        self.verbose = verbose\n",
    "        X_, y_ = self._vectorize(X, y)\n",
    "        self.X_train, self.y_train = X_, y_\n",
    "\n",
    "        if not self.fitted:        \n",
    "\n",
    "            # build the model: a single LSTM\n",
    "            self.model = self.build_model(X_, y_)\n",
    "            self.model.fit(X_, y_, batch_size=self.batch_size, epochs=self.epochs, verbose=verbose)\n",
    "            self.fitted=True\n",
    "        else:\n",
    "            self.model.fit(X_, y_, batch_size=self.batch_size, epochs=self.epochs, validation_split=validation_split, verbose=verbose)\n",
    "\n",
    "    def build_model(self, X_, y_):\n",
    "        \n",
    "        model = Sequential()\n",
    "\n",
    "        model.add(LSTM(\n",
    "            self.lstm_layers[0],\n",
    "            input_shape=(X_.shape[1], X_.shape[2]),\n",
    "            return_sequences=False))\n",
    "        model.add(Dropout(0.2))\n",
    "\n",
    "#         model.add(LSTM(\n",
    "#             layers[2],\n",
    "#             return_sequences=False))\n",
    "#         model.add(Dropout(0.2))\n",
    "\n",
    "        model.add(Dense(units=y_.shape[1]))\n",
    "        model.add(Activation(self.activation))\n",
    "\n",
    "        start = time.time()\n",
    "        model.compile(loss=self.loss, optimizer=self.optimizer)\n",
    "        print(\"> Compilation Time : \", time.time() - start)\n",
    "        return model\n",
    "    \n",
    "    def predict(self, X):\n",
    "        X = self._vectorize(X)\n",
    "        y_pred = self.model.predict(X, batch_size=self.batch_size)\n",
    "        if self.y_sub:\n",
    "            y_pred = np.array([self.y_sub_rev[val] if val in self.y_sub_rev.keys() else val for val in y_pred])\n",
    "        return y_pred\n",
    "\n",
    "    def predict_proba(self, X):\n",
    "        X = self._vectorize(X)\n",
    "        return self.model.predict_proba(X, batch_size=self.batch_size)\n",
    "\n",
    "    def evaluate(self, X, y):\n",
    "        X, y = self._vectorize(X, y)\n",
    "        return self.model.evaluate(X, y, batch_size=self.batch_size)\n",
    "    \n",
    "    def _vectorize(self, X, y=None):\n",
    "        \n",
    "        # Vectorization\n",
    "        dataX, dataY = [], []\n",
    "        for i in range(len(X)-self.lookback+1):\n",
    "            a = X[i:(i+self.lookback), :]\n",
    "            dataX.append(a)\n",
    "            if y is not None:\n",
    "                dataY.append(y[i + self.lookback-1])\n",
    "        dataX = np.array(dataX)\n",
    "        dataY = np.array(dataY)\n",
    "        if y is not None:\n",
    "            if self.y_sub:\n",
    "                dataY = np.array([self.y_sub[val] if val in self.y_sub.keys() else val for val in dataY])\n",
    "            dataY = dataY.reshape(-1,1)\n",
    "            if self.y_to_categorical:\n",
    "                dataY = to_categorical(dataY)\n",
    "            self.X_train, self.y_train = dataX, dataY\n",
    "            return dataX, dataY\n",
    "        else:\n",
    "            return dataX"
   ]
  },
  {
   "cell_type": "code",
   "execution_count": null,
   "metadata": {
    "collapsed": true
   },
   "outputs": [],
   "source": []
  },
  {
   "cell_type": "code",
   "execution_count": null,
   "metadata": {
    "collapsed": true
   },
   "outputs": [],
   "source": []
  }
 ],
 "metadata": {
  "anaconda-cloud": {},
  "git": {
   "suppress_outputs": true
  },
  "kernelspec": {
   "display_name": "Python [conda root]",
   "language": "python",
   "name": "conda-root-py"
  },
  "language_info": {
   "codemirror_mode": {
    "name": "ipython",
    "version": 3
   },
   "file_extension": ".py",
   "mimetype": "text/x-python",
   "name": "python",
   "nbconvert_exporter": "python",
   "pygments_lexer": "ipython3",
   "version": "3.5.3"
  }
 },
 "nbformat": 4,
 "nbformat_minor": 1
}
