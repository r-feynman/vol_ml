{
 "cells": [
  {
   "cell_type": "code",
   "execution_count": 1,
   "metadata": {},
   "outputs": [],
   "source": [
    "import pandas as pd\n",
    "import pdblp\n",
    "import datetime\n",
    "from dateutil.parser import parse\n",
    "import numpy as np"
   ]
  },
  {
   "cell_type": "code",
   "execution_count": 2,
   "metadata": {},
   "outputs": [],
   "source": [
    "action_id = \"5154510\""
   ]
  },
  {
   "cell_type": "code",
   "execution_count": 3,
   "metadata": {},
   "outputs": [],
   "source": [
    "deals = [\"5154510\", \"5948716\"]\n",
    "deals = [id + \" Action\" for id in deals]"
   ]
  },
  {
   "cell_type": "code",
   "execution_count": 4,
   "metadata": {},
   "outputs": [],
   "source": [
    "date = datetime.datetime.today().date()\n",
    "con = pdblp.BCon(debug=False, timeout=5000)\n",
    "con.start()\n",
    "df_tmp1 = con.ref(deals, 'CA057')#, start_date=date.strftime('%y%m%d'), end_date=date.strftime('%y%m%d'))\n",
    "con.stop()"
   ]
  },
  {
   "cell_type": "code",
   "execution_count": 5,
   "metadata": {},
   "outputs": [
    {
     "data": {
      "text/html": [
       "<div>\n",
       "<style scoped>\n",
       "    .dataframe tbody tr th:only-of-type {\n",
       "        vertical-align: middle;\n",
       "    }\n",
       "\n",
       "    .dataframe tbody tr th {\n",
       "        vertical-align: top;\n",
       "    }\n",
       "\n",
       "    .dataframe thead th {\n",
       "        text-align: right;\n",
       "    }\n",
       "</style>\n",
       "<table border=\"1\" class=\"dataframe\">\n",
       "  <thead>\n",
       "    <tr style=\"text-align: right;\">\n",
       "      <th></th>\n",
       "      <th>ticker</th>\n",
       "      <th>field</th>\n",
       "      <th>value</th>\n",
       "    </tr>\n",
       "  </thead>\n",
       "  <tbody>\n",
       "    <tr>\n",
       "      <th>0</th>\n",
       "      <td>5154510 Action</td>\n",
       "      <td>CA057</td>\n",
       "      <td>2000-01-10</td>\n",
       "    </tr>\n",
       "    <tr>\n",
       "      <th>1</th>\n",
       "      <td>5948716 Action</td>\n",
       "      <td>CA057</td>\n",
       "      <td>1999-11-14</td>\n",
       "    </tr>\n",
       "  </tbody>\n",
       "</table>\n",
       "</div>"
      ],
      "text/plain": [
       "           ticker  field       value\n",
       "0  5154510 Action  CA057  2000-01-10\n",
       "1  5948716 Action  CA057  1999-11-14"
      ]
     },
     "execution_count": 5,
     "metadata": {},
     "output_type": "execute_result"
    }
   ],
   "source": [
    "df_tmp1"
   ]
  },
  {
   "cell_type": "code",
   "execution_count": 6,
   "metadata": {},
   "outputs": [],
   "source": [
    "moneyness = ['80', '90.0', '95.0', '97.5', '100.0', '102.5', '105.0', '110.0', '120']\n",
    "tenors = ['30DAY', '60DAY', '3MTH', '6MTH', '12MTH', '18MTH', '24MTH']\n",
    "\n",
    "df = pd.DataFrame(index=tenors, columns=moneyness)\n",
    "\n",
    "vol_fields = []\n",
    "\n",
    "for i in tenors:\n",
    "    for j in moneyness:\n",
    "        vol_fields.append(\"{}_IMPVOL_{}%MNY_DF\".format(i, j))"
   ]
  },
  {
   "cell_type": "code",
   "execution_count": 7,
   "metadata": {},
   "outputs": [
    {
     "name": "stdout",
     "output_type": "stream",
     "text": [
      "Index(['30DAY', '60DAY', '3MTH', '6MTH', '12MTH', '18MTH', '24MTH'], dtype='object') 80\n",
      "Index(['30DAY', '60DAY', '3MTH', '6MTH', '12MTH', '18MTH', '24MTH'], dtype='object') 90.0\n",
      "Index(['30DAY', '60DAY', '3MTH', '6MTH', '12MTH', '18MTH', '24MTH'], dtype='object') 95.0\n",
      "Index(['30DAY', '60DAY', '3MTH', '6MTH', '12MTH', '18MTH', '24MTH'], dtype='object') 97.5\n",
      "Index(['30DAY', '60DAY', '3MTH', '6MTH', '12MTH', '18MTH', '24MTH'], dtype='object') 100.0\n",
      "Index(['30DAY', '60DAY', '3MTH', '6MTH', '12MTH', '18MTH', '24MTH'], dtype='object') 102.5\n",
      "Index(['30DAY', '60DAY', '3MTH', '6MTH', '12MTH', '18MTH', '24MTH'], dtype='object') 105.0\n",
      "Index(['30DAY', '60DAY', '3MTH', '6MTH', '12MTH', '18MTH', '24MTH'], dtype='object') 110.0\n",
      "Index(['30DAY', '60DAY', '3MTH', '6MTH', '12MTH', '18MTH', '24MTH'], dtype='object') 120\n"
     ]
    }
   ],
   "source": [
    "for i, j in df.iteritems():\n",
    "    print(j.index, i)"
   ]
  },
  {
   "cell_type": "code",
   "execution_count": 8,
   "metadata": {},
   "outputs": [],
   "source": [
    "def batch(iterable, n=1):\n",
    "    l = len(iterable)\n",
    "    for ndx in range(0, l, n):\n",
    "        yield iterable[ndx:min(ndx + n, l)]\n",
    "\n",
    "date = parse(\"10/23/2015\")\n",
    "start_date = parse(\"20060101\")\n",
    "end_date = parse(\"20061231\")"
   ]
  },
  {
   "cell_type": "code",
   "execution_count": 9,
   "metadata": {},
   "outputs": [],
   "source": [
    "def get_vol_surface(ticker, date):\n",
    "    \n",
    "    def batch(iterable, n=1):\n",
    "        l = len(iterable)\n",
    "        for ndx in range(0, l, n):\n",
    "            yield iterable[ndx:min(ndx + n, l)]\n",
    "\n",
    "    if not isinstance(date, datetime.date):\n",
    "        date = parse(date)\n",
    "\n",
    "    vols_list = []\n",
    "\n",
    "    for fields in batch(vol_fields, 25):\n",
    "        try:\n",
    "            con = pdblp.BCon(debug=False)\n",
    "            con.start()\n",
    "            df_tmp = con.bdh(ticker, fields,\n",
    "                              start_date=date.strftime('%y%m%d'),\n",
    "                              end_date=date.strftime('%y%m%d'))\n",
    "            con.stop()\n",
    "            vols_list.extend(list(df_tmp.values[0]))\n",
    "        except Exception as e:\n",
    "            raise(e)\n",
    "            con.stop()\n",
    "            \n",
    "    df = pd.DataFrame(np.array(vols_list).reshape(len(tenors), len(moneyness)), \n",
    "                      index=tenors, columns=moneyness)\n",
    "    return df"
   ]
  },
  {
   "cell_type": "code",
   "execution_count": 10,
   "metadata": {},
   "outputs": [],
   "source": [
    "bd = get_vol_surface('RAD US Equity', '10/23/2015')"
   ]
  },
  {
   "cell_type": "code",
   "execution_count": 11,
   "metadata": {},
   "outputs": [],
   "source": [
    "ad = get_vol_surface('RAD US Equity', '11/24/2015')"
   ]
  },
  {
   "cell_type": "code",
   "execution_count": 12,
   "metadata": {},
   "outputs": [],
   "source": [
    "from mpl_toolkits.mplot3d import Axes3D\n",
    "from matplotlib import pyplot as plt\n",
    "from matplotlib import cm\n",
    "# %matplotlib inline"
   ]
  },
  {
   "cell_type": "code",
   "execution_count": 13,
   "metadata": {
    "scrolled": false
   },
   "outputs": [
    {
     "data": {
      "text/html": [
       "<div>\n",
       "<style scoped>\n",
       "    .dataframe tbody tr th:only-of-type {\n",
       "        vertical-align: middle;\n",
       "    }\n",
       "\n",
       "    .dataframe tbody tr th {\n",
       "        vertical-align: top;\n",
       "    }\n",
       "\n",
       "    .dataframe thead th {\n",
       "        text-align: right;\n",
       "    }\n",
       "</style>\n",
       "<table border=\"1\" class=\"dataframe\">\n",
       "  <thead>\n",
       "    <tr style=\"text-align: right;\">\n",
       "      <th></th>\n",
       "      <th>80</th>\n",
       "      <th>90.0</th>\n",
       "      <th>95.0</th>\n",
       "      <th>97.5</th>\n",
       "      <th>100.0</th>\n",
       "      <th>102.5</th>\n",
       "      <th>105.0</th>\n",
       "      <th>110.0</th>\n",
       "      <th>120</th>\n",
       "    </tr>\n",
       "  </thead>\n",
       "  <tbody>\n",
       "    <tr>\n",
       "      <th>30DAY</th>\n",
       "      <td>-33.1323</td>\n",
       "      <td>-28.8652</td>\n",
       "      <td>-25.6152</td>\n",
       "      <td>-24.2040</td>\n",
       "      <td>-24.6538</td>\n",
       "      <td>-25.1039</td>\n",
       "      <td>-25.5541</td>\n",
       "      <td>-26.9889</td>\n",
       "      <td>-26.9144</td>\n",
       "    </tr>\n",
       "    <tr>\n",
       "      <th>60DAY</th>\n",
       "      <td>-9.6980</td>\n",
       "      <td>-20.3177</td>\n",
       "      <td>-22.2869</td>\n",
       "      <td>-23.3948</td>\n",
       "      <td>-25.6381</td>\n",
       "      <td>-26.5690</td>\n",
       "      <td>-26.1318</td>\n",
       "      <td>-25.1438</td>\n",
       "      <td>-20.1135</td>\n",
       "    </tr>\n",
       "    <tr>\n",
       "      <th>3MTH</th>\n",
       "      <td>-11.9720</td>\n",
       "      <td>-18.1391</td>\n",
       "      <td>-20.6495</td>\n",
       "      <td>-21.9430</td>\n",
       "      <td>-23.6871</td>\n",
       "      <td>-24.8227</td>\n",
       "      <td>-25.3130</td>\n",
       "      <td>-26.1624</td>\n",
       "      <td>-23.3603</td>\n",
       "    </tr>\n",
       "    <tr>\n",
       "      <th>6MTH</th>\n",
       "      <td>-15.5708</td>\n",
       "      <td>-18.2896</td>\n",
       "      <td>-20.3045</td>\n",
       "      <td>-21.3431</td>\n",
       "      <td>-22.6684</td>\n",
       "      <td>-23.7280</td>\n",
       "      <td>-24.5160</td>\n",
       "      <td>-26.0922</td>\n",
       "      <td>-26.1777</td>\n",
       "    </tr>\n",
       "    <tr>\n",
       "      <th>12MTH</th>\n",
       "      <td>-15.6296</td>\n",
       "      <td>-18.8377</td>\n",
       "      <td>-20.3509</td>\n",
       "      <td>-21.1079</td>\n",
       "      <td>-21.9080</td>\n",
       "      <td>-22.6472</td>\n",
       "      <td>-23.3267</td>\n",
       "      <td>-24.6833</td>\n",
       "      <td>-26.9138</td>\n",
       "    </tr>\n",
       "    <tr>\n",
       "      <th>18MTH</th>\n",
       "      <td>-15.8027</td>\n",
       "      <td>-19.2986</td>\n",
       "      <td>-20.7894</td>\n",
       "      <td>-21.5364</td>\n",
       "      <td>-22.2844</td>\n",
       "      <td>-23.0333</td>\n",
       "      <td>-23.7833</td>\n",
       "      <td>-25.2862</td>\n",
       "      <td>-28.0228</td>\n",
       "    </tr>\n",
       "    <tr>\n",
       "      <th>24MTH</th>\n",
       "      <td>-15.3873</td>\n",
       "      <td>-19.1874</td>\n",
       "      <td>-21.0256</td>\n",
       "      <td>-21.9456</td>\n",
       "      <td>-22.8663</td>\n",
       "      <td>-23.7876</td>\n",
       "      <td>-24.7094</td>\n",
       "      <td>-26.5550</td>\n",
       "      <td>-29.4884</td>\n",
       "    </tr>\n",
       "  </tbody>\n",
       "</table>\n",
       "</div>"
      ],
      "text/plain": [
       "            80     90.0     95.0     97.5    100.0    102.5    105.0    110.0  \\\n",
       "30DAY -33.1323 -28.8652 -25.6152 -24.2040 -24.6538 -25.1039 -25.5541 -26.9889   \n",
       "60DAY  -9.6980 -20.3177 -22.2869 -23.3948 -25.6381 -26.5690 -26.1318 -25.1438   \n",
       "3MTH  -11.9720 -18.1391 -20.6495 -21.9430 -23.6871 -24.8227 -25.3130 -26.1624   \n",
       "6MTH  -15.5708 -18.2896 -20.3045 -21.3431 -22.6684 -23.7280 -24.5160 -26.0922   \n",
       "12MTH -15.6296 -18.8377 -20.3509 -21.1079 -21.9080 -22.6472 -23.3267 -24.6833   \n",
       "18MTH -15.8027 -19.2986 -20.7894 -21.5364 -22.2844 -23.0333 -23.7833 -25.2862   \n",
       "24MTH -15.3873 -19.1874 -21.0256 -21.9456 -22.8663 -23.7876 -24.7094 -26.5550   \n",
       "\n",
       "           120  \n",
       "30DAY -26.9144  \n",
       "60DAY -20.1135  \n",
       "3MTH  -23.3603  \n",
       "6MTH  -26.1777  \n",
       "12MTH -26.9138  \n",
       "18MTH -28.0228  \n",
       "24MTH -29.4884  "
      ]
     },
     "execution_count": 13,
     "metadata": {},
     "output_type": "execute_result"
    }
   ],
   "source": [
    "ad-bd"
   ]
  },
  {
   "cell_type": "code",
   "execution_count": 14,
   "metadata": {},
   "outputs": [],
   "source": [
    "X, Y = np.meshgrid([i for i in range(len(ad.index))], np.asfarray(ad.columns))\n",
    "Z = ad.values.T"
   ]
  },
  {
   "cell_type": "code",
   "execution_count": null,
   "metadata": {
    "scrolled": false
   },
   "outputs": [],
   "source": [
    "# X = np.array([ad.index.values] * len(ad.columns))\n",
    "# Y = np.array([ad.columns.values] * len(ad.index))\n",
    "# Z = ad.values\n",
    "%matplotlib\n",
    "fig = plt.figure(figsize=(15, 8))\n",
    "threedee = fig.add_subplot(111, projection='3d')#.gca(projection='3d')\n",
    "threedee.plot_surface(X, Y, Z, cmap=cm.coolwarm, rstride=1, cstride=1, linewidth=0, antialiased=False)\n",
    "threedee.set_xticklabels(tenors);\n",
    "threedee.view_init(30, 20);\n",
    "threedee.invert_xaxis();\n",
    "threedee.set_zlim(0, 50);\n",
    "\n",
    "for angle in range(0, 360):\n",
    "    threedee.view_init(30, angle)\n",
    "    plt.draw()\n",
    "    plt.pause(.001)"
   ]
  },
  {
   "cell_type": "code",
   "execution_count": 98,
   "metadata": {},
   "outputs": [],
   "source": [
    "X = np.arange(-5, 5, 0.25)\n",
    "Y = np.arange(-5, 5, 0.25)\n",
    "X, Y = np.meshgrid(X, Y)\n",
    "R = np.sqrt(X**2 + Y**2)\n",
    "Z = np.sin(R)\n"
   ]
  }
 ],
 "metadata": {
  "kernelspec": {
   "display_name": "Python [default]",
   "language": "python",
   "name": "python3"
  },
  "language_info": {
   "codemirror_mode": {
    "name": "ipython",
    "version": 3
   },
   "file_extension": ".py",
   "mimetype": "text/x-python",
   "name": "python",
   "nbconvert_exporter": "python",
   "pygments_lexer": "ipython3",
   "version": "3.5.5"
  }
 },
 "nbformat": 4,
 "nbformat_minor": 2
}
